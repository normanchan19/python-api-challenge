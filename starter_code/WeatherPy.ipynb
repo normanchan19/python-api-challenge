{
 "cells": [
  {
   "cell_type": "markdown",
   "metadata": {},
   "source": [
    "# WeatherPy\n",
    "----\n",
    "\n",
    "#### Note\n",
    "* Instructions have been included for each segment. You do not have to follow them exactly, but they are included to help you think through the steps."
   ]
  },
  {
   "cell_type": "markdown",
   "metadata": {},
   "source": [
    "## General Trends:\n",
    "\n",
    "1. From the scatterplot showing Latitude vs. Temperature (F), one can see a definite trend where temperature increases as one approaches 0 degrees latitude and temperature decreases as one gets further away from 0 degrees latitude.\n",
    "\n",
    "2. From the scatterplot showing Latitude vs. Humidity (%), there is a similar trend but with humidity where humidity increases as one approaches the equator and humidity can vary again as one gets further away from the equator.\n",
    "\n",
    "3. From the scatterplot showing Latitude vs Cloudiness (%), there seems to be a trend where cloudiness increases as one gets further away from the equator."
   ]
  },
  {
   "cell_type": "code",
   "execution_count": 1,
   "metadata": {
    "scrolled": false
   },
   "outputs": [
    {
     "name": "stdout",
     "output_type": "stream",
     "text": [
      "Requirement already satisfied: citipy in c:\\users\\norma\\anaconda3\\lib\\site-packages (0.0.5)\n",
      "Requirement already satisfied: kdtree>=0.12 in c:\\users\\norma\\anaconda3\\lib\\site-packages (from citipy) (0.16)\n"
     ]
    }
   ],
   "source": [
    "!pip install citipy"
   ]
  },
  {
   "cell_type": "code",
   "execution_count": 2,
   "metadata": {
    "scrolled": true
   },
   "outputs": [],
   "source": [
    "# Dependencies and Setup\n",
    "import matplotlib.pyplot as plt\n",
    "import pandas as pd\n",
    "import numpy as np\n",
    "import requests\n",
    "import time\n",
    "from scipy.stats import linregress\n",
    "\n",
    "# Import API key\n",
    "from api_keys import weather_api_key\n",
    "\n",
    "# Incorporated citipy to determine city based on latitude and longitude\n",
    "from citipy import citipy\n",
    "\n",
    "# Output File (CSV)\n",
    "output_data_file = \"output_data/cities.csv\"\n",
    "\n",
    "# Range of latitudes and longitudes\n",
    "lat_range = (-90, 90)\n",
    "lng_range = (-180, 180)"
   ]
  },
  {
   "cell_type": "markdown",
   "metadata": {},
   "source": [
    "## Generate Cities List"
   ]
  },
  {
   "cell_type": "code",
   "execution_count": 3,
   "metadata": {},
   "outputs": [
    {
     "data": {
      "text/plain": [
       "602"
      ]
     },
     "execution_count": 3,
     "metadata": {},
     "output_type": "execute_result"
    }
   ],
   "source": [
    "# List for holding lat_lngs and cities\n",
    "lat_lngs = []\n",
    "cities = []\n",
    "\n",
    "# Create a set of random lat and lng combinations\n",
    "lats = np.random.uniform(lat_range[0], lat_range[1], size=1500)\n",
    "lngs = np.random.uniform(lng_range[0], lng_range[1], size=1500)\n",
    "lat_lngs = zip(lats, lngs)\n",
    "\n",
    "# Identify nearest city for each lat, lng combination\n",
    "for lat_lng in lat_lngs:\n",
    "    city = citipy.nearest_city(lat_lng[0], lat_lng[1]).city_name\n",
    "    \n",
    "    # If the city is unique, then add it to a our cities list\n",
    "    if city not in cities:\n",
    "        cities.append(city)\n",
    "\n",
    "# Print the city count to confirm sufficient count\n",
    "len(cities)"
   ]
  },
  {
   "cell_type": "markdown",
   "metadata": {},
   "source": [
    "### Perform API Calls\n",
    "* Perform a weather check on each city using a series of successive API calls.\n",
    "* Include a print log of each city as it'sbeing processed (with the city number and city name).\n"
   ]
  },
  {
   "cell_type": "code",
   "execution_count": 4,
   "metadata": {},
   "outputs": [],
   "source": [
    "# This block is testing short list of cities\n",
    "\n",
    "#cities = ['georgetown', 'Los Angeles', 'Indianapolis', 'Hong Kong', 'Taipei', 'London']"
   ]
  },
  {
   "cell_type": "code",
   "execution_count": 5,
   "metadata": {
    "scrolled": true
   },
   "outputs": [
    {
     "data": {
      "text/plain": [
       "['makakilo city',\n",
       " 'kodinsk',\n",
       " 'banda aceh',\n",
       " 'port alfred',\n",
       " 'matara',\n",
       " 'ures',\n",
       " 'busselton',\n",
       " 'atuona',\n",
       " 'airai',\n",
       " 'lokot']"
      ]
     },
     "execution_count": 5,
     "metadata": {},
     "output_type": "execute_result"
    }
   ],
   "source": [
    "cities[:10]"
   ]
  },
  {
   "cell_type": "code",
   "execution_count": 6,
   "metadata": {},
   "outputs": [
    {
     "name": "stdout",
     "output_type": "stream",
     "text": [
      "Weather data for city 0, makakilo city, retrieved.\n",
      "Weather data for city 1, kodinsk, retrieved.\n",
      "Weather data for city 2, banda aceh, retrieved.\n",
      "Weather data for city 3, port alfred, retrieved.\n",
      "Weather data for city 4, matara, retrieved.\n",
      "Weather data for city 5, ures, retrieved.\n",
      "Weather data for city 6, busselton, retrieved.\n",
      "Weather data for city 7, atuona, retrieved.\n",
      "Weather data for city 8, airai, retrieved.\n",
      "Weather data for city 9, lokot, retrieved.\n",
      "Something went wrong retrieving the weather data for city 10, sentyabrskiy, it has been removed from the list of cities.\n",
      "Weather data for city 11, rikitea, retrieved.\n",
      "Weather data for city 12, mersing, retrieved.\n",
      "Weather data for city 13, ylivieska, retrieved.\n",
      "Weather data for city 14, mataura, retrieved.\n",
      "Weather data for city 15, ekuvukeni, retrieved.\n",
      "Weather data for city 16, ushuaia, retrieved.\n",
      "Weather data for city 17, los llanos de aridane, retrieved.\n",
      "Weather data for city 18, orsk, retrieved.\n",
      "Weather data for city 19, nikolskoye, retrieved.\n",
      "Something went wrong retrieving the weather data for city 20, amderma, it has been removed from the list of cities.\n",
      "Weather data for city 21, labuhan, retrieved.\n",
      "Weather data for city 22, port elizabeth, retrieved.\n",
      "Weather data for city 23, iqaluit, retrieved.\n",
      "Weather data for city 24, almetyevsk, retrieved.\n",
      "Weather data for city 25, tilichiki, retrieved.\n",
      "Weather data for city 26, hasaki, retrieved.\n",
      "Weather data for city 27, dikson, retrieved.\n",
      "Weather data for city 28, abu samrah, retrieved.\n",
      "Weather data for city 29, bredasdorp, retrieved.\n",
      "Weather data for city 30, klaksvik, retrieved.\n",
      "Weather data for city 31, hambantota, retrieved.\n",
      "Weather data for city 32, tura, retrieved.\n",
      "Weather data for city 33, medicine hat, retrieved.\n",
      "Weather data for city 34, nome, retrieved.\n",
      "Weather data for city 35, praia da vitoria, retrieved.\n",
      "Weather data for city 36, peterhead, retrieved.\n",
      "Weather data for city 37, naryan-mar, retrieved.\n",
      "Weather data for city 38, esperance, retrieved.\n",
      "Weather data for city 39, cherskiy, retrieved.\n",
      "Weather data for city 40, bara, retrieved.\n",
      "Weather data for city 41, zhoucheng, retrieved.\n",
      "Weather data for city 42, tuktoyaktuk, retrieved.\n",
      "Weather data for city 43, byron bay, retrieved.\n",
      "Weather data for city 44, alofi, retrieved.\n",
      "Weather data for city 45, morondava, retrieved.\n",
      "Weather data for city 46, lorengau, retrieved.\n",
      "Weather data for city 47, anori, retrieved.\n",
      "Weather data for city 48, isangel, retrieved.\n",
      "Weather data for city 49, sitka, retrieved.\n",
      "Weather data for city 50, punta arenas, retrieved.\n",
      "Something went wrong retrieving the weather data for city 51, grand river south east, it has been removed from the list of cities.\n",
      "Weather data for city 52, vaini, retrieved.\n",
      "Weather data for city 53, malinovka, retrieved.\n",
      "Weather data for city 54, mar del plata, retrieved.\n",
      "Something went wrong retrieving the weather data for city 55, umzimvubu, it has been removed from the list of cities.\n",
      "Weather data for city 56, kapaa, retrieved.\n",
      "Something went wrong retrieving the weather data for city 57, tsihombe, it has been removed from the list of cities.\n",
      "Weather data for city 58, zafra, retrieved.\n",
      "Weather data for city 59, barrow, retrieved.\n",
      "Weather data for city 60, vostok, retrieved.\n",
      "Weather data for city 61, hamilton, retrieved.\n",
      "Weather data for city 62, mahebourg, retrieved.\n",
      "Weather data for city 63, hilo, retrieved.\n",
      "Weather data for city 64, general roca, retrieved.\n",
      "Weather data for city 65, khorixas, retrieved.\n",
      "Weather data for city 66, gayny, retrieved.\n",
      "Weather data for city 67, denpasar, retrieved.\n",
      "Weather data for city 68, leningradskiy, retrieved.\n",
      "Weather data for city 69, kyaikto, retrieved.\n",
      "Weather data for city 70, roald, retrieved.\n",
      "Weather data for city 71, new norfolk, retrieved.\n",
      "Weather data for city 72, georgetown, retrieved.\n",
      "Weather data for city 73, severnyy, retrieved.\n",
      "Weather data for city 74, taveta, retrieved.\n",
      "Weather data for city 75, cananeia, retrieved.\n",
      "Weather data for city 76, bluff, retrieved.\n",
      "Weather data for city 77, kaitangata, retrieved.\n",
      "Weather data for city 78, dolores, retrieved.\n",
      "Weather data for city 79, arman, retrieved.\n",
      "Weather data for city 80, saint george, retrieved.\n",
      "Weather data for city 81, hobart, retrieved.\n",
      "Weather data for city 82, polyarnyy, retrieved.\n",
      "Weather data for city 83, albany, retrieved.\n",
      "Weather data for city 84, hirara, retrieved.\n",
      "Weather data for city 85, cape town, retrieved.\n",
      "Weather data for city 86, kodiak, retrieved.\n",
      "Weather data for city 87, butaritari, retrieved.\n",
      "Weather data for city 88, lebu, retrieved.\n",
      "Something went wrong retrieving the weather data for city 89, skagastrond, it has been removed from the list of cities.\n",
      "Weather data for city 90, carnarvon, retrieved.\n",
      "Weather data for city 91, pasni, retrieved.\n",
      "Weather data for city 92, ahipara, retrieved.\n",
      "Weather data for city 93, shush, retrieved.\n",
      "Something went wrong retrieving the weather data for city 94, saleaula, it has been removed from the list of cities.\n",
      "Weather data for city 95, salinopolis, retrieved.\n",
      "Weather data for city 96, japura, retrieved.\n",
      "Something went wrong retrieving the weather data for city 97, nguiu, it has been removed from the list of cities.\n",
      "Weather data for city 98, lubango, retrieved.\n",
      "Weather data for city 99, dicabisagan, retrieved.\n",
      "Weather data for city 100, dawei, retrieved.\n",
      "Weather data for city 101, narsaq, retrieved.\n",
      "Weather data for city 102, bengkulu, retrieved.\n",
      "Weather data for city 103, mana, retrieved.\n",
      "Weather data for city 104, taoudenni, retrieved.\n",
      "Weather data for city 105, hattiesburg, retrieved.\n",
      "Weather data for city 106, florence, retrieved.\n",
      "Weather data for city 107, praya, retrieved.\n",
      "Weather data for city 108, millinocket, retrieved.\n",
      "Weather data for city 109, sao joao da barra, retrieved.\n",
      "Weather data for city 110, oussouye, retrieved.\n",
      "Weather data for city 111, beyneu, retrieved.\n",
      "Weather data for city 112, ternate, retrieved.\n",
      "Weather data for city 113, ketchikan, retrieved.\n",
      "Weather data for city 114, san cristobal, retrieved.\n",
      "Weather data for city 115, gobabis, retrieved.\n",
      "Weather data for city 116, baie-comeau, retrieved.\n",
      "Something went wrong retrieving the weather data for city 117, attawapiskat, it has been removed from the list of cities.\n",
      "Weather data for city 118, suoyarvi, retrieved.\n",
      "Weather data for city 119, sabha, retrieved.\n",
      "Weather data for city 120, zorritos, retrieved.\n",
      "Weather data for city 121, paka, retrieved.\n",
      "Weather data for city 122, hithadhoo, retrieved.\n",
      "Something went wrong retrieving the weather data for city 123, taolanaro, it has been removed from the list of cities.\n",
      "Weather data for city 124, richards bay, retrieved.\n",
      "Weather data for city 125, noumea, retrieved.\n",
      "Weather data for city 126, obama, retrieved.\n",
      "Weather data for city 127, riyadh, retrieved.\n",
      "Weather data for city 128, puerto ayora, retrieved.\n",
      "Something went wrong retrieving the weather data for city 129, illoqqortoormiut, it has been removed from the list of cities.\n",
      "Weather data for city 130, jamestown, retrieved.\n",
      "Weather data for city 131, bonnyville, retrieved.\n",
      "Something went wrong retrieving the weather data for city 132, wahran, it has been removed from the list of cities.\n",
      "Weather data for city 133, qaanaaq, retrieved.\n",
      "Weather data for city 134, hemnesberget, retrieved.\n",
      "Weather data for city 135, bathsheba, retrieved.\n",
      "Weather data for city 136, yellowknife, retrieved.\n",
      "Weather data for city 137, avarua, retrieved.\n",
      "Weather data for city 138, christchurch, retrieved.\n",
      "Weather data for city 139, lavrentiya, retrieved.\n",
      "Weather data for city 140, provideniya, retrieved.\n",
      "Weather data for city 141, granadilla de abona, retrieved.\n",
      "Weather data for city 142, hermanus, retrieved.\n",
      "Weather data for city 143, port hardy, retrieved.\n",
      "Weather data for city 144, tessalit, retrieved.\n",
      "Weather data for city 145, ancud, retrieved.\n",
      "Weather data for city 146, huilong, retrieved.\n",
      "Weather data for city 147, salalah, retrieved.\n",
      "Something went wrong retrieving the weather data for city 148, belushya guba, it has been removed from the list of cities.\n",
      "Weather data for city 149, ribeira grande, retrieved.\n",
      "Weather data for city 150, codrington, retrieved.\n",
      "Weather data for city 151, port blair, retrieved.\n",
      "Weather data for city 152, collingwood, retrieved.\n"
     ]
    },
    {
     "name": "stdout",
     "output_type": "stream",
     "text": [
      "Weather data for city 153, asau, retrieved.\n",
      "Weather data for city 154, charyshskoye, retrieved.\n",
      "Weather data for city 155, whyalla, retrieved.\n",
      "Weather data for city 156, south venice, retrieved.\n",
      "Weather data for city 157, sainthia, retrieved.\n",
      "Weather data for city 158, talaya, retrieved.\n",
      "Weather data for city 159, navirai, retrieved.\n",
      "Something went wrong retrieving the weather data for city 160, samusu, it has been removed from the list of cities.\n",
      "Weather data for city 161, cayenne, retrieved.\n",
      "Weather data for city 162, sao filipe, retrieved.\n",
      "Weather data for city 163, lake forest, retrieved.\n",
      "Weather data for city 164, palmer, retrieved.\n",
      "Weather data for city 165, victoria, retrieved.\n",
      "Something went wrong retrieving the weather data for city 166, umm durman, it has been removed from the list of cities.\n",
      "Weather data for city 167, turukhansk, retrieved.\n",
      "Weather data for city 168, lompoc, retrieved.\n",
      "Weather data for city 169, khatanga, retrieved.\n",
      "Weather data for city 170, ilulissat, retrieved.\n",
      "Weather data for city 171, druzhba, retrieved.\n",
      "Weather data for city 172, vysokogornyy, retrieved.\n",
      "Weather data for city 173, chuy, retrieved.\n",
      "Weather data for city 174, sorata, retrieved.\n",
      "Weather data for city 175, tiksi, retrieved.\n",
      "Weather data for city 176, qaqortoq, retrieved.\n",
      "Weather data for city 177, laguna, retrieved.\n",
      "Weather data for city 178, ostrovnoy, retrieved.\n",
      "Weather data for city 179, husavik, retrieved.\n",
      "Weather data for city 180, faanui, retrieved.\n",
      "Weather data for city 181, quatre cocos, retrieved.\n",
      "Weather data for city 182, gbadolite, retrieved.\n",
      "Something went wrong retrieving the weather data for city 183, mys shmidta, it has been removed from the list of cities.\n",
      "Weather data for city 184, shenjiamen, retrieved.\n",
      "Weather data for city 185, cidreira, retrieved.\n",
      "Weather data for city 186, aviles, retrieved.\n",
      "Weather data for city 187, middleton, retrieved.\n",
      "Weather data for city 188, waharoa, retrieved.\n",
      "Weather data for city 189, bakuriani, retrieved.\n",
      "Weather data for city 190, kassala, retrieved.\n",
      "Weather data for city 191, rio verde de mato grosso, retrieved.\n",
      "Weather data for city 192, kalmunai, retrieved.\n",
      "Weather data for city 193, tsybli, retrieved.\n",
      "Weather data for city 194, marawi, retrieved.\n",
      "Something went wrong retrieving the weather data for city 195, barentsburg, it has been removed from the list of cities.\n",
      "Weather data for city 196, laela, retrieved.\n",
      "Weather data for city 197, kruisfontein, retrieved.\n",
      "Weather data for city 198, severo-kurilsk, retrieved.\n",
      "Weather data for city 199, yulara, retrieved.\n",
      "Weather data for city 200, kahului, retrieved.\n",
      "Weather data for city 201, tateyama, retrieved.\n",
      "Weather data for city 202, antibes, retrieved.\n",
      "Weather data for city 203, monrovia, retrieved.\n",
      "Weather data for city 204, padang, retrieved.\n",
      "Something went wrong retrieving the weather data for city 205, lolua, it has been removed from the list of cities.\n",
      "Weather data for city 206, ponta do sol, retrieved.\n",
      "Something went wrong retrieving the weather data for city 207, chagda, it has been removed from the list of cities.\n",
      "Something went wrong retrieving the weather data for city 208, nizhneyansk, it has been removed from the list of cities.\n",
      "Weather data for city 209, wajid, retrieved.\n",
      "Weather data for city 210, thompson, retrieved.\n",
      "Weather data for city 211, acapulco, retrieved.\n",
      "Something went wrong retrieving the weather data for city 212, vaitupu, it has been removed from the list of cities.\n",
      "Weather data for city 213, sawakin, retrieved.\n",
      "Weather data for city 214, whitehorse, retrieved.\n",
      "Weather data for city 215, coruripe, retrieved.\n",
      "Weather data for city 216, sistranda, retrieved.\n",
      "Something went wrong retrieving the weather data for city 217, tabukiniberu, it has been removed from the list of cities.\n",
      "Weather data for city 218, east london, retrieved.\n",
      "Weather data for city 219, fairbanks, retrieved.\n",
      "Weather data for city 220, hovd, retrieved.\n",
      "Weather data for city 221, kasempa, retrieved.\n",
      "Something went wrong retrieving the weather data for city 222, tumannyy, it has been removed from the list of cities.\n",
      "Weather data for city 223, luganville, retrieved.\n",
      "Something went wrong retrieving the weather data for city 224, tungkang, it has been removed from the list of cities.\n",
      "Weather data for city 225, blackwater, retrieved.\n",
      "Weather data for city 226, upernavik, retrieved.\n",
      "Weather data for city 227, touros, retrieved.\n",
      "Weather data for city 228, castro, retrieved.\n",
      "Weather data for city 229, aklavik, retrieved.\n",
      "Weather data for city 230, wakkanai, retrieved.\n",
      "Weather data for city 231, gouyave, retrieved.\n",
      "Weather data for city 232, pyapon, retrieved.\n",
      "Weather data for city 233, sioux lookout, retrieved.\n",
      "Weather data for city 234, ust-tsilma, retrieved.\n",
      "Something went wrong retrieving the weather data for city 235, dzhusaly, it has been removed from the list of cities.\n",
      "Weather data for city 236, koslan, retrieved.\n",
      "Weather data for city 237, tartagal, retrieved.\n",
      "Weather data for city 238, pevek, retrieved.\n",
      "Something went wrong retrieving the weather data for city 239, skiros, it has been removed from the list of cities.\n",
      "Weather data for city 240, torbay, retrieved.\n",
      "Weather data for city 241, ulaangom, retrieved.\n",
      "Weather data for city 242, coquimbo, retrieved.\n",
      "Weather data for city 243, lexington, retrieved.\n",
      "Weather data for city 244, arraial do cabo, retrieved.\n",
      "Weather data for city 245, lima, retrieved.\n",
      "Weather data for city 246, saskylakh, retrieved.\n",
      "Weather data for city 247, saint-augustin, retrieved.\n",
      "Weather data for city 248, zapolyarnyy, retrieved.\n",
      "Weather data for city 249, constitucion, retrieved.\n",
      "Weather data for city 250, inuvik, retrieved.\n",
      "Weather data for city 251, bafra, retrieved.\n",
      "Weather data for city 252, mkushi, retrieved.\n",
      "Weather data for city 253, krasnaya polyana, retrieved.\n",
      "Weather data for city 254, mikhaylovka, retrieved.\n",
      "Weather data for city 255, adrar, retrieved.\n",
      "Weather data for city 256, camacha, retrieved.\n",
      "Something went wrong retrieving the weather data for city 257, sogdiondon, it has been removed from the list of cities.\n",
      "Weather data for city 258, ndele, retrieved.\n",
      "Weather data for city 259, cabra, retrieved.\n",
      "Weather data for city 260, olga, retrieved.\n",
      "Weather data for city 261, santiago, retrieved.\n",
      "Weather data for city 262, doha, retrieved.\n",
      "Weather data for city 263, ashland, retrieved.\n",
      "Weather data for city 264, log, retrieved.\n",
      "Weather data for city 265, soto la marina, retrieved.\n",
      "Weather data for city 266, urubicha, retrieved.\n",
      "Weather data for city 267, marsa matruh, retrieved.\n",
      "Weather data for city 268, ukiah, retrieved.\n",
      "Weather data for city 269, domoni, retrieved.\n",
      "Weather data for city 270, yeppoon, retrieved.\n",
      "Weather data for city 271, karasuk, retrieved.\n",
      "Weather data for city 272, talnakh, retrieved.\n",
      "Weather data for city 273, hopfgarten, retrieved.\n",
      "Weather data for city 274, ust-kulom, retrieved.\n",
      "Weather data for city 275, aswan, retrieved.\n",
      "Weather data for city 276, bowen, retrieved.\n",
      "Weather data for city 277, pendleton, retrieved.\n",
      "Weather data for city 278, aras, retrieved.\n",
      "Weather data for city 279, hami, retrieved.\n",
      "Weather data for city 280, norman wells, retrieved.\n",
      "Weather data for city 281, nova olimpia, retrieved.\n",
      "Weather data for city 282, whitianga, retrieved.\n",
      "Weather data for city 283, chokurdakh, retrieved.\n",
      "Weather data for city 284, clyde river, retrieved.\n",
      "Weather data for city 285, dingle, retrieved.\n",
      "Weather data for city 286, chenzhou, retrieved.\n",
      "Weather data for city 287, kununurra, retrieved.\n",
      "Weather data for city 288, presidencia roque saenz pena, retrieved.\n",
      "Weather data for city 289, rincon, retrieved.\n",
      "Weather data for city 290, yondo, retrieved.\n",
      "Weather data for city 291, north bend, retrieved.\n",
      "Weather data for city 292, vila velha, retrieved.\n",
      "Weather data for city 293, fortuna, retrieved.\n",
      "Weather data for city 294, devils lake, retrieved.\n",
      "Weather data for city 295, mbalmayo, retrieved.\n",
      "Weather data for city 296, praia, retrieved.\n",
      "Weather data for city 297, nizwa, retrieved.\n",
      "Weather data for city 298, oranjemund, retrieved.\n",
      "Weather data for city 299, zhezkazgan, retrieved.\n",
      "Weather data for city 300, nouadhibou, retrieved.\n",
      "Weather data for city 301, seoul, retrieved.\n",
      "Weather data for city 302, macau, retrieved.\n"
     ]
    },
    {
     "name": "stdout",
     "output_type": "stream",
     "text": [
      "Weather data for city 303, santo antonio do ica, retrieved.\n",
      "Weather data for city 304, souillac, retrieved.\n",
      "Weather data for city 305, korla, retrieved.\n",
      "Weather data for city 306, grindavik, retrieved.\n",
      "Weather data for city 307, burkburnett, retrieved.\n",
      "Weather data for city 308, grand junction, retrieved.\n",
      "Weather data for city 309, tomatlan, retrieved.\n",
      "Weather data for city 310, yol, retrieved.\n",
      "Something went wrong retrieving the weather data for city 311, sinkat, it has been removed from the list of cities.\n",
      "Weather data for city 312, chichli, retrieved.\n",
      "Weather data for city 313, bambanglipuro, retrieved.\n",
      "Weather data for city 314, saint-philippe, retrieved.\n",
      "Weather data for city 315, berlevag, retrieved.\n",
      "Weather data for city 316, unity, retrieved.\n",
      "Weather data for city 317, la carolina, retrieved.\n",
      "Weather data for city 318, vardo, retrieved.\n",
      "Weather data for city 319, barcelona, retrieved.\n",
      "Weather data for city 320, longyearbyen, retrieved.\n",
      "Weather data for city 321, cabo san lucas, retrieved.\n",
      "Weather data for city 322, muisne, retrieved.\n",
      "Weather data for city 323, lethem, retrieved.\n",
      "Weather data for city 324, severo-yeniseyskiy, retrieved.\n",
      "Weather data for city 325, san jose, retrieved.\n",
      "Weather data for city 326, acari, retrieved.\n",
      "Weather data for city 327, esna, retrieved.\n",
      "Weather data for city 328, paamiut, retrieved.\n",
      "Weather data for city 329, korem, retrieved.\n",
      "Weather data for city 330, arvika, retrieved.\n",
      "Weather data for city 331, bambous virieux, retrieved.\n",
      "Weather data for city 332, ponta delgada, retrieved.\n",
      "Weather data for city 333, durango, retrieved.\n",
      "Weather data for city 334, zholymbet, retrieved.\n",
      "Weather data for city 335, nemuro, retrieved.\n",
      "Weather data for city 336, bahia honda, retrieved.\n",
      "Weather data for city 337, jambi, retrieved.\n",
      "Weather data for city 338, salaga, retrieved.\n",
      "Weather data for city 339, emerald, retrieved.\n",
      "Weather data for city 340, luderitz, retrieved.\n",
      "Weather data for city 341, netishyn, retrieved.\n",
      "Weather data for city 342, sao raimundo das mangabeiras, retrieved.\n",
      "Weather data for city 343, toamasina, retrieved.\n",
      "Weather data for city 344, kavieng, retrieved.\n",
      "Weather data for city 345, parkes, retrieved.\n",
      "Weather data for city 346, banbury, retrieved.\n",
      "Weather data for city 347, sehithwa, retrieved.\n",
      "Weather data for city 348, tobol, retrieved.\n",
      "Weather data for city 349, nanakuli, retrieved.\n",
      "Weather data for city 350, pilot butte, retrieved.\n",
      "Weather data for city 351, vanimo, retrieved.\n",
      "Weather data for city 352, belovo, retrieved.\n",
      "Weather data for city 353, thinadhoo, retrieved.\n",
      "Weather data for city 354, fort nelson, retrieved.\n",
      "Weather data for city 355, saldanha, retrieved.\n",
      "Weather data for city 356, tasiilaq, retrieved.\n",
      "Weather data for city 357, suluq, retrieved.\n",
      "Weather data for city 358, pell city, retrieved.\n",
      "Weather data for city 359, nador, retrieved.\n",
      "Weather data for city 360, naze, retrieved.\n",
      "Weather data for city 361, mujiayingzi, retrieved.\n",
      "Weather data for city 362, puerto colombia, retrieved.\n",
      "Something went wrong retrieving the weather data for city 363, deh rawud, it has been removed from the list of cities.\n",
      "Weather data for city 364, genhe, retrieved.\n",
      "Weather data for city 365, kargasok, retrieved.\n",
      "Weather data for city 366, beringovskiy, retrieved.\n",
      "Weather data for city 367, jalu, retrieved.\n",
      "Weather data for city 368, kulhudhuffushi, retrieved.\n",
      "Weather data for city 369, quesnel, retrieved.\n",
      "Weather data for city 370, singaraja, retrieved.\n",
      "Weather data for city 371, san carlos de bariloche, retrieved.\n",
      "Weather data for city 372, ust-ilimsk, retrieved.\n",
      "Weather data for city 373, mareeba, retrieved.\n",
      "Weather data for city 374, taywarah, retrieved.\n",
      "Weather data for city 375, bethel, retrieved.\n",
      "Weather data for city 376, otavi, retrieved.\n",
      "Something went wrong retrieving the weather data for city 377, jinchengjiang, it has been removed from the list of cities.\n",
      "Weather data for city 378, portel, retrieved.\n",
      "Weather data for city 379, gizo, retrieved.\n",
      "Weather data for city 380, pishin, retrieved.\n",
      "Weather data for city 381, pisco, retrieved.\n",
      "Weather data for city 382, waipawa, retrieved.\n",
      "Weather data for city 383, mezhdurechenskiy, retrieved.\n",
      "Weather data for city 384, shihezi, retrieved.\n",
      "Weather data for city 385, lauterbach, retrieved.\n",
      "Weather data for city 386, aksu, retrieved.\n",
      "Something went wrong retrieving the weather data for city 387, faridan, it has been removed from the list of cities.\n",
      "Weather data for city 388, ovsyanka, retrieved.\n",
      "Weather data for city 389, pangnirtung, retrieved.\n",
      "Weather data for city 390, natchitoches, retrieved.\n",
      "Weather data for city 391, concarneau, retrieved.\n",
      "Weather data for city 392, catanduva, retrieved.\n",
      "Something went wrong retrieving the weather data for city 393, palabuhanratu, it has been removed from the list of cities.\n",
      "Weather data for city 394, gejiu, retrieved.\n",
      "Weather data for city 395, puerto penasco, retrieved.\n",
      "Weather data for city 396, arawa, retrieved.\n",
      "Weather data for city 397, keetmanshoop, retrieved.\n",
      "Weather data for city 398, curup, retrieved.\n",
      "Weather data for city 399, cockburn town, retrieved.\n",
      "Weather data for city 400, raudeberg, retrieved.\n",
      "Weather data for city 401, coihaique, retrieved.\n",
      "Weather data for city 402, arlit, retrieved.\n",
      "Weather data for city 403, mount isa, retrieved.\n",
      "Weather data for city 404, hokitika, retrieved.\n",
      "Weather data for city 405, bella union, retrieved.\n",
      "Weather data for city 406, gambiran, retrieved.\n",
      "Weather data for city 407, almaznyy, retrieved.\n",
      "Weather data for city 408, daru, retrieved.\n",
      "Weather data for city 409, mehamn, retrieved.\n",
      "Weather data for city 410, point pedro, retrieved.\n",
      "Weather data for city 411, bandarbeyla, retrieved.\n",
      "Weather data for city 412, wanxian, retrieved.\n",
      "Weather data for city 413, toora-khem, retrieved.\n",
      "Weather data for city 414, akyab, retrieved.\n",
      "Weather data for city 415, hualmay, retrieved.\n",
      "Weather data for city 416, hofn, retrieved.\n",
      "Weather data for city 417, qasigiannguit, retrieved.\n",
      "Weather data for city 418, kokopo, retrieved.\n",
      "Weather data for city 419, kati, retrieved.\n",
      "Weather data for city 420, irituia, retrieved.\n",
      "Weather data for city 421, aripuana, retrieved.\n",
      "Weather data for city 422, sakaiminato, retrieved.\n",
      "Weather data for city 423, nishihara, retrieved.\n",
      "Weather data for city 424, garowe, retrieved.\n",
      "Weather data for city 425, bayan, retrieved.\n",
      "Weather data for city 426, quang ngai, retrieved.\n",
      "Weather data for city 427, portland, retrieved.\n",
      "Weather data for city 428, san quintin, retrieved.\n",
      "Weather data for city 429, vylkove, retrieved.\n",
      "Weather data for city 430, knysna, retrieved.\n",
      "Weather data for city 431, olavarria, retrieved.\n",
      "Weather data for city 432, aracruz, retrieved.\n",
      "Weather data for city 433, mailsi, retrieved.\n",
      "Weather data for city 434, itacoatiara, retrieved.\n",
      "Weather data for city 435, joshimath, retrieved.\n",
      "Weather data for city 436, russell, retrieved.\n",
      "Weather data for city 437, mecca, retrieved.\n",
      "Weather data for city 438, kirando, retrieved.\n",
      "Weather data for city 439, henties bay, retrieved.\n",
      "Weather data for city 440, goderich, retrieved.\n",
      "Weather data for city 441, abonnema, retrieved.\n",
      "Weather data for city 442, tual, retrieved.\n",
      "Weather data for city 443, cap-aux-meules, retrieved.\n",
      "Weather data for city 444, nadym, retrieved.\n",
      "Weather data for city 445, santa maria, retrieved.\n",
      "Weather data for city 446, bereda, retrieved.\n",
      "Weather data for city 447, burnie, retrieved.\n",
      "Weather data for city 448, vlore, retrieved.\n",
      "Weather data for city 449, laurinburg, retrieved.\n",
      "Weather data for city 450, itarema, retrieved.\n",
      "Weather data for city 451, ereymentau, retrieved.\n",
      "Weather data for city 452, rawson, retrieved.\n",
      "Weather data for city 453, kieta, retrieved.\n",
      "Weather data for city 454, rorvik, retrieved.\n",
      "Weather data for city 455, katsuura, retrieved.\n",
      "Weather data for city 456, lata, retrieved.\n",
      "Weather data for city 457, dzaoudzi, retrieved.\n",
      "Weather data for city 458, saint anthony, retrieved.\n",
      "Weather data for city 459, atar, retrieved.\n",
      "Weather data for city 460, ixtapa, retrieved.\n",
      "Something went wrong retrieving the weather data for city 461, rungata, it has been removed from the list of cities.\n",
      "Something went wrong retrieving the weather data for city 462, halalo, it has been removed from the list of cities.\n"
     ]
    },
    {
     "name": "stdout",
     "output_type": "stream",
     "text": [
      "Weather data for city 463, tatsuno, retrieved.\n",
      "Weather data for city 464, sinnamary, retrieved.\n",
      "Weather data for city 465, shingu, retrieved.\n",
      "Weather data for city 466, lovington, retrieved.\n",
      "Something went wrong retrieving the weather data for city 467, bolshegrivskoye, it has been removed from the list of cities.\n",
      "Weather data for city 468, tarauaca, retrieved.\n",
      "Weather data for city 469, lakes entrance, retrieved.\n",
      "Weather data for city 470, chekhov, retrieved.\n",
      "Weather data for city 471, belaya gora, retrieved.\n",
      "Weather data for city 472, ambilobe, retrieved.\n",
      "Weather data for city 473, walcz, retrieved.\n",
      "Weather data for city 474, dunhua, retrieved.\n",
      "Something went wrong retrieving the weather data for city 475, dolbeau, it has been removed from the list of cities.\n",
      "Weather data for city 476, bilibino, retrieved.\n",
      "Weather data for city 477, bubaque, retrieved.\n",
      "Weather data for city 478, priargunsk, retrieved.\n",
      "Something went wrong retrieving the weather data for city 479, sumbawa, it has been removed from the list of cities.\n",
      "Weather data for city 480, tres lagoas, retrieved.\n",
      "Weather data for city 481, mae hong son, retrieved.\n",
      "Weather data for city 482, bogorodskoye, retrieved.\n",
      "Weather data for city 483, nanortalik, retrieved.\n",
      "Weather data for city 484, mollendo, retrieved.\n",
      "Weather data for city 485, ust-nera, retrieved.\n",
      "Weather data for city 486, poum, retrieved.\n",
      "Weather data for city 487, shimoda, retrieved.\n",
      "Weather data for city 488, namatanai, retrieved.\n",
      "Weather data for city 489, hjelset, retrieved.\n",
      "Weather data for city 490, sorong, retrieved.\n",
      "Weather data for city 491, minatitlan, retrieved.\n",
      "Weather data for city 492, turangi, retrieved.\n",
      "Something went wrong retrieving the weather data for city 493, doctor pedro p. pena, it has been removed from the list of cities.\n",
      "Weather data for city 494, kaeo, retrieved.\n",
      "Weather data for city 495, punta alta, retrieved.\n",
      "Weather data for city 496, cururupu, retrieved.\n",
      "Weather data for city 497, avera, retrieved.\n",
      "Weather data for city 498, plymouth, retrieved.\n",
      "Weather data for city 499, mildura, retrieved.\n",
      "Weather data for city 500, mayo, retrieved.\n",
      "Weather data for city 501, merauke, retrieved.\n",
      "Weather data for city 502, mount gambier, retrieved.\n",
      "Weather data for city 503, alakurtti, retrieved.\n",
      "Weather data for city 504, luanda, retrieved.\n",
      "Weather data for city 505, martapura, retrieved.\n",
      "Weather data for city 506, roma, retrieved.\n",
      "Weather data for city 507, bozdar, retrieved.\n",
      "Weather data for city 508, guarda, retrieved.\n",
      "Weather data for city 509, lakatoro, retrieved.\n",
      "Weather data for city 510, comodoro rivadavia, retrieved.\n",
      "Something went wrong retrieving the weather data for city 511, matsanga, it has been removed from the list of cities.\n",
      "Weather data for city 512, two hills, retrieved.\n",
      "Weather data for city 513, bitkine, retrieved.\n",
      "Something went wrong retrieving the weather data for city 514, maymanak, it has been removed from the list of cities.\n",
      "Weather data for city 515, aborlan, retrieved.\n",
      "Weather data for city 516, chapais, retrieved.\n",
      "Weather data for city 517, minggang, retrieved.\n",
      "Weather data for city 518, cape canaveral, retrieved.\n",
      "Weather data for city 519, coos bay, retrieved.\n",
      "Weather data for city 520, westport, retrieved.\n",
      "Weather data for city 521, pringsewu, retrieved.\n",
      "Weather data for city 522, balabac, retrieved.\n",
      "Weather data for city 523, batemans bay, retrieved.\n",
      "Weather data for city 524, amparafaravola, retrieved.\n",
      "Weather data for city 525, balurghat, retrieved.\n",
      "Weather data for city 526, mouila, retrieved.\n",
      "Weather data for city 527, huejuquilla el alto, retrieved.\n",
      "Weather data for city 528, caravelas, retrieved.\n",
      "Weather data for city 529, muyezerskiy, retrieved.\n",
      "Weather data for city 530, andra, retrieved.\n",
      "Weather data for city 531, sangmelima, retrieved.\n",
      "Weather data for city 532, high level, retrieved.\n",
      "Weather data for city 533, cairns, retrieved.\n",
      "Weather data for city 534, parabel, retrieved.\n",
      "Weather data for city 535, gravdal, retrieved.\n",
      "Weather data for city 536, lagoa, retrieved.\n",
      "Weather data for city 537, klyuchi, retrieved.\n",
      "Something went wrong retrieving the weather data for city 538, marcona, it has been removed from the list of cities.\n",
      "Something went wrong retrieving the weather data for city 539, tabiauea, it has been removed from the list of cities.\n",
      "Weather data for city 540, cooma, retrieved.\n",
      "Weather data for city 541, bonavista, retrieved.\n",
      "Weather data for city 542, santa helena de goias, retrieved.\n",
      "Weather data for city 543, viedma, retrieved.\n",
      "Weather data for city 544, port lincoln, retrieved.\n",
      "Weather data for city 545, medford, retrieved.\n",
      "Weather data for city 546, kawalu, retrieved.\n",
      "Weather data for city 547, kangema, retrieved.\n",
      "Weather data for city 548, meulaboh, retrieved.\n",
      "Weather data for city 549, cumra, retrieved.\n",
      "Something went wrong retrieving the weather data for city 550, kimi, it has been removed from the list of cities.\n",
      "Weather data for city 551, dudinka, retrieved.\n",
      "Weather data for city 552, kamenka, retrieved.\n",
      "Weather data for city 553, falmouth, retrieved.\n",
      "Weather data for city 554, misratah, retrieved.\n",
      "Weather data for city 555, zhigansk, retrieved.\n",
      "Weather data for city 556, san isidro, retrieved.\n",
      "Weather data for city 557, kaiserslautern, retrieved.\n",
      "Weather data for city 558, karatsu, retrieved.\n",
      "Weather data for city 559, ballina, retrieved.\n",
      "Weather data for city 560, moyale, retrieved.\n",
      "Weather data for city 561, san luis, retrieved.\n",
      "Weather data for city 562, puruliya, retrieved.\n",
      "Weather data for city 563, panguiranan, retrieved.\n",
      "Weather data for city 564, pyay, retrieved.\n",
      "Weather data for city 565, sambava, retrieved.\n",
      "Weather data for city 566, raga, retrieved.\n",
      "Weather data for city 567, sobolevo, retrieved.\n",
      "Weather data for city 568, collipulli, retrieved.\n",
      "Weather data for city 569, carutapera, retrieved.\n",
      "Weather data for city 570, bihoro, retrieved.\n",
      "Weather data for city 571, riohacha, retrieved.\n",
      "Weather data for city 572, geraldton, retrieved.\n",
      "Weather data for city 573, rundu, retrieved.\n",
      "Weather data for city 574, la orilla, retrieved.\n",
      "Weather data for city 575, guerrero negro, retrieved.\n",
      "Weather data for city 576, san patricio, retrieved.\n",
      "Weather data for city 577, benjamin hill, retrieved.\n",
      "Weather data for city 578, havre-saint-pierre, retrieved.\n",
      "Weather data for city 579, yerofey pavlovich, retrieved.\n",
      "Weather data for city 580, kampot, retrieved.\n",
      "Something went wrong retrieving the weather data for city 581, mahaicony, it has been removed from the list of cities.\n",
      "Weather data for city 582, atasu, retrieved.\n",
      "Weather data for city 583, harper, retrieved.\n",
      "Weather data for city 584, teahupoo, retrieved.\n",
      "Weather data for city 585, aksay, retrieved.\n",
      "Weather data for city 586, olinda, retrieved.\n",
      "Weather data for city 587, palu, retrieved.\n",
      "Weather data for city 588, luba, retrieved.\n",
      "Weather data for city 589, vorgashor, retrieved.\n",
      "Weather data for city 590, tres arroyos, retrieved.\n",
      "Weather data for city 591, placer, retrieved.\n",
      "Weather data for city 592, hobyo, retrieved.\n",
      "Weather data for city 593, kalabo, retrieved.\n",
      "Weather data for city 594, morrisburg, retrieved.\n",
      "Weather data for city 595, sterling, retrieved.\n",
      "Weather data for city 596, cozumel, retrieved.\n",
      "Weather data for city 597, jieshi, retrieved.\n",
      "Something went wrong retrieving the weather data for city 598, taburi, it has been removed from the list of cities.\n",
      "Weather data for city 599, kostek, retrieved.\n",
      "Weather data for city 600, srandakan, retrieved.\n",
      "Weather data for city 601, rabo de peixe, retrieved.\n"
     ]
    }
   ],
   "source": [
    "# Lists to hold relevant data\n",
    "cities_with_weather_data = []\n",
    "cities_with_weather_data_countries = []\n",
    "longitudes = []\n",
    "latitudes = []\n",
    "dates = []\n",
    "temperatures = []\n",
    "humidities = []\n",
    "cloudiness = []\n",
    "wind_speeds = []\n",
    "max_temperatures = []\n",
    "\n",
    "# City index\n",
    "city_index = -1\n",
    "\n",
    "# Count of cities removed from the cities list\n",
    "removed_city_count = 0\n",
    "\n",
    "# Build partial URL\n",
    "url = \"http://api.openweathermap.org/data/2.5/weather?\"\n",
    "units = \"imperial\"\n",
    "\n",
    "# Build query URL\n",
    "query_url = f\"{url}appid={weather_api_key}&units={units}&q=\"\n",
    "\n",
    "# Loop through list of cities\n",
    "for city in cities:\n",
    "    \n",
    "    # Call OpenWeather API for info on specific city\n",
    "    response = requests.get(query_url + city).json()\n",
    "    \n",
    "    city_index = city_index + 1\n",
    "    \n",
    "    # Try to retrieve the city's weather data\n",
    "    try:\n",
    "        \n",
    "        # Add city longitude to longitudes list\n",
    "        longitudes.append(response['coord']['lon'])\n",
    "        \n",
    "        # Add city latitude to latitudes list\n",
    "        latitudes.append(response['coord']['lat'])\n",
    "        \n",
    "        # Add time of weather data collection to date list\n",
    "        dates.append(response['dt'])\n",
    "        \n",
    "        # Add city temperature (F) to temperatures list\n",
    "        temperatures.append(response['main']['temp'])\n",
    "        \n",
    "        # Add city humidty (%) to humidities list\n",
    "        humidities.append(response['main']['humidity'])\n",
    "        \n",
    "        # Add city cloudiness (%) to cloudiness list\n",
    "        cloudiness.append(response['clouds']['all'])\n",
    "        \n",
    "        # Add city wind speed (mph) to wind_speeds list\n",
    "        wind_speeds.append(response['wind']['speed'])\n",
    "        \n",
    "        # Add city temperature (F) to temperatures list\n",
    "        max_temperatures.append(response['main']['temp_max'])\n",
    "        \n",
    "        # Add city whose weather data we retrieved to cities_with_weather_data list\n",
    "        cities_with_weather_data.append(city)\n",
    "        \n",
    "        # Add city's country whose weather data we retrieved to cities_with_weather_data_country list\n",
    "        cities_with_weather_data_countries.append(response['sys']['country'])\n",
    "        \n",
    "        # Print log of cities gathered\n",
    "        print(f\"Weather data for city {city_index}, {city}, retrieved.\")\n",
    "        \n",
    "    # Handle exceptions where the OpenWeatherMap API can't retrieve the city's weather data\n",
    "    except:\n",
    "        \n",
    "        # Print log saying something went wrong\n",
    "        print(f\"Something went wrong retrieving the weather data for city {city_index}, {city}, it has been removed from the list of cities.\")\n",
    "        \n",
    "        # Increase count of removed cities\n",
    "        removed_city_count = removed_city_count + 1\n",
    "        \n",
    "        # Pass and go to next city on cities list\n",
    "        pass"
   ]
  },
  {
   "cell_type": "code",
   "execution_count": 7,
   "metadata": {},
   "outputs": [
    {
     "data": {
      "text/plain": [
       "45"
      ]
     },
     "execution_count": 7,
     "metadata": {},
     "output_type": "execute_result"
    }
   ],
   "source": [
    "removed_city_count"
   ]
  },
  {
   "cell_type": "code",
   "execution_count": 8,
   "metadata": {},
   "outputs": [
    {
     "data": {
      "text/plain": [
       "557"
      ]
     },
     "execution_count": 8,
     "metadata": {},
     "output_type": "execute_result"
    }
   ],
   "source": [
    "len(cities_with_weather_data)"
   ]
  },
  {
   "cell_type": "code",
   "execution_count": 9,
   "metadata": {},
   "outputs": [
    {
     "data": {
      "text/plain": [
       "602"
      ]
     },
     "execution_count": 9,
     "metadata": {},
     "output_type": "execute_result"
    }
   ],
   "source": [
    "len(cities)"
   ]
  },
  {
   "cell_type": "code",
   "execution_count": 10,
   "metadata": {},
   "outputs": [
    {
     "data": {
      "text/plain": [
       "557"
      ]
     },
     "execution_count": 10,
     "metadata": {},
     "output_type": "execute_result"
    }
   ],
   "source": [
    "len(temperatures)"
   ]
  },
  {
   "cell_type": "code",
   "execution_count": 11,
   "metadata": {},
   "outputs": [
    {
     "data": {
      "text/plain": [
       "557"
      ]
     },
     "execution_count": 11,
     "metadata": {},
     "output_type": "execute_result"
    }
   ],
   "source": [
    "len(humidities)"
   ]
  },
  {
   "cell_type": "code",
   "execution_count": 12,
   "metadata": {},
   "outputs": [
    {
     "data": {
      "text/plain": [
       "557"
      ]
     },
     "execution_count": 12,
     "metadata": {},
     "output_type": "execute_result"
    }
   ],
   "source": [
    "len(cloudiness)"
   ]
  },
  {
   "cell_type": "code",
   "execution_count": 13,
   "metadata": {
    "scrolled": true
   },
   "outputs": [
    {
     "data": {
      "text/plain": [
       "557"
      ]
     },
     "execution_count": 13,
     "metadata": {},
     "output_type": "execute_result"
    }
   ],
   "source": [
    "len(wind_speeds)"
   ]
  },
  {
   "cell_type": "code",
   "execution_count": 14,
   "metadata": {},
   "outputs": [
    {
     "data": {
      "text/plain": [
       "557"
      ]
     },
     "execution_count": 14,
     "metadata": {},
     "output_type": "execute_result"
    }
   ],
   "source": [
    "len(latitudes)"
   ]
  },
  {
   "cell_type": "code",
   "execution_count": 15,
   "metadata": {
    "scrolled": true
   },
   "outputs": [
    {
     "data": {
      "text/plain": [
       "[78.87, 43.86, 85.08, 60.66, 85.64, 74.62, 64.99, 79.52, 72.82, 55.51]"
      ]
     },
     "execution_count": 15,
     "metadata": {},
     "output_type": "execute_result"
    }
   ],
   "source": [
    "temperatures[:10]"
   ]
  },
  {
   "cell_type": "code",
   "execution_count": 16,
   "metadata": {
    "scrolled": true
   },
   "outputs": [
    {
     "data": {
      "text/plain": [
       "[47, 32, 73, 85, 72, 36, 65, 66, 50, 90]"
      ]
     },
     "execution_count": 16,
     "metadata": {},
     "output_type": "execute_result"
    }
   ],
   "source": [
    "humidities[:10]"
   ]
  },
  {
   "cell_type": "code",
   "execution_count": 17,
   "metadata": {
    "scrolled": true
   },
   "outputs": [
    {
     "data": {
      "text/plain": [
       "[1, 14, 100, 97, 99, 0, 100, 6, 90, 33]"
      ]
     },
     "execution_count": 17,
     "metadata": {},
     "output_type": "execute_result"
    }
   ],
   "source": [
    "cloudiness[:10]"
   ]
  },
  {
   "cell_type": "code",
   "execution_count": 18,
   "metadata": {
    "scrolled": true
   },
   "outputs": [
    {
     "data": {
      "text/plain": [
       "[10.36, 8.68, 4.29, 16.2, 10.58, 1.99, 1.01, 15.99, 4.52, 5.59]"
      ]
     },
     "execution_count": 18,
     "metadata": {},
     "output_type": "execute_result"
    }
   ],
   "source": [
    "wind_speeds[:10]"
   ]
  },
  {
   "cell_type": "code",
   "execution_count": 19,
   "metadata": {},
   "outputs": [
    {
     "data": {
      "text/plain": [
       "[21.3469,\n",
       " 58.6881,\n",
       " 5.5577,\n",
       " -33.5906,\n",
       " 5.9485,\n",
       " 29.4333,\n",
       " -33.65,\n",
       " -9.8,\n",
       " -8.9266,\n",
       " 52.565]"
      ]
     },
     "execution_count": 19,
     "metadata": {},
     "output_type": "execute_result"
    }
   ],
   "source": [
    "latitudes[:10]"
   ]
  },
  {
   "cell_type": "markdown",
   "metadata": {},
   "source": [
    "### Convert Raw Data to DataFrame\n",
    "* Export the city data into a .csv.\n",
    "* Display the DataFrame"
   ]
  },
  {
   "cell_type": "code",
   "execution_count": 20,
   "metadata": {},
   "outputs": [
    {
     "data": {
      "text/html": [
       "<div>\n",
       "<style scoped>\n",
       "    .dataframe tbody tr th:only-of-type {\n",
       "        vertical-align: middle;\n",
       "    }\n",
       "\n",
       "    .dataframe tbody tr th {\n",
       "        vertical-align: top;\n",
       "    }\n",
       "\n",
       "    .dataframe thead th {\n",
       "        text-align: right;\n",
       "    }\n",
       "</style>\n",
       "<table border=\"1\" class=\"dataframe\">\n",
       "  <thead>\n",
       "    <tr style=\"text-align: right;\">\n",
       "      <th></th>\n",
       "      <th>City</th>\n",
       "      <th>Country</th>\n",
       "      <th>Longitude</th>\n",
       "      <th>Latitude</th>\n",
       "      <th>Date</th>\n",
       "      <th>Temperature (F)</th>\n",
       "      <th>Humidity (%)</th>\n",
       "      <th>Cloudiness (%)</th>\n",
       "      <th>Wind Speed (mph)</th>\n",
       "      <th>Max Temperature (F)</th>\n",
       "    </tr>\n",
       "  </thead>\n",
       "  <tbody>\n",
       "    <tr>\n",
       "      <th>0</th>\n",
       "      <td>makakilo city</td>\n",
       "      <td>US</td>\n",
       "      <td>-158.0858</td>\n",
       "      <td>21.3469</td>\n",
       "      <td>1621136648</td>\n",
       "      <td>78.87</td>\n",
       "      <td>47</td>\n",
       "      <td>1</td>\n",
       "      <td>10.36</td>\n",
       "      <td>82.40</td>\n",
       "    </tr>\n",
       "    <tr>\n",
       "      <th>1</th>\n",
       "      <td>kodinsk</td>\n",
       "      <td>RU</td>\n",
       "      <td>99.1844</td>\n",
       "      <td>58.6881</td>\n",
       "      <td>1621136648</td>\n",
       "      <td>43.86</td>\n",
       "      <td>32</td>\n",
       "      <td>14</td>\n",
       "      <td>8.68</td>\n",
       "      <td>43.86</td>\n",
       "    </tr>\n",
       "    <tr>\n",
       "      <th>2</th>\n",
       "      <td>banda aceh</td>\n",
       "      <td>ID</td>\n",
       "      <td>95.3222</td>\n",
       "      <td>5.5577</td>\n",
       "      <td>1621136648</td>\n",
       "      <td>85.08</td>\n",
       "      <td>73</td>\n",
       "      <td>100</td>\n",
       "      <td>4.29</td>\n",
       "      <td>85.08</td>\n",
       "    </tr>\n",
       "    <tr>\n",
       "      <th>3</th>\n",
       "      <td>port alfred</td>\n",
       "      <td>ZA</td>\n",
       "      <td>26.8910</td>\n",
       "      <td>-33.5906</td>\n",
       "      <td>1621136649</td>\n",
       "      <td>60.66</td>\n",
       "      <td>85</td>\n",
       "      <td>97</td>\n",
       "      <td>16.20</td>\n",
       "      <td>60.66</td>\n",
       "    </tr>\n",
       "    <tr>\n",
       "      <th>4</th>\n",
       "      <td>matara</td>\n",
       "      <td>LK</td>\n",
       "      <td>80.5353</td>\n",
       "      <td>5.9485</td>\n",
       "      <td>1621136649</td>\n",
       "      <td>85.64</td>\n",
       "      <td>72</td>\n",
       "      <td>99</td>\n",
       "      <td>10.58</td>\n",
       "      <td>85.64</td>\n",
       "    </tr>\n",
       "  </tbody>\n",
       "</table>\n",
       "</div>"
      ],
      "text/plain": [
       "            City Country  Longitude  Latitude        Date  Temperature (F)  \\\n",
       "0  makakilo city      US  -158.0858   21.3469  1621136648            78.87   \n",
       "1        kodinsk      RU    99.1844   58.6881  1621136648            43.86   \n",
       "2     banda aceh      ID    95.3222    5.5577  1621136648            85.08   \n",
       "3    port alfred      ZA    26.8910  -33.5906  1621136649            60.66   \n",
       "4         matara      LK    80.5353    5.9485  1621136649            85.64   \n",
       "\n",
       "   Humidity (%)  Cloudiness (%)  Wind Speed (mph)  Max Temperature (F)  \n",
       "0            47               1             10.36                82.40  \n",
       "1            32              14              8.68                43.86  \n",
       "2            73             100              4.29                85.08  \n",
       "3            85              97             16.20                60.66  \n",
       "4            72              99             10.58                85.64  "
      ]
     },
     "execution_count": 20,
     "metadata": {},
     "output_type": "execute_result"
    }
   ],
   "source": [
    "# Create dictionary of weather info in cities\n",
    "weather_dict = {\"City\": cities_with_weather_data,\n",
    "                \"Country\": cities_with_weather_data_countries,\n",
    "                \"Longitude\": longitudes,\n",
    "                \"Latitude\": latitudes,\n",
    "                \"Date\": dates,\n",
    "                \"Temperature (F)\": temperatures,\n",
    "                \"Humidity (%)\": humidities,\n",
    "                \"Cloudiness (%)\": cloudiness,\n",
    "                \"Wind Speed (mph)\": wind_speeds,\n",
    "                \"Max Temperature (F)\": max_temperatures}\n",
    "\n",
    "# Convert weather_dict into dataframe\n",
    "weather_data_df = pd.DataFrame(weather_dict)\n",
    "\n",
    "# Export dataframe to csv\n",
    "weather_data_df.to_csv(\"../output_data/weather_data.csv\", index=False, header=True)\n",
    "\n",
    "# Display dataframe\n",
    "weather_data_df.head()"
   ]
  },
  {
   "cell_type": "code",
   "execution_count": null,
   "metadata": {},
   "outputs": [],
   "source": []
  },
  {
   "cell_type": "markdown",
   "metadata": {},
   "source": [
    "## Inspect the data and remove the cities where the humidity > 100%.\n",
    "----\n",
    "Skip this step if there are no cities that have humidity > 100%. "
   ]
  },
  {
   "cell_type": "code",
   "execution_count": null,
   "metadata": {},
   "outputs": [],
   "source": []
  },
  {
   "cell_type": "code",
   "execution_count": 21,
   "metadata": {},
   "outputs": [
    {
     "data": {
      "text/plain": [
       "[]"
      ]
     },
     "execution_count": 21,
     "metadata": {},
     "output_type": "execute_result"
    }
   ],
   "source": [
    "#  Get the indices of cities that have humidity over 100%.\n",
    "\n",
    "humidity_over_100_indices = weather_data_df.index[weather_data_df[\"Humidity (%)\"] > 100]\n",
    "\n",
    "#humidity_over_100 = weather_data_df[\"Humidity (%)\"] > 100\n",
    "#humidity_over_100_indices = index[humidity_over_100]\n",
    "humidity_over_100_indices_list = humidity_over_100_indices.tolist()\n",
    "humidity_over_100_indices_list"
   ]
  },
  {
   "cell_type": "code",
   "execution_count": 22,
   "metadata": {},
   "outputs": [],
   "source": [
    "# Make a new DataFrame equal to the city data to drop all humidity outliers by index.\n",
    "# Passing \"inplace=False\" will make a copy of the city_data DataFrame, which we call \"clean_city_data\".\n",
    "clean_city_data = weather_data_df.drop(humidity_over_100_indices_list, inplace=False)\n",
    "clean_city_data.reset_index(drop=True, inplace=True)"
   ]
  },
  {
   "cell_type": "code",
   "execution_count": 23,
   "metadata": {
    "scrolled": true
   },
   "outputs": [
    {
     "data": {
      "text/html": [
       "<div>\n",
       "<style scoped>\n",
       "    .dataframe tbody tr th:only-of-type {\n",
       "        vertical-align: middle;\n",
       "    }\n",
       "\n",
       "    .dataframe tbody tr th {\n",
       "        vertical-align: top;\n",
       "    }\n",
       "\n",
       "    .dataframe thead th {\n",
       "        text-align: right;\n",
       "    }\n",
       "</style>\n",
       "<table border=\"1\" class=\"dataframe\">\n",
       "  <thead>\n",
       "    <tr style=\"text-align: right;\">\n",
       "      <th></th>\n",
       "      <th>City</th>\n",
       "      <th>Country</th>\n",
       "      <th>Longitude</th>\n",
       "      <th>Latitude</th>\n",
       "      <th>Date</th>\n",
       "      <th>Temperature (F)</th>\n",
       "      <th>Humidity (%)</th>\n",
       "      <th>Cloudiness (%)</th>\n",
       "      <th>Wind Speed (mph)</th>\n",
       "      <th>Max Temperature (F)</th>\n",
       "    </tr>\n",
       "  </thead>\n",
       "  <tbody>\n",
       "    <tr>\n",
       "      <th>0</th>\n",
       "      <td>makakilo city</td>\n",
       "      <td>US</td>\n",
       "      <td>-158.0858</td>\n",
       "      <td>21.3469</td>\n",
       "      <td>1621136648</td>\n",
       "      <td>78.87</td>\n",
       "      <td>47</td>\n",
       "      <td>1</td>\n",
       "      <td>10.36</td>\n",
       "      <td>82.40</td>\n",
       "    </tr>\n",
       "    <tr>\n",
       "      <th>1</th>\n",
       "      <td>kodinsk</td>\n",
       "      <td>RU</td>\n",
       "      <td>99.1844</td>\n",
       "      <td>58.6881</td>\n",
       "      <td>1621136648</td>\n",
       "      <td>43.86</td>\n",
       "      <td>32</td>\n",
       "      <td>14</td>\n",
       "      <td>8.68</td>\n",
       "      <td>43.86</td>\n",
       "    </tr>\n",
       "    <tr>\n",
       "      <th>2</th>\n",
       "      <td>banda aceh</td>\n",
       "      <td>ID</td>\n",
       "      <td>95.3222</td>\n",
       "      <td>5.5577</td>\n",
       "      <td>1621136648</td>\n",
       "      <td>85.08</td>\n",
       "      <td>73</td>\n",
       "      <td>100</td>\n",
       "      <td>4.29</td>\n",
       "      <td>85.08</td>\n",
       "    </tr>\n",
       "    <tr>\n",
       "      <th>3</th>\n",
       "      <td>port alfred</td>\n",
       "      <td>ZA</td>\n",
       "      <td>26.8910</td>\n",
       "      <td>-33.5906</td>\n",
       "      <td>1621136649</td>\n",
       "      <td>60.66</td>\n",
       "      <td>85</td>\n",
       "      <td>97</td>\n",
       "      <td>16.20</td>\n",
       "      <td>60.66</td>\n",
       "    </tr>\n",
       "    <tr>\n",
       "      <th>4</th>\n",
       "      <td>matara</td>\n",
       "      <td>LK</td>\n",
       "      <td>80.5353</td>\n",
       "      <td>5.9485</td>\n",
       "      <td>1621136649</td>\n",
       "      <td>85.64</td>\n",
       "      <td>72</td>\n",
       "      <td>99</td>\n",
       "      <td>10.58</td>\n",
       "      <td>85.64</td>\n",
       "    </tr>\n",
       "    <tr>\n",
       "      <th>...</th>\n",
       "      <td>...</td>\n",
       "      <td>...</td>\n",
       "      <td>...</td>\n",
       "      <td>...</td>\n",
       "      <td>...</td>\n",
       "      <td>...</td>\n",
       "      <td>...</td>\n",
       "      <td>...</td>\n",
       "      <td>...</td>\n",
       "      <td>...</td>\n",
       "    </tr>\n",
       "    <tr>\n",
       "      <th>552</th>\n",
       "      <td>cozumel</td>\n",
       "      <td>MX</td>\n",
       "      <td>-86.9458</td>\n",
       "      <td>20.5083</td>\n",
       "      <td>1621136687</td>\n",
       "      <td>80.28</td>\n",
       "      <td>78</td>\n",
       "      <td>75</td>\n",
       "      <td>6.91</td>\n",
       "      <td>80.60</td>\n",
       "    </tr>\n",
       "    <tr>\n",
       "      <th>553</th>\n",
       "      <td>jieshi</td>\n",
       "      <td>CN</td>\n",
       "      <td>115.8257</td>\n",
       "      <td>22.8134</td>\n",
       "      <td>1621136855</td>\n",
       "      <td>85.46</td>\n",
       "      <td>73</td>\n",
       "      <td>4</td>\n",
       "      <td>13.31</td>\n",
       "      <td>85.46</td>\n",
       "    </tr>\n",
       "    <tr>\n",
       "      <th>554</th>\n",
       "      <td>kostek</td>\n",
       "      <td>RU</td>\n",
       "      <td>46.8541</td>\n",
       "      <td>43.3439</td>\n",
       "      <td>1621136855</td>\n",
       "      <td>70.70</td>\n",
       "      <td>52</td>\n",
       "      <td>57</td>\n",
       "      <td>10.54</td>\n",
       "      <td>70.70</td>\n",
       "    </tr>\n",
       "    <tr>\n",
       "      <th>555</th>\n",
       "      <td>srandakan</td>\n",
       "      <td>ID</td>\n",
       "      <td>110.2506</td>\n",
       "      <td>-7.9386</td>\n",
       "      <td>1621136856</td>\n",
       "      <td>85.64</td>\n",
       "      <td>66</td>\n",
       "      <td>28</td>\n",
       "      <td>13.15</td>\n",
       "      <td>85.64</td>\n",
       "    </tr>\n",
       "    <tr>\n",
       "      <th>556</th>\n",
       "      <td>rabo de peixe</td>\n",
       "      <td>PT</td>\n",
       "      <td>-25.5833</td>\n",
       "      <td>37.8000</td>\n",
       "      <td>1621136856</td>\n",
       "      <td>64.40</td>\n",
       "      <td>100</td>\n",
       "      <td>75</td>\n",
       "      <td>10.36</td>\n",
       "      <td>64.40</td>\n",
       "    </tr>\n",
       "  </tbody>\n",
       "</table>\n",
       "<p>557 rows × 10 columns</p>\n",
       "</div>"
      ],
      "text/plain": [
       "              City Country  Longitude  Latitude        Date  Temperature (F)  \\\n",
       "0    makakilo city      US  -158.0858   21.3469  1621136648            78.87   \n",
       "1          kodinsk      RU    99.1844   58.6881  1621136648            43.86   \n",
       "2       banda aceh      ID    95.3222    5.5577  1621136648            85.08   \n",
       "3      port alfred      ZA    26.8910  -33.5906  1621136649            60.66   \n",
       "4           matara      LK    80.5353    5.9485  1621136649            85.64   \n",
       "..             ...     ...        ...       ...         ...              ...   \n",
       "552        cozumel      MX   -86.9458   20.5083  1621136687            80.28   \n",
       "553         jieshi      CN   115.8257   22.8134  1621136855            85.46   \n",
       "554         kostek      RU    46.8541   43.3439  1621136855            70.70   \n",
       "555      srandakan      ID   110.2506   -7.9386  1621136856            85.64   \n",
       "556  rabo de peixe      PT   -25.5833   37.8000  1621136856            64.40   \n",
       "\n",
       "     Humidity (%)  Cloudiness (%)  Wind Speed (mph)  Max Temperature (F)  \n",
       "0              47               1             10.36                82.40  \n",
       "1              32              14              8.68                43.86  \n",
       "2              73             100              4.29                85.08  \n",
       "3              85              97             16.20                60.66  \n",
       "4              72              99             10.58                85.64  \n",
       "..            ...             ...               ...                  ...  \n",
       "552            78              75              6.91                80.60  \n",
       "553            73               4             13.31                85.46  \n",
       "554            52              57             10.54                70.70  \n",
       "555            66              28             13.15                85.64  \n",
       "556           100              75             10.36                64.40  \n",
       "\n",
       "[557 rows x 10 columns]"
      ]
     },
     "execution_count": 23,
     "metadata": {},
     "output_type": "execute_result"
    }
   ],
   "source": [
    "clean_city_data"
   ]
  },
  {
   "cell_type": "code",
   "execution_count": null,
   "metadata": {},
   "outputs": [],
   "source": [
    "\n"
   ]
  },
  {
   "cell_type": "markdown",
   "metadata": {},
   "source": [
    "## Plotting the Data\n",
    "* Use proper labeling of the plots using plot titles (including date of analysis) and axes labels.\n",
    "* Save the plotted figures as .pngs."
   ]
  },
  {
   "cell_type": "markdown",
   "metadata": {},
   "source": [
    "## Latitude vs. Temperature Plot"
   ]
  },
  {
   "cell_type": "code",
   "execution_count": 24,
   "metadata": {
    "scrolled": true
   },
   "outputs": [
    {
     "data": {
      "image/png": "[encoded data removed]",
      "text/plain": [
       "<Figure size 576x432 with 1 Axes>"
      ]
     },
     "metadata": {
      "needs_background": "light"
     },
     "output_type": "display_data"
    }
   ],
   "source": [
    "# Create and set figure size\n",
    "fig1, ax1 = plt.subplots(figsize=(8,6));\n",
    "\n",
    "# Create scatterplot\n",
    "ax1.scatter(latitudes, clean_city_data[\"Temperature (F)\"]);\n",
    "\n",
    "# Set chart title and labels\n",
    "ax1.set_title('Latitude vs. Temperature (F)');\n",
    "ax1.set_xlabel('Latitude');\n",
    "ax1.set_ylabel('Temperature (F)');\n",
    "\n",
    "# Save chart as .png\n",
    "plt.savefig(\"../output_data/latitude_vs_temperature_plot.png\")"
   ]
  },
  {
   "cell_type": "markdown",
   "metadata": {},
   "source": [
    "### Analysis:\n",
    "\n",
    "The code is creating a scatterplot of latitude vs temperature. We're taking every city's latitude and temperature and comparing it to the other cities. The general trend is that temperature increases as one approaches the equator, and temperature drops the further one gets from the equator."
   ]
  },
  {
   "cell_type": "markdown",
   "metadata": {},
   "source": [
    "## Latitude vs. Humidity Plot"
   ]
  },
  {
   "cell_type": "code",
   "execution_count": 25,
   "metadata": {},
   "outputs": [
    {
     "data": {
      "image/png": "[encoded data removed]",
      "text/plain": [
       "<Figure size 576x432 with 1 Axes>"
      ]
     },
     "metadata": {
      "needs_background": "light"
     },
     "output_type": "display_data"
    }
   ],
   "source": [
    "# Create and set figure size\n",
    "fig2, ax2 = plt.subplots(figsize=(8,6));\n",
    "\n",
    "# Create scatterplot\n",
    "ax2.scatter(latitudes, clean_city_data[\"Humidity (%)\"]);\n",
    "\n",
    "# Set chart title and labels\n",
    "ax2.set_title('Latitude vs. Humidity (%)');\n",
    "ax2.set_xlabel('Latitude');\n",
    "ax2.set_ylabel('Humidity (%)');\n",
    "\n",
    "# Save chart as .png\n",
    "plt.savefig(\"../output_data/latitude_vs_humidity_plot.png\")"
   ]
  },
  {
   "cell_type": "markdown",
   "metadata": {},
   "source": [
    "### Analysis:\n",
    "\n",
    "The code is creating a scatterplot of latitude vs humidity. We're taking every city's latitude and humidity and comparing it to the other cities. Around the equator, there seems to be almost no cities with low humidity."
   ]
  },
  {
   "cell_type": "markdown",
   "metadata": {},
   "source": [
    "## Latitude vs. Cloudiness Plot"
   ]
  },
  {
   "cell_type": "code",
   "execution_count": 26,
   "metadata": {},
   "outputs": [
    {
     "data": {
      "image/png": "[encoded data removed]",
      "text/plain": [
       "<Figure size 576x432 with 1 Axes>"
      ]
     },
     "metadata": {
      "needs_background": "light"
     },
     "output_type": "display_data"
    }
   ],
   "source": [
    "# Create and set figure size\n",
    "fig3, ax3 = plt.subplots(figsize=(8,6));\n",
    "\n",
    "# Create scatterplot\n",
    "ax3.scatter(latitudes, clean_city_data[\"Cloudiness (%)\"]);\n",
    "\n",
    "# Set chart title and labels\n",
    "ax3.set_title('Latitude vs. Cloudiness (%)');\n",
    "ax3.set_xlabel('Latitude');\n",
    "ax3.set_ylabel('Cloudiness (%)');\n",
    "\n",
    "# Save chart as .png\n",
    "plt.savefig(\"../output_data/latitude_vs_cloudiness_plot.png\")"
   ]
  },
  {
   "cell_type": "markdown",
   "metadata": {},
   "source": [
    "### Analysis:\n",
    "\n",
    "The code is creating a scatterplot of latitude vs cloudiness. We're taking every city's latitude and cloudiness and comparing it to the other cities. There seems to be a slight trend where cloudiness increases asone gets away from the equator."
   ]
  },
  {
   "cell_type": "markdown",
   "metadata": {},
   "source": [
    "## Latitude vs. Wind Speed Plot"
   ]
  },
  {
   "cell_type": "code",
   "execution_count": 27,
   "metadata": {},
   "outputs": [
    {
     "data": {
      "image/png": "[encoded data removed]",
      "text/plain": [
       "<Figure size 576x432 with 1 Axes>"
      ]
     },
     "metadata": {
      "needs_background": "light"
     },
     "output_type": "display_data"
    }
   ],
   "source": [
    "# Create and set figure size\n",
    "fig4, ax4 = plt.subplots(figsize=(8,6));\n",
    "\n",
    "# Create scatterplot\n",
    "ax4.scatter(latitudes, clean_city_data[\"Wind Speed (mph)\"]);\n",
    "\n",
    "# Set chart title and labels\n",
    "ax4.set_title('Latitude vs. Wind Speed (mph)');\n",
    "ax4.set_xlabel('Latitude');\n",
    "ax4.set_ylabel('Wind Speed (mph)');\n",
    "\n",
    "# Save chart as .png\n",
    "plt.savefig(\"../output_data/latitude_vs_wind_speed_plot.png\")"
   ]
  },
  {
   "cell_type": "markdown",
   "metadata": {},
   "source": [
    "### Analysis:\n",
    "\n",
    "The code is creating a scatterplot of latitude vs wind speed. We're taking every city's latitude and wind speed and comparing it to the other cities. There does not seem to be any correlation between the two variables."
   ]
  },
  {
   "cell_type": "markdown",
   "metadata": {},
   "source": [
    "## Linear Regression"
   ]
  },
  {
   "cell_type": "code",
   "execution_count": 28,
   "metadata": {
    "scrolled": true
   },
   "outputs": [
    {
     "data": {
      "text/html": [
       "<div>\n",
       "<style scoped>\n",
       "    .dataframe tbody tr th:only-of-type {\n",
       "        vertical-align: middle;\n",
       "    }\n",
       "\n",
       "    .dataframe tbody tr th {\n",
       "        vertical-align: top;\n",
       "    }\n",
       "\n",
       "    .dataframe thead th {\n",
       "        text-align: right;\n",
       "    }\n",
       "</style>\n",
       "<table border=\"1\" class=\"dataframe\">\n",
       "  <thead>\n",
       "    <tr style=\"text-align: right;\">\n",
       "      <th></th>\n",
       "      <th>index</th>\n",
       "      <th>City</th>\n",
       "      <th>Country</th>\n",
       "      <th>Longitude</th>\n",
       "      <th>Latitude</th>\n",
       "      <th>Date</th>\n",
       "      <th>Temperature (F)</th>\n",
       "      <th>Humidity (%)</th>\n",
       "      <th>Cloudiness (%)</th>\n",
       "      <th>Wind Speed (mph)</th>\n",
       "      <th>Max Temperature (F)</th>\n",
       "    </tr>\n",
       "  </thead>\n",
       "  <tbody>\n",
       "    <tr>\n",
       "      <th>0</th>\n",
       "      <td>0</td>\n",
       "      <td>makakilo city</td>\n",
       "      <td>US</td>\n",
       "      <td>-158.0858</td>\n",
       "      <td>21.3469</td>\n",
       "      <td>1621136648</td>\n",
       "      <td>78.87</td>\n",
       "      <td>47</td>\n",
       "      <td>1</td>\n",
       "      <td>10.36</td>\n",
       "      <td>82.40</td>\n",
       "    </tr>\n",
       "    <tr>\n",
       "      <th>1</th>\n",
       "      <td>1</td>\n",
       "      <td>kodinsk</td>\n",
       "      <td>RU</td>\n",
       "      <td>99.1844</td>\n",
       "      <td>58.6881</td>\n",
       "      <td>1621136648</td>\n",
       "      <td>43.86</td>\n",
       "      <td>32</td>\n",
       "      <td>14</td>\n",
       "      <td>8.68</td>\n",
       "      <td>43.86</td>\n",
       "    </tr>\n",
       "    <tr>\n",
       "      <th>2</th>\n",
       "      <td>2</td>\n",
       "      <td>banda aceh</td>\n",
       "      <td>ID</td>\n",
       "      <td>95.3222</td>\n",
       "      <td>5.5577</td>\n",
       "      <td>1621136648</td>\n",
       "      <td>85.08</td>\n",
       "      <td>73</td>\n",
       "      <td>100</td>\n",
       "      <td>4.29</td>\n",
       "      <td>85.08</td>\n",
       "    </tr>\n",
       "    <tr>\n",
       "      <th>3</th>\n",
       "      <td>4</td>\n",
       "      <td>matara</td>\n",
       "      <td>LK</td>\n",
       "      <td>80.5353</td>\n",
       "      <td>5.9485</td>\n",
       "      <td>1621136649</td>\n",
       "      <td>85.64</td>\n",
       "      <td>72</td>\n",
       "      <td>99</td>\n",
       "      <td>10.58</td>\n",
       "      <td>85.64</td>\n",
       "    </tr>\n",
       "    <tr>\n",
       "      <th>4</th>\n",
       "      <td>5</td>\n",
       "      <td>ures</td>\n",
       "      <td>MX</td>\n",
       "      <td>-110.4000</td>\n",
       "      <td>29.4333</td>\n",
       "      <td>1621136650</td>\n",
       "      <td>74.62</td>\n",
       "      <td>36</td>\n",
       "      <td>0</td>\n",
       "      <td>1.99</td>\n",
       "      <td>79.00</td>\n",
       "    </tr>\n",
       "    <tr>\n",
       "      <th>...</th>\n",
       "      <td>...</td>\n",
       "      <td>...</td>\n",
       "      <td>...</td>\n",
       "      <td>...</td>\n",
       "      <td>...</td>\n",
       "      <td>...</td>\n",
       "      <td>...</td>\n",
       "      <td>...</td>\n",
       "      <td>...</td>\n",
       "      <td>...</td>\n",
       "      <td>...</td>\n",
       "    </tr>\n",
       "    <tr>\n",
       "      <th>367</th>\n",
       "      <td>551</td>\n",
       "      <td>sterling</td>\n",
       "      <td>US</td>\n",
       "      <td>-77.4286</td>\n",
       "      <td>39.0062</td>\n",
       "      <td>1621136854</td>\n",
       "      <td>54.84</td>\n",
       "      <td>76</td>\n",
       "      <td>1</td>\n",
       "      <td>3.85</td>\n",
       "      <td>57.00</td>\n",
       "    </tr>\n",
       "    <tr>\n",
       "      <th>368</th>\n",
       "      <td>552</td>\n",
       "      <td>cozumel</td>\n",
       "      <td>MX</td>\n",
       "      <td>-86.9458</td>\n",
       "      <td>20.5083</td>\n",
       "      <td>1621136687</td>\n",
       "      <td>80.28</td>\n",
       "      <td>78</td>\n",
       "      <td>75</td>\n",
       "      <td>6.91</td>\n",
       "      <td>80.60</td>\n",
       "    </tr>\n",
       "    <tr>\n",
       "      <th>369</th>\n",
       "      <td>553</td>\n",
       "      <td>jieshi</td>\n",
       "      <td>CN</td>\n",
       "      <td>115.8257</td>\n",
       "      <td>22.8134</td>\n",
       "      <td>1621136855</td>\n",
       "      <td>85.46</td>\n",
       "      <td>73</td>\n",
       "      <td>4</td>\n",
       "      <td>13.31</td>\n",
       "      <td>85.46</td>\n",
       "    </tr>\n",
       "    <tr>\n",
       "      <th>370</th>\n",
       "      <td>554</td>\n",
       "      <td>kostek</td>\n",
       "      <td>RU</td>\n",
       "      <td>46.8541</td>\n",
       "      <td>43.3439</td>\n",
       "      <td>1621136855</td>\n",
       "      <td>70.70</td>\n",
       "      <td>52</td>\n",
       "      <td>57</td>\n",
       "      <td>10.54</td>\n",
       "      <td>70.70</td>\n",
       "    </tr>\n",
       "    <tr>\n",
       "      <th>371</th>\n",
       "      <td>556</td>\n",
       "      <td>rabo de peixe</td>\n",
       "      <td>PT</td>\n",
       "      <td>-25.5833</td>\n",
       "      <td>37.8000</td>\n",
       "      <td>1621136856</td>\n",
       "      <td>64.40</td>\n",
       "      <td>100</td>\n",
       "      <td>75</td>\n",
       "      <td>10.36</td>\n",
       "      <td>64.40</td>\n",
       "    </tr>\n",
       "  </tbody>\n",
       "</table>\n",
       "<p>372 rows × 11 columns</p>\n",
       "</div>"
      ],
      "text/plain": [
       "     index           City Country  Longitude  Latitude        Date  \\\n",
       "0        0  makakilo city      US  -158.0858   21.3469  1621136648   \n",
       "1        1        kodinsk      RU    99.1844   58.6881  1621136648   \n",
       "2        2     banda aceh      ID    95.3222    5.5577  1621136648   \n",
       "3        4         matara      LK    80.5353    5.9485  1621136649   \n",
       "4        5           ures      MX  -110.4000   29.4333  1621136650   \n",
       "..     ...            ...     ...        ...       ...         ...   \n",
       "367    551       sterling      US   -77.4286   39.0062  1621136854   \n",
       "368    552        cozumel      MX   -86.9458   20.5083  1621136687   \n",
       "369    553         jieshi      CN   115.8257   22.8134  1621136855   \n",
       "370    554         kostek      RU    46.8541   43.3439  1621136855   \n",
       "371    556  rabo de peixe      PT   -25.5833   37.8000  1621136856   \n",
       "\n",
       "     Temperature (F)  Humidity (%)  Cloudiness (%)  Wind Speed (mph)  \\\n",
       "0              78.87            47               1             10.36   \n",
       "1              43.86            32              14              8.68   \n",
       "2              85.08            73             100              4.29   \n",
       "3              85.64            72              99             10.58   \n",
       "4              74.62            36               0              1.99   \n",
       "..               ...           ...             ...               ...   \n",
       "367            54.84            76               1              3.85   \n",
       "368            80.28            78              75              6.91   \n",
       "369            85.46            73               4             13.31   \n",
       "370            70.70            52              57             10.54   \n",
       "371            64.40           100              75             10.36   \n",
       "\n",
       "     Max Temperature (F)  \n",
       "0                  82.40  \n",
       "1                  43.86  \n",
       "2                  85.08  \n",
       "3                  85.64  \n",
       "4                  79.00  \n",
       "..                   ...  \n",
       "367                57.00  \n",
       "368                80.60  \n",
       "369                85.46  \n",
       "370                70.70  \n",
       "371                64.40  \n",
       "\n",
       "[372 rows x 11 columns]"
      ]
     },
     "execution_count": 28,
     "metadata": {},
     "output_type": "execute_result"
    }
   ],
   "source": [
    "northern_hemisphere = clean_city_data[clean_city_data['Latitude'] >= 0]\n",
    "northern_hemisphere.reset_index(inplace=True)\n",
    "northern_hemisphere"
   ]
  },
  {
   "cell_type": "code",
   "execution_count": 29,
   "metadata": {},
   "outputs": [
    {
     "data": {
      "text/html": [
       "<div>\n",
       "<style scoped>\n",
       "    .dataframe tbody tr th:only-of-type {\n",
       "        vertical-align: middle;\n",
       "    }\n",
       "\n",
       "    .dataframe tbody tr th {\n",
       "        vertical-align: top;\n",
       "    }\n",
       "\n",
       "    .dataframe thead th {\n",
       "        text-align: right;\n",
       "    }\n",
       "</style>\n",
       "<table border=\"1\" class=\"dataframe\">\n",
       "  <thead>\n",
       "    <tr style=\"text-align: right;\">\n",
       "      <th></th>\n",
       "      <th>index</th>\n",
       "      <th>City</th>\n",
       "      <th>Country</th>\n",
       "      <th>Longitude</th>\n",
       "      <th>Latitude</th>\n",
       "      <th>Date</th>\n",
       "      <th>Temperature (F)</th>\n",
       "      <th>Humidity (%)</th>\n",
       "      <th>Cloudiness (%)</th>\n",
       "      <th>Wind Speed (mph)</th>\n",
       "      <th>Max Temperature (F)</th>\n",
       "    </tr>\n",
       "  </thead>\n",
       "  <tbody>\n",
       "    <tr>\n",
       "      <th>0</th>\n",
       "      <td>3</td>\n",
       "      <td>port alfred</td>\n",
       "      <td>ZA</td>\n",
       "      <td>26.8910</td>\n",
       "      <td>-33.5906</td>\n",
       "      <td>1621136649</td>\n",
       "      <td>60.66</td>\n",
       "      <td>85</td>\n",
       "      <td>97</td>\n",
       "      <td>16.20</td>\n",
       "      <td>60.66</td>\n",
       "    </tr>\n",
       "    <tr>\n",
       "      <th>1</th>\n",
       "      <td>6</td>\n",
       "      <td>busselton</td>\n",
       "      <td>AU</td>\n",
       "      <td>115.3333</td>\n",
       "      <td>-33.6500</td>\n",
       "      <td>1621136650</td>\n",
       "      <td>64.99</td>\n",
       "      <td>65</td>\n",
       "      <td>100</td>\n",
       "      <td>1.01</td>\n",
       "      <td>64.99</td>\n",
       "    </tr>\n",
       "    <tr>\n",
       "      <th>2</th>\n",
       "      <td>7</td>\n",
       "      <td>atuona</td>\n",
       "      <td>PF</td>\n",
       "      <td>-139.0333</td>\n",
       "      <td>-9.8000</td>\n",
       "      <td>1621136650</td>\n",
       "      <td>79.52</td>\n",
       "      <td>66</td>\n",
       "      <td>6</td>\n",
       "      <td>15.99</td>\n",
       "      <td>79.52</td>\n",
       "    </tr>\n",
       "    <tr>\n",
       "      <th>3</th>\n",
       "      <td>8</td>\n",
       "      <td>airai</td>\n",
       "      <td>TL</td>\n",
       "      <td>125.4092</td>\n",
       "      <td>-8.9266</td>\n",
       "      <td>1621136651</td>\n",
       "      <td>72.82</td>\n",
       "      <td>50</td>\n",
       "      <td>90</td>\n",
       "      <td>4.52</td>\n",
       "      <td>72.82</td>\n",
       "    </tr>\n",
       "    <tr>\n",
       "      <th>4</th>\n",
       "      <td>10</td>\n",
       "      <td>rikitea</td>\n",
       "      <td>PF</td>\n",
       "      <td>-134.9692</td>\n",
       "      <td>-23.1203</td>\n",
       "      <td>1621136616</td>\n",
       "      <td>74.79</td>\n",
       "      <td>65</td>\n",
       "      <td>97</td>\n",
       "      <td>18.41</td>\n",
       "      <td>74.79</td>\n",
       "    </tr>\n",
       "    <tr>\n",
       "      <th>...</th>\n",
       "      <td>...</td>\n",
       "      <td>...</td>\n",
       "      <td>...</td>\n",
       "      <td>...</td>\n",
       "      <td>...</td>\n",
       "      <td>...</td>\n",
       "      <td>...</td>\n",
       "      <td>...</td>\n",
       "      <td>...</td>\n",
       "      <td>...</td>\n",
       "      <td>...</td>\n",
       "    </tr>\n",
       "    <tr>\n",
       "      <th>180</th>\n",
       "      <td>542</td>\n",
       "      <td>olinda</td>\n",
       "      <td>BR</td>\n",
       "      <td>-34.8553</td>\n",
       "      <td>-8.0089</td>\n",
       "      <td>1621136851</td>\n",
       "      <td>73.40</td>\n",
       "      <td>83</td>\n",
       "      <td>75</td>\n",
       "      <td>4.61</td>\n",
       "      <td>73.40</td>\n",
       "    </tr>\n",
       "    <tr>\n",
       "      <th>181</th>\n",
       "      <td>543</td>\n",
       "      <td>palu</td>\n",
       "      <td>ID</td>\n",
       "      <td>119.8707</td>\n",
       "      <td>-0.8917</td>\n",
       "      <td>1621136852</td>\n",
       "      <td>86.92</td>\n",
       "      <td>79</td>\n",
       "      <td>82</td>\n",
       "      <td>3.09</td>\n",
       "      <td>86.92</td>\n",
       "    </tr>\n",
       "    <tr>\n",
       "      <th>182</th>\n",
       "      <td>546</td>\n",
       "      <td>tres arroyos</td>\n",
       "      <td>AR</td>\n",
       "      <td>-60.2798</td>\n",
       "      <td>-38.3739</td>\n",
       "      <td>1621136853</td>\n",
       "      <td>52.47</td>\n",
       "      <td>71</td>\n",
       "      <td>93</td>\n",
       "      <td>6.06</td>\n",
       "      <td>52.47</td>\n",
       "    </tr>\n",
       "    <tr>\n",
       "      <th>183</th>\n",
       "      <td>549</td>\n",
       "      <td>kalabo</td>\n",
       "      <td>ZM</td>\n",
       "      <td>22.6814</td>\n",
       "      <td>-14.9700</td>\n",
       "      <td>1621136854</td>\n",
       "      <td>56.57</td>\n",
       "      <td>57</td>\n",
       "      <td>14</td>\n",
       "      <td>4.54</td>\n",
       "      <td>56.57</td>\n",
       "    </tr>\n",
       "    <tr>\n",
       "      <th>184</th>\n",
       "      <td>555</td>\n",
       "      <td>srandakan</td>\n",
       "      <td>ID</td>\n",
       "      <td>110.2506</td>\n",
       "      <td>-7.9386</td>\n",
       "      <td>1621136856</td>\n",
       "      <td>85.64</td>\n",
       "      <td>66</td>\n",
       "      <td>28</td>\n",
       "      <td>13.15</td>\n",
       "      <td>85.64</td>\n",
       "    </tr>\n",
       "  </tbody>\n",
       "</table>\n",
       "<p>185 rows × 11 columns</p>\n",
       "</div>"
      ],
      "text/plain": [
       "     index          City Country  Longitude  Latitude        Date  \\\n",
       "0        3   port alfred      ZA    26.8910  -33.5906  1621136649   \n",
       "1        6     busselton      AU   115.3333  -33.6500  1621136650   \n",
       "2        7        atuona      PF  -139.0333   -9.8000  1621136650   \n",
       "3        8         airai      TL   125.4092   -8.9266  1621136651   \n",
       "4       10       rikitea      PF  -134.9692  -23.1203  1621136616   \n",
       "..     ...           ...     ...        ...       ...         ...   \n",
       "180    542        olinda      BR   -34.8553   -8.0089  1621136851   \n",
       "181    543          palu      ID   119.8707   -0.8917  1621136852   \n",
       "182    546  tres arroyos      AR   -60.2798  -38.3739  1621136853   \n",
       "183    549        kalabo      ZM    22.6814  -14.9700  1621136854   \n",
       "184    555     srandakan      ID   110.2506   -7.9386  1621136856   \n",
       "\n",
       "     Temperature (F)  Humidity (%)  Cloudiness (%)  Wind Speed (mph)  \\\n",
       "0              60.66            85              97             16.20   \n",
       "1              64.99            65             100              1.01   \n",
       "2              79.52            66               6             15.99   \n",
       "3              72.82            50              90              4.52   \n",
       "4              74.79            65              97             18.41   \n",
       "..               ...           ...             ...               ...   \n",
       "180            73.40            83              75              4.61   \n",
       "181            86.92            79              82              3.09   \n",
       "182            52.47            71              93              6.06   \n",
       "183            56.57            57              14              4.54   \n",
       "184            85.64            66              28             13.15   \n",
       "\n",
       "     Max Temperature (F)  \n",
       "0                  60.66  \n",
       "1                  64.99  \n",
       "2                  79.52  \n",
       "3                  72.82  \n",
       "4                  74.79  \n",
       "..                   ...  \n",
       "180                73.40  \n",
       "181                86.92  \n",
       "182                52.47  \n",
       "183                56.57  \n",
       "184                85.64  \n",
       "\n",
       "[185 rows x 11 columns]"
      ]
     },
     "execution_count": 29,
     "metadata": {},
     "output_type": "execute_result"
    }
   ],
   "source": [
    "southern_hemisphere = clean_city_data[clean_city_data['Latitude'] < 0]\n",
    "southern_hemisphere.reset_index(inplace=True)\n",
    "southern_hemisphere"
   ]
  },
  {
   "cell_type": "markdown",
   "metadata": {},
   "source": [
    "####  Northern Hemisphere - Max Temp vs. Latitude Linear Regression"
   ]
  },
  {
   "cell_type": "code",
   "execution_count": 30,
   "metadata": {},
   "outputs": [
    {
     "name": "stdout",
     "output_type": "stream",
     "text": [
      "The equation of the regression line is: y = -0.91x + 96.75\n"
     ]
    },
    {
     "data": {
      "image/png": "[encoded data removed]",
      "text/plain": [
       "<Figure size 432x288 with 1 Axes>"
      ]
     },
     "metadata": {
      "needs_background": "light"
     },
     "output_type": "display_data"
    }
   ],
   "source": [
    "# Plot of Max Temp vs Latitude in the northern hemisphere\n",
    "x_values = northern_hemisphere['Max Temperature (F)']\n",
    "y_values = northern_hemisphere['Latitude']\n",
    "(slope, intercept, rvalue, pvalue, stderr) = linregress(x_values, y_values)\n",
    "regress_values = x_values * slope + intercept\n",
    "line_eq = \"y = \" + str(round(slope,2)) + \"x + \" + str(round(intercept,2))\n",
    "plt.scatter(x_values,y_values)\n",
    "plt.plot(x_values,regress_values,\"r-\")\n",
    "plt.title('Max Temperature (F) vs. Latitude in Northern Hemisphere')\n",
    "plt.xlabel('Max Temperature (F)')\n",
    "plt.ylabel('Latitude')\n",
    "print(f\"The equation of the regression line is: {line_eq}\")\n",
    "plt.show()"
   ]
  },
  {
   "cell_type": "markdown",
   "metadata": {},
   "source": [
    "####  Southern Hemisphere - Max Temp vs. Latitude Linear Regression"
   ]
  },
  {
   "cell_type": "code",
   "execution_count": 31,
   "metadata": {},
   "outputs": [
    {
     "name": "stdout",
     "output_type": "stream",
     "text": [
      "The equation of the regression line is: y = 0.81x + -75.62\n"
     ]
    },
    {
     "data": {
      "image/png": "[encoded data removed]",
      "text/plain": [
       "<Figure size 432x288 with 1 Axes>"
      ]
     },
     "metadata": {
      "needs_background": "light"
     },
     "output_type": "display_data"
    }
   ],
   "source": [
    "# Plot of Max Temp vs Latitude in the southern hemisphere\n",
    "x_values = southern_hemisphere['Max Temperature (F)']\n",
    "y_values = southern_hemisphere['Latitude']\n",
    "(slope, intercept, rvalue, pvalue, stderr) = linregress(x_values, y_values)\n",
    "regress_values = x_values * slope + intercept\n",
    "line_eq = \"y = \" + str(round(slope,2)) + \"x + \" + str(round(intercept,2))\n",
    "plt.scatter(x_values,y_values)\n",
    "plt.plot(x_values,regress_values,\"r-\")\n",
    "plt.title('Max Temperature (F) vs. Latitude in Southern Hemisphere')\n",
    "plt.xlabel('Max Temperature (F)')\n",
    "plt.ylabel('Latitude')\n",
    "print(f\"The equation of the regression line is: {line_eq}\")\n",
    "plt.show()"
   ]
  },
  {
   "cell_type": "markdown",
   "metadata": {},
   "source": [
    "### Analysis:\n",
    "\n",
    "The code is creating a scatterplot of max temperature vs latitude in both the northern and southern hemispheres. The data shows a general trend that as one approaches the equator (0 degrees) the max temperature increases."
   ]
  },
  {
   "cell_type": "markdown",
   "metadata": {},
   "source": [
    "####  Northern Hemisphere - Humidity (%) vs. Latitude Linear Regression"
   ]
  },
  {
   "cell_type": "code",
   "execution_count": 32,
   "metadata": {},
   "outputs": [
    {
     "name": "stdout",
     "output_type": "stream",
     "text": [
      "The equation of the regression line is: y = 0.04x + 36.86\n"
     ]
    },
    {
     "data": {
      "image/png": "[encoded data removed]",
      "text/plain": [
       "<Figure size 432x288 with 1 Axes>"
      ]
     },
     "metadata": {
      "needs_background": "light"
     },
     "output_type": "display_data"
    }
   ],
   "source": [
    "# Plot of Humidity vs Latitude in the northern hemisphere\n",
    "x_values = northern_hemisphere['Humidity (%)']\n",
    "y_values = northern_hemisphere['Latitude']\n",
    "(slope, intercept, rvalue, pvalue, stderr) = linregress(x_values, y_values)\n",
    "regress_values = x_values * slope + intercept\n",
    "line_eq = \"y = \" + str(round(slope,2)) + \"x + \" + str(round(intercept,2))\n",
    "plt.scatter(x_values,y_values)\n",
    "plt.plot(x_values,regress_values,\"r-\")\n",
    "plt.title('Humidity (%) vs. Latitude in Northern Hemisphere')\n",
    "plt.xlabel('Humidity (%)')\n",
    "plt.ylabel('Latitude')\n",
    "print(f\"The equation of the regression line is: {line_eq}\")\n",
    "plt.show()"
   ]
  },
  {
   "cell_type": "markdown",
   "metadata": {},
   "source": [
    "####  Southern Hemisphere - Humidity (%) vs. Latitude Linear Regression"
   ]
  },
  {
   "cell_type": "code",
   "execution_count": 33,
   "metadata": {
    "scrolled": true
   },
   "outputs": [
    {
     "name": "stdout",
     "output_type": "stream",
     "text": [
      "The equation of the regression line is: y = 0.06x + -25.28\n"
     ]
    },
    {
     "data": {
      "image/png": "[encoded data removed]",
      "text/plain": [
       "<Figure size 432x288 with 1 Axes>"
      ]
     },
     "metadata": {
      "needs_background": "light"
     },
     "output_type": "display_data"
    }
   ],
   "source": [
    "# Plot of Humidity vs Latitude in the southern hemisphere\n",
    "x_values = southern_hemisphere['Humidity (%)']\n",
    "y_values = southern_hemisphere['Latitude']\n",
    "(slope, intercept, rvalue, pvalue, stderr) = linregress(x_values, y_values)\n",
    "regress_values = x_values * slope + intercept\n",
    "line_eq = \"y = \" + str(round(slope,2)) + \"x + \" + str(round(intercept,2))\n",
    "plt.scatter(x_values,y_values)\n",
    "plt.plot(x_values,regress_values,\"r-\")\n",
    "plt.title('Humidity (%) vs. Latitude in Southern Hemisphere')\n",
    "plt.xlabel('Humidity (%)')\n",
    "plt.ylabel('Latitude')\n",
    "print(f\"The equation of the regression line is: {line_eq}\")\n",
    "plt.show()"
   ]
  },
  {
   "cell_type": "markdown",
   "metadata": {},
   "source": [
    "### Analysis:\n",
    "\n",
    "The code is creating a scatterplot of humidity vs latitude in both the northern and southern hemispheres. The data appears to be pretty random with a slightly positive correlation in both the hemispheres implying the further north, the higher the humidity. Again however, there is only a very weak, almost non-existent correlation."
   ]
  },
  {
   "cell_type": "markdown",
   "metadata": {},
   "source": [
    "####  Northern Hemisphere - Cloudiness (%) vs. Latitude Linear Regression"
   ]
  },
  {
   "cell_type": "code",
   "execution_count": 34,
   "metadata": {},
   "outputs": [
    {
     "name": "stdout",
     "output_type": "stream",
     "text": [
      "The equation of the regression line is: y = 0.1x + 33.69\n"
     ]
    },
    {
     "data": {
      "image/png": "[encoded data removed]",
      "text/plain": [
       "<Figure size 432x288 with 1 Axes>"
      ]
     },
     "metadata": {
      "needs_background": "light"
     },
     "output_type": "display_data"
    }
   ],
   "source": [
    "# Plot of Cloudiness vs Latitude in the northern hemisphere\n",
    "x_values = northern_hemisphere['Cloudiness (%)']\n",
    "y_values = northern_hemisphere['Latitude']\n",
    "(slope, intercept, rvalue, pvalue, stderr) = linregress(x_values, y_values)\n",
    "regress_values = x_values * slope + intercept\n",
    "line_eq = \"y = \" + str(round(slope,2)) + \"x + \" + str(round(intercept,2))\n",
    "plt.scatter(x_values,y_values)\n",
    "plt.plot(x_values,regress_values,\"r-\")\n",
    "plt.title('Cloudiness (%) vs. Latitude in Northern Hemisphere')\n",
    "plt.xlabel('Cloudiness (%)')\n",
    "plt.ylabel('Latitude')\n",
    "print(f\"The equation of the regression line is: {line_eq}\")\n",
    "plt.show()"
   ]
  },
  {
   "cell_type": "markdown",
   "metadata": {},
   "source": [
    "####  Southern Hemisphere - Cloudiness (%) vs. Latitude Linear Regression"
   ]
  },
  {
   "cell_type": "code",
   "execution_count": 35,
   "metadata": {
    "scrolled": true
   },
   "outputs": [
    {
     "name": "stdout",
     "output_type": "stream",
     "text": [
      "The equation of the regression line is: y = 0.03x + -22.86\n"
     ]
    },
    {
     "data": {
      "image/png": "[encoded data removed]",
      "text/plain": [
       "<Figure size 432x288 with 1 Axes>"
      ]
     },
     "metadata": {
      "needs_background": "light"
     },
     "output_type": "display_data"
    }
   ],
   "source": [
    "# Plot of Cloudiness vs Latitude in the southern hemisphere\n",
    "x_values = southern_hemisphere['Cloudiness (%)']\n",
    "y_values = southern_hemisphere['Latitude']\n",
    "(slope, intercept, rvalue, pvalue, stderr) = linregress(x_values, y_values)\n",
    "regress_values = x_values * slope + intercept\n",
    "line_eq = \"y = \" + str(round(slope,2)) + \"x + \" + str(round(intercept,2))\n",
    "plt.scatter(x_values,y_values)\n",
    "plt.plot(x_values,regress_values,\"r-\")\n",
    "plt.title('Cloudiness (%) vs. Latitude in Southern Hemisphere')\n",
    "plt.xlabel('Cloudiness (%)')\n",
    "plt.ylabel('Latitude')\n",
    "print(f\"The equation of the regression line is: {line_eq}\")\n",
    "plt.show()"
   ]
  },
  {
   "cell_type": "markdown",
   "metadata": {},
   "source": [
    "### Analysis:\n",
    "\n",
    "The code is creating a scatterplot of cloudiness vs latitude in both the northern and southern hemispheres. The data suggests lack of a pattern in both hemispheres and suggests that there is no relationship between cloudiness and how far it is from the hemisphere."
   ]
  },
  {
   "cell_type": "markdown",
   "metadata": {},
   "source": [
    "####  Northern Hemisphere - Wind Speed (mph) vs. Latitude Linear Regression"
   ]
  },
  {
   "cell_type": "code",
   "execution_count": 36,
   "metadata": {},
   "outputs": [
    {
     "name": "stdout",
     "output_type": "stream",
     "text": [
      "The equation of the regression line is: y = -0.13x + 40.43\n"
     ]
    },
    {
     "data": {
      "image/png": "[encoded data removed]",
      "text/plain": [
       "<Figure size 432x288 with 1 Axes>"
      ]
     },
     "metadata": {
      "needs_background": "light"
     },
     "output_type": "display_data"
    }
   ],
   "source": [
    "# Plot of Wind Speed vs Latitude in the northern hemisphere\n",
    "x_values = northern_hemisphere['Wind Speed (mph)']\n",
    "y_values = northern_hemisphere['Latitude']\n",
    "(slope, intercept, rvalue, pvalue, stderr) = linregress(x_values, y_values)\n",
    "regress_values = x_values * slope + intercept\n",
    "line_eq = \"y = \" + str(round(slope,2)) + \"x + \" + str(round(intercept,2))\n",
    "plt.scatter(x_values,y_values)\n",
    "plt.plot(x_values,regress_values,\"r-\")\n",
    "plt.title('Wind Speed (mph) vs. Latitude in Northern Hemisphere')\n",
    "plt.xlabel('Wind Speed (mph)')\n",
    "plt.ylabel('Latitude')\n",
    "print(f\"The equation of the regression line is: {line_eq}\")\n",
    "plt.show()"
   ]
  },
  {
   "cell_type": "markdown",
   "metadata": {},
   "source": [
    "####  Southern Hemisphere - Wind Speed (mph) vs. Latitude Linear Regression"
   ]
  },
  {
   "cell_type": "code",
   "execution_count": 37,
   "metadata": {},
   "outputs": [
    {
     "name": "stdout",
     "output_type": "stream",
     "text": [
      "The equation of the regression line is: y = -0.24x + -19.47\n"
     ]
    },
    {
     "data": {
      "image/png": "[encoded data removed]",
      "text/plain": [
       "<Figure size 432x288 with 1 Axes>"
      ]
     },
     "metadata": {
      "needs_background": "light"
     },
     "output_type": "display_data"
    }
   ],
   "source": [
    "# Plot of Wind Speed vs Latitude in the southern hemisphere\n",
    "x_values = southern_hemisphere['Wind Speed (mph)']\n",
    "y_values = southern_hemisphere['Latitude']\n",
    "(slope, intercept, rvalue, pvalue, stderr) = linregress(x_values, y_values)\n",
    "regress_values = x_values * slope + intercept\n",
    "line_eq = \"y = \" + str(round(slope,2)) + \"x + \" + str(round(intercept,2))\n",
    "plt.scatter(x_values,y_values)\n",
    "plt.plot(x_values,regress_values,\"r-\")\n",
    "plt.title('Wind Speed (mph) vs. Latitude in Southern Hemisphere')\n",
    "plt.xlabel('Wind Speed (mph)')\n",
    "plt.ylabel('Latitude')\n",
    "print(f\"The equation of the regression line is: {line_eq}\")\n",
    "plt.show()"
   ]
  },
  {
   "cell_type": "markdown",
   "metadata": {},
   "source": [
    "### Analysis:\n",
    "\n",
    "The code is creating a scatterplot of wind speed vs latitude in both the northern and southern hemispheres. Again, the data does not appear to have much of a pattern or linear relationship. Although the southern hemisphere has a stronger negative correlation than the northern hemisphere."
   ]
  }
 ],
 "metadata": {
  "anaconda-cloud": {},
  "kernel_info": {
   "name": "python3"
  },
  "kernelspec": {
   "display_name": "Python 3",
   "language": "python",
   "name": "python3"
  },
  "language_info": {
   "codemirror_mode": {
    "name": "ipython",
    "version": 3
   },
   "file_extension": ".py",
   "mimetype": "text/x-python",
   "name": "python",
   "nbconvert_exporter": "python",
   "pygments_lexer": "ipython3",
   "version": "3.8.5"
  },
  "latex_envs": {
   "LaTeX_envs_menu_present": true,
   "autoclose": false,
   "autocomplete": true,
   "bibliofile": "biblio.bib",
   "cite_by": "apalike",
   "current_citInitial": 1,
   "eqLabelWithNumbers": true,
   "eqNumInitial": 1,
   "hotkeys": {
    "equation": "Ctrl-E",
    "itemize": "Ctrl-I"
   },
   "labels_anchors": false,
   "latex_user_defs": false,
   "report_style_numbering": false,
   "user_envs_cfg": false
  },
  "nteract": {
   "version": "0.12.3"
  }
 },
 "nbformat": 4,
 "nbformat_minor": 2
}
