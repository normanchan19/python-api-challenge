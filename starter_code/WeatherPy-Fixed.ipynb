{
 "cells": [
  {
   "cell_type": "markdown",
   "metadata": {},
   "source": [
    "# WeatherPy\n",
    "----\n",
    "\n",
    "#### Note\n",
    "* Instructions have been included for each segment. You do not have to follow them exactly, but they are included to help you think through the steps."
   ]
  },
  {
   "cell_type": "code",
   "execution_count": 1,
   "metadata": {
    "scrolled": false
   },
   "outputs": [
    {
     "name": "stdout",
     "output_type": "stream",
     "text": [
      "Requirement already satisfied: citipy in c:\\users\\norma\\anaconda3\\lib\\site-packages (0.0.5)\n",
      "Requirement already satisfied: kdtree>=0.12 in c:\\users\\norma\\anaconda3\\lib\\site-packages (from citipy) (0.16)\n"
     ]
    }
   ],
   "source": [
    "!pip install citipy"
   ]
  },
  {
   "cell_type": "code",
   "execution_count": 2,
   "metadata": {
    "scrolled": true
   },
   "outputs": [],
   "source": [
    "# Dependencies and Setup\n",
    "import matplotlib.pyplot as plt\n",
    "import pandas as pd\n",
    "import numpy as np\n",
    "import requests\n",
    "import time\n",
    "from scipy.stats import linregress\n",
    "\n",
    "# Import API key\n",
    "from api_keys import weather_api_key\n",
    "\n",
    "# Incorporated citipy to determine city based on latitude and longitude\n",
    "from citipy import citipy\n",
    "\n",
    "# Output File (CSV)\n",
    "output_data_file = \"output_data/cities.csv\"\n",
    "\n",
    "# Range of latitudes and longitudes\n",
    "lat_range = (-90, 90)\n",
    "lng_range = (-180, 180)"
   ]
  },
  {
   "cell_type": "markdown",
   "metadata": {},
   "source": [
    "## Generate Cities List"
   ]
  },
  {
   "cell_type": "code",
   "execution_count": 3,
   "metadata": {},
   "outputs": [
    {
     "data": {
      "text/plain": [
       "626"
      ]
     },
     "execution_count": 3,
     "metadata": {},
     "output_type": "execute_result"
    }
   ],
   "source": [
    "# List for holding lat_lngs and cities\n",
    "lat_lngs = []\n",
    "cities = []\n",
    "\n",
    "# Create a set of random lat and lng combinations\n",
    "lats = np.random.uniform(lat_range[0], lat_range[1], size=1500)\n",
    "lngs = np.random.uniform(lng_range[0], lng_range[1], size=1500)\n",
    "lat_lngs = zip(lats, lngs)\n",
    "\n",
    "# Identify nearest city for each lat, lng combination\n",
    "for lat_lng in lat_lngs:\n",
    "    city = citipy.nearest_city(lat_lng[0], lat_lng[1]).city_name\n",
    "    \n",
    "    # If the city is unique, then add it to a our cities list\n",
    "    if city not in cities:\n",
    "        cities.append(city)\n",
    "\n",
    "# Print the city count to confirm sufficient count\n",
    "len(cities)"
   ]
  },
  {
   "cell_type": "markdown",
   "metadata": {},
   "source": [
    "### Perform API Calls\n",
    "* Perform a weather check on each city using a series of successive API calls.\n",
    "* Include a print log of each city as it'sbeing processed (with the city number and city name).\n"
   ]
  },
  {
   "cell_type": "code",
   "execution_count": 4,
   "metadata": {},
   "outputs": [],
   "source": [
    "# This block is testing short list of cities\n",
    "\n",
    "#cities = ['georgetown', 'Los Angeles', 'Indianapolis', 'Hong Kong', 'Taipei', 'London']"
   ]
  },
  {
   "cell_type": "code",
   "execution_count": 5,
   "metadata": {
    "scrolled": true
   },
   "outputs": [
    {
     "data": {
      "text/plain": [
       "['pangnirtung',\n",
       " 'pangody',\n",
       " 'ushuaia',\n",
       " 'ponta do sol',\n",
       " 'anadyr',\n",
       " 'geraldton',\n",
       " 'vaini',\n",
       " 'castro',\n",
       " 'quatre cocos',\n",
       " 'yemtsa']"
      ]
     },
     "execution_count": 5,
     "metadata": {},
     "output_type": "execute_result"
    }
   ],
   "source": [
    "cities[:10]"
   ]
  },
  {
   "cell_type": "code",
   "execution_count": 6,
   "metadata": {},
   "outputs": [
    {
     "name": "stdout",
     "output_type": "stream",
     "text": [
      "Weather data for city 0, pangnirtung, retrieved.\n",
      "Weather data for city 1, pangody, retrieved.\n",
      "Weather data for city 2, ushuaia, retrieved.\n",
      "Weather data for city 3, ponta do sol, retrieved.\n",
      "Weather data for city 4, anadyr, retrieved.\n",
      "Weather data for city 5, geraldton, retrieved.\n",
      "Weather data for city 6, vaini, retrieved.\n",
      "Weather data for city 7, castro, retrieved.\n",
      "Weather data for city 8, quatre cocos, retrieved.\n",
      "Weather data for city 9, yemtsa, retrieved.\n",
      "Something went wrong retrieving the weather data for city 10, illoqqortoormiut, it has been removed from the list of cities.\n",
      "Something went wrong retrieving the weather data for city 11, taolanaro, it has been removed from the list of cities.\n",
      "Weather data for city 12, sabha, retrieved.\n",
      "Weather data for city 13, camacupa, retrieved.\n",
      "Weather data for city 14, chokurdakh, retrieved.\n",
      "Weather data for city 15, duku, retrieved.\n",
      "Weather data for city 16, cape town, retrieved.\n",
      "Weather data for city 17, sechura, retrieved.\n",
      "Weather data for city 18, vardo, retrieved.\n",
      "Weather data for city 19, aykhal, retrieved.\n",
      "Weather data for city 20, cherskiy, retrieved.\n",
      "Weather data for city 21, souillac, retrieved.\n",
      "Weather data for city 22, saldanha, retrieved.\n",
      "Weather data for city 23, hobart, retrieved.\n",
      "Weather data for city 24, necochea, retrieved.\n",
      "Weather data for city 25, jamestown, retrieved.\n",
      "Weather data for city 26, new norfolk, retrieved.\n",
      "Weather data for city 27, tefe, retrieved.\n",
      "Weather data for city 28, faanui, retrieved.\n",
      "Weather data for city 29, atuona, retrieved.\n",
      "Weather data for city 30, kapaa, retrieved.\n",
      "Weather data for city 31, saint-augustin, retrieved.\n",
      "Weather data for city 32, rikitea, retrieved.\n",
      "Weather data for city 33, hithadhoo, retrieved.\n",
      "Weather data for city 34, ordzhonikidze, retrieved.\n",
      "Weather data for city 35, talavera de la reina, retrieved.\n",
      "Weather data for city 36, bambous virieux, retrieved.\n",
      "Weather data for city 37, hasaki, retrieved.\n",
      "Weather data for city 38, catia la mar, retrieved.\n",
      "Weather data for city 39, busselton, retrieved.\n",
      "Weather data for city 40, gat, retrieved.\n",
      "Weather data for city 41, albany, retrieved.\n",
      "Weather data for city 42, bredasdorp, retrieved.\n",
      "Weather data for city 43, nandyal, retrieved.\n",
      "Weather data for city 44, yellowknife, retrieved.\n",
      "Weather data for city 45, zheleznodorozhnyy, retrieved.\n",
      "Weather data for city 46, chapais, retrieved.\n",
      "Weather data for city 47, saskylakh, retrieved.\n",
      "Weather data for city 48, manggar, retrieved.\n",
      "Weather data for city 49, alofi, retrieved.\n",
      "Something went wrong retrieving the weather data for city 50, utiroa, it has been removed from the list of cities.\n",
      "Weather data for city 51, lavrentiya, retrieved.\n",
      "Weather data for city 52, rhyl, retrieved.\n",
      "Weather data for city 53, tiksi, retrieved.\n",
      "Weather data for city 54, tasiilaq, retrieved.\n",
      "Weather data for city 55, las palmas, retrieved.\n",
      "Weather data for city 56, slonim, retrieved.\n",
      "Weather data for city 57, coxim, retrieved.\n",
      "Something went wrong retrieving the weather data for city 58, grand river south east, it has been removed from the list of cities.\n",
      "Weather data for city 59, tuatapere, retrieved.\n",
      "Weather data for city 60, waddan, retrieved.\n",
      "Weather data for city 61, cabo san lucas, retrieved.\n",
      "Weather data for city 62, bunia, retrieved.\n",
      "Weather data for city 63, san patricio, retrieved.\n",
      "Weather data for city 64, sao filipe, retrieved.\n",
      "Weather data for city 65, asau, retrieved.\n",
      "Weather data for city 66, tadine, retrieved.\n",
      "Weather data for city 67, bethel, retrieved.\n",
      "Weather data for city 68, arman, retrieved.\n",
      "Weather data for city 69, iqaluit, retrieved.\n",
      "Weather data for city 70, japura, retrieved.\n",
      "Weather data for city 71, inhambane, retrieved.\n",
      "Weather data for city 72, tungor, retrieved.\n",
      "Weather data for city 73, praia da vitoria, retrieved.\n",
      "Weather data for city 74, mar del plata, retrieved.\n",
      "Weather data for city 75, camocim, retrieved.\n",
      "Weather data for city 76, bubaque, retrieved.\n",
      "Weather data for city 77, naze, retrieved.\n",
      "Weather data for city 78, tual, retrieved.\n",
      "Weather data for city 79, port hardy, retrieved.\n",
      "Weather data for city 80, puerto ayora, retrieved.\n",
      "Weather data for city 81, manacapuru, retrieved.\n",
      "Weather data for city 82, plaster rock, retrieved.\n",
      "Weather data for city 83, vanino, retrieved.\n",
      "Weather data for city 84, fort nelson, retrieved.\n",
      "Weather data for city 85, bilibino, retrieved.\n",
      "Weather data for city 86, abu dhabi, retrieved.\n",
      "Weather data for city 87, port elizabeth, retrieved.\n",
      "Weather data for city 88, mataura, retrieved.\n",
      "Weather data for city 89, okhotsk, retrieved.\n",
      "Weather data for city 90, aksu, retrieved.\n",
      "Weather data for city 91, fortuna, retrieved.\n",
      "Something went wrong retrieving the weather data for city 92, belushya guba, it has been removed from the list of cities.\n",
      "Weather data for city 93, ranong, retrieved.\n",
      "Weather data for city 94, bara, retrieved.\n",
      "Weather data for city 95, pacific grove, retrieved.\n",
      "Weather data for city 96, east london, retrieved.\n",
      "Something went wrong retrieving the weather data for city 97, sentyabrskiy, it has been removed from the list of cities.\n",
      "Weather data for city 98, sola, retrieved.\n",
      "Weather data for city 99, kodiak, retrieved.\n",
      "Weather data for city 100, dingle, retrieved.\n",
      "Weather data for city 101, thompson, retrieved.\n",
      "Weather data for city 102, bengkulu, retrieved.\n",
      "Weather data for city 103, onalaska, retrieved.\n",
      "Weather data for city 104, shaunavon, retrieved.\n",
      "Weather data for city 105, sangmelima, retrieved.\n",
      "Weather data for city 106, port hedland, retrieved.\n",
      "Weather data for city 107, hermanus, retrieved.\n",
      "Weather data for city 108, changzhou, retrieved.\n",
      "Something went wrong retrieving the weather data for city 109, skalistyy, it has been removed from the list of cities.\n",
      "Something went wrong retrieving the weather data for city 110, qandahar, it has been removed from the list of cities.\n",
      "Weather data for city 111, kilinochchi, retrieved.\n",
      "Weather data for city 112, korla, retrieved.\n",
      "Weather data for city 113, pevek, retrieved.\n",
      "Weather data for city 114, luderitz, retrieved.\n",
      "Something went wrong retrieving the weather data for city 115, tabiauea, it has been removed from the list of cities.\n",
      "Something went wrong retrieving the weather data for city 116, bacuit, it has been removed from the list of cities.\n",
      "Weather data for city 117, olafsvik, retrieved.\n",
      "Weather data for city 118, chulman, retrieved.\n",
      "Weather data for city 119, ilulissat, retrieved.\n",
      "Weather data for city 120, san jose, retrieved.\n",
      "Weather data for city 121, alexandria, retrieved.\n",
      "Weather data for city 122, monrovia, retrieved.\n",
      "Weather data for city 123, surt, retrieved.\n",
      "Weather data for city 124, manaquiri, retrieved.\n",
      "Something went wrong retrieving the weather data for city 125, kadykchan, it has been removed from the list of cities.\n",
      "Something went wrong retrieving the weather data for city 126, naftah, it has been removed from the list of cities.\n",
      "Weather data for city 127, ribeira grande, retrieved.\n",
      "Weather data for city 128, kavaratti, retrieved.\n",
      "Weather data for city 129, oakland, retrieved.\n",
      "Weather data for city 130, morozovsk, retrieved.\n",
      "Weather data for city 131, ancud, retrieved.\n",
      "Weather data for city 132, kununurra, retrieved.\n",
      "Weather data for city 133, larsnes, retrieved.\n",
      "Weather data for city 134, qaanaaq, retrieved.\n",
      "Weather data for city 135, norman wells, retrieved.\n",
      "Weather data for city 136, hashtgerd, retrieved.\n",
      "Weather data for city 137, barrow, retrieved.\n",
      "Weather data for city 138, margate, retrieved.\n",
      "Weather data for city 139, avarua, retrieved.\n",
      "Weather data for city 140, nikolskoye, retrieved.\n",
      "Weather data for city 141, georgetown, retrieved.\n",
      "Weather data for city 142, grindavik, retrieved.\n",
      "Weather data for city 143, punta arenas, retrieved.\n",
      "Weather data for city 144, sao joao da barra, retrieved.\n",
      "Weather data for city 145, kyren, retrieved.\n",
      "Weather data for city 146, raul soares, retrieved.\n",
      "Weather data for city 147, mitzic, retrieved.\n",
      "Weather data for city 148, prince rupert, retrieved.\n",
      "Weather data for city 149, severo-kurilsk, retrieved.\n",
      "Weather data for city 150, port alfred, retrieved.\n",
      "Weather data for city 151, cidreira, retrieved.\n",
      "Weather data for city 152, bathsheba, retrieved.\n",
      "Weather data for city 153, kimbe, retrieved.\n"
     ]
    },
    {
     "name": "stdout",
     "output_type": "stream",
     "text": [
      "Weather data for city 154, ostrovnoy, retrieved.\n",
      "Weather data for city 155, dikson, retrieved.\n",
      "Weather data for city 156, mandera, retrieved.\n",
      "Weather data for city 157, kushiro, retrieved.\n",
      "Weather data for city 158, mayo, retrieved.\n",
      "Weather data for city 159, bluff, retrieved.\n",
      "Weather data for city 160, port lincoln, retrieved.\n",
      "Weather data for city 161, katherine, retrieved.\n",
      "Weather data for city 162, clyde river, retrieved.\n",
      "Weather data for city 163, butaritari, retrieved.\n",
      "Weather data for city 164, mahebourg, retrieved.\n",
      "Weather data for city 165, tigil, retrieved.\n",
      "Something went wrong retrieving the weather data for city 166, vaitupu, it has been removed from the list of cities.\n",
      "Weather data for city 167, kahului, retrieved.\n",
      "Weather data for city 168, nanortalik, retrieved.\n",
      "Weather data for city 169, camargo, retrieved.\n",
      "Weather data for city 170, khatanga, retrieved.\n",
      "Weather data for city 171, guozhen, retrieved.\n",
      "Weather data for city 172, tupik, retrieved.\n",
      "Weather data for city 173, airai, retrieved.\n",
      "Weather data for city 174, makakilo city, retrieved.\n",
      "Weather data for city 175, namatanai, retrieved.\n",
      "Weather data for city 176, tuktoyaktuk, retrieved.\n",
      "Weather data for city 177, nabire, retrieved.\n",
      "Weather data for city 178, nouadhibou, retrieved.\n",
      "Weather data for city 179, sampit, retrieved.\n",
      "Something went wrong retrieving the weather data for city 180, armacao dos buzios, it has been removed from the list of cities.\n",
      "Weather data for city 181, saint-pierre, retrieved.\n",
      "Weather data for city 182, hilo, retrieved.\n",
      "Weather data for city 183, vila, retrieved.\n",
      "Weather data for city 184, jambusar, retrieved.\n",
      "Weather data for city 185, satipo, retrieved.\n",
      "Something went wrong retrieving the weather data for city 186, cumaribo, it has been removed from the list of cities.\n",
      "Weather data for city 187, chaplynka, retrieved.\n",
      "Weather data for city 188, kloulklubed, retrieved.\n",
      "Weather data for city 189, berlevag, retrieved.\n",
      "Weather data for city 190, yar-sale, retrieved.\n",
      "Weather data for city 191, talnakh, retrieved.\n",
      "Weather data for city 192, morant bay, retrieved.\n",
      "Weather data for city 193, saint-philippe, retrieved.\n",
      "Weather data for city 194, nuevo vigia, retrieved.\n",
      "Weather data for city 195, gannan, retrieved.\n",
      "Weather data for city 196, erenhot, retrieved.\n",
      "Weather data for city 197, moranbah, retrieved.\n",
      "Weather data for city 198, hofn, retrieved.\n",
      "Weather data for city 199, olga, retrieved.\n",
      "Weather data for city 200, natal, retrieved.\n",
      "Weather data for city 201, ninh binh, retrieved.\n",
      "Weather data for city 202, rudnogorsk, retrieved.\n",
      "Weather data for city 203, kot diji, retrieved.\n",
      "Weather data for city 204, batemans bay, retrieved.\n",
      "Weather data for city 205, artyom, retrieved.\n",
      "Weather data for city 206, esperance, retrieved.\n",
      "Weather data for city 207, ahipara, retrieved.\n",
      "Weather data for city 208, kampene, retrieved.\n",
      "Weather data for city 209, ixtapa, retrieved.\n",
      "Weather data for city 210, taoudenni, retrieved.\n",
      "Weather data for city 211, kingman, retrieved.\n",
      "Weather data for city 212, hammerfest, retrieved.\n",
      "Weather data for city 213, vila velha, retrieved.\n",
      "Weather data for city 214, thunder bay, retrieved.\n",
      "Weather data for city 215, krasnoselkup, retrieved.\n",
      "Weather data for city 216, paamiut, retrieved.\n",
      "Weather data for city 217, shakawe, retrieved.\n",
      "Weather data for city 218, rio gallegos, retrieved.\n",
      "Something went wrong retrieving the weather data for city 219, amderma, it has been removed from the list of cities.\n",
      "Weather data for city 220, voi, retrieved.\n",
      "Weather data for city 221, nador, retrieved.\n",
      "Weather data for city 222, ketchikan, retrieved.\n",
      "Weather data for city 223, sitka, retrieved.\n",
      "Weather data for city 224, vostok, retrieved.\n",
      "Weather data for city 225, kruisfontein, retrieved.\n",
      "Something went wrong retrieving the weather data for city 226, bargal, it has been removed from the list of cities.\n",
      "Weather data for city 227, torre-pacheco, retrieved.\n",
      "Weather data for city 228, terney, retrieved.\n",
      "Something went wrong retrieving the weather data for city 229, nguiu, it has been removed from the list of cities.\n",
      "Weather data for city 230, poum, retrieved.\n",
      "Weather data for city 231, tieli, retrieved.\n",
      "Weather data for city 232, tuyen quang, retrieved.\n",
      "Weather data for city 233, arraial do cabo, retrieved.\n",
      "Weather data for city 234, provideniya, retrieved.\n",
      "Weather data for city 235, raga, retrieved.\n",
      "Weather data for city 236, timizart, retrieved.\n",
      "Weather data for city 237, obo, retrieved.\n",
      "Weather data for city 238, eirunepe, retrieved.\n",
      "Weather data for city 239, praia, retrieved.\n",
      "Weather data for city 240, ulladulla, retrieved.\n",
      "Something went wrong retrieving the weather data for city 241, abu jubayhah, it has been removed from the list of cities.\n",
      "Weather data for city 242, turbat, retrieved.\n",
      "Weather data for city 243, yulara, retrieved.\n",
      "Weather data for city 244, broome, retrieved.\n",
      "Weather data for city 245, havoysund, retrieved.\n",
      "Weather data for city 246, sosua, retrieved.\n",
      "Weather data for city 247, vestmannaeyjar, retrieved.\n",
      "Something went wrong retrieving the weather data for city 248, kuche, it has been removed from the list of cities.\n",
      "Weather data for city 249, kayerkan, retrieved.\n",
      "Weather data for city 250, goderich, retrieved.\n",
      "Weather data for city 251, hambantota, retrieved.\n",
      "Weather data for city 252, klaksvik, retrieved.\n",
      "Weather data for city 253, itarema, retrieved.\n",
      "Weather data for city 254, santa cruz cabralia, retrieved.\n",
      "Weather data for city 255, la ronge, retrieved.\n",
      "Something went wrong retrieving the weather data for city 256, mouzakion, it has been removed from the list of cities.\n",
      "Weather data for city 257, mount gambier, retrieved.\n",
      "Weather data for city 258, saint-louis, retrieved.\n",
      "Weather data for city 259, bandundu, retrieved.\n",
      "Weather data for city 260, mangai, retrieved.\n",
      "Something went wrong retrieving the weather data for city 261, ijaki, it has been removed from the list of cities.\n",
      "Weather data for city 262, eston, retrieved.\n",
      "Something went wrong retrieving the weather data for city 263, samatau, it has been removed from the list of cities.\n",
      "Weather data for city 264, touros, retrieved.\n",
      "Weather data for city 265, vawkavysk, retrieved.\n",
      "Weather data for city 266, aquiraz, retrieved.\n",
      "Weather data for city 267, aanekoski, retrieved.\n",
      "Weather data for city 268, aklavik, retrieved.\n",
      "Weather data for city 269, cao bang, retrieved.\n",
      "Weather data for city 270, upernavik, retrieved.\n",
      "Weather data for city 271, bharatpur, retrieved.\n",
      "Weather data for city 272, uruzgan, retrieved.\n",
      "Something went wrong retrieving the weather data for city 273, barentsburg, it has been removed from the list of cities.\n",
      "Weather data for city 274, gazanjyk, retrieved.\n",
      "Weather data for city 275, waipawa, retrieved.\n",
      "Something went wrong retrieving the weather data for city 276, meyungs, it has been removed from the list of cities.\n",
      "Weather data for city 277, ternate, retrieved.\n",
      "Weather data for city 278, fairbanks, retrieved.\n",
      "Something went wrong retrieving the weather data for city 279, tsihombe, it has been removed from the list of cities.\n",
      "Weather data for city 280, chuy, retrieved.\n",
      "Weather data for city 281, at-bashi, retrieved.\n",
      "Weather data for city 282, macamic, retrieved.\n",
      "Weather data for city 283, menongue, retrieved.\n",
      "Something went wrong retrieving the weather data for city 284, nizhneyansk, it has been removed from the list of cities.\n",
      "Weather data for city 285, lusaka, retrieved.\n",
      "Something went wrong retrieving the weather data for city 286, barroualie, it has been removed from the list of cities.\n",
      "Weather data for city 287, manaus, retrieved.\n",
      "Weather data for city 288, salalah, retrieved.\n",
      "Weather data for city 289, kollam, retrieved.\n",
      "Weather data for city 290, hailun, retrieved.\n",
      "Weather data for city 291, chara, retrieved.\n",
      "Weather data for city 292, orcopampa, retrieved.\n",
      "Weather data for city 293, moa, retrieved.\n",
      "Weather data for city 294, gao, retrieved.\n",
      "Weather data for city 295, sibolga, retrieved.\n",
      "Weather data for city 296, berbera, retrieved.\n",
      "Weather data for city 297, kasongo-lunda, retrieved.\n",
      "Weather data for city 298, birjand, retrieved.\n",
      "Weather data for city 299, palmas bellas, retrieved.\n",
      "Weather data for city 300, kavieng, retrieved.\n",
      "Weather data for city 301, tanout, retrieved.\n"
     ]
    },
    {
     "name": "stdout",
     "output_type": "stream",
     "text": [
      "Weather data for city 302, tekeli, retrieved.\n",
      "Weather data for city 303, champerico, retrieved.\n",
      "Weather data for city 304, taft, retrieved.\n",
      "Weather data for city 305, marataizes, retrieved.\n",
      "Weather data for city 306, aguimes, retrieved.\n",
      "Weather data for city 307, windhoek, retrieved.\n",
      "Weather data for city 308, hun, retrieved.\n",
      "Weather data for city 309, pinsk, retrieved.\n",
      "Weather data for city 310, batagay-alyta, retrieved.\n",
      "Weather data for city 311, gorontalo, retrieved.\n",
      "Weather data for city 312, lebyazhye, retrieved.\n",
      "Weather data for city 313, kalabo, retrieved.\n",
      "Weather data for city 314, orzu, retrieved.\n",
      "Weather data for city 315, khani, retrieved.\n",
      "Weather data for city 316, victoria, retrieved.\n",
      "Something went wrong retrieving the weather data for city 317, louisbourg, it has been removed from the list of cities.\n",
      "Weather data for city 318, walvis bay, retrieved.\n",
      "Weather data for city 319, firminy, retrieved.\n",
      "Weather data for city 320, umba, retrieved.\n",
      "Weather data for city 321, tiznit, retrieved.\n",
      "Weather data for city 322, hami, retrieved.\n",
      "Weather data for city 323, dunda, retrieved.\n",
      "Weather data for city 324, ugoofaaru, retrieved.\n",
      "Something went wrong retrieving the weather data for city 325, mataiea, it has been removed from the list of cities.\n",
      "Weather data for city 326, mvuma, retrieved.\n",
      "Weather data for city 327, agirish, retrieved.\n",
      "Weather data for city 328, ko samui, retrieved.\n",
      "Weather data for city 329, balkhash, retrieved.\n",
      "Weather data for city 330, norsup, retrieved.\n",
      "Weather data for city 331, ortisoara, retrieved.\n",
      "Weather data for city 332, soyo, retrieved.\n",
      "Weather data for city 333, umi, retrieved.\n",
      "Weather data for city 334, road town, retrieved.\n",
      "Weather data for city 335, sungaipenuh, retrieved.\n",
      "Weather data for city 336, nemours, retrieved.\n",
      "Weather data for city 337, carnarvon, retrieved.\n",
      "Weather data for city 338, nieuw amsterdam, retrieved.\n",
      "Weather data for city 339, kupang, retrieved.\n",
      "Weather data for city 340, wynyard, retrieved.\n",
      "Weather data for city 341, rabaul, retrieved.\n",
      "Weather data for city 342, bicester, retrieved.\n",
      "Weather data for city 343, masvingo, retrieved.\n",
      "Weather data for city 344, burns lake, retrieved.\n",
      "Weather data for city 345, kiruna, retrieved.\n",
      "Weather data for city 346, birao, retrieved.\n",
      "Weather data for city 347, khandbari, retrieved.\n",
      "Something went wrong retrieving the weather data for city 348, bokspits, it has been removed from the list of cities.\n",
      "Weather data for city 349, half moon bay, retrieved.\n",
      "Weather data for city 350, port macquarie, retrieved.\n",
      "Weather data for city 351, sohag, retrieved.\n",
      "Weather data for city 352, lompoc, retrieved.\n",
      "Weather data for city 353, maumere, retrieved.\n",
      "Weather data for city 354, wum, retrieved.\n",
      "Weather data for city 355, anito, retrieved.\n",
      "Weather data for city 356, tessalit, retrieved.\n",
      "Weather data for city 357, soria, retrieved.\n",
      "Weather data for city 358, alamos, retrieved.\n",
      "Weather data for city 359, evensk, retrieved.\n",
      "Weather data for city 360, santona, retrieved.\n",
      "Weather data for city 361, maneadero, retrieved.\n",
      "Weather data for city 362, mao, retrieved.\n",
      "Weather data for city 363, lata, retrieved.\n",
      "Weather data for city 364, sahuaripa, retrieved.\n",
      "Weather data for city 365, copiapo, retrieved.\n",
      "Weather data for city 366, sao jose da coroa grande, retrieved.\n",
      "Weather data for city 367, nizhnevartovsk, retrieved.\n",
      "Weather data for city 368, kamenka, retrieved.\n",
      "Weather data for city 369, mazatlan, retrieved.\n",
      "Weather data for city 370, guerrero negro, retrieved.\n",
      "Weather data for city 371, ust-kuyga, retrieved.\n",
      "Weather data for city 372, sakakah, retrieved.\n",
      "Weather data for city 373, mumbwa, retrieved.\n",
      "Weather data for city 374, ostersund, retrieved.\n",
      "Weather data for city 375, nanakuli, retrieved.\n",
      "Weather data for city 376, dunedin, retrieved.\n",
      "Weather data for city 377, kjopsvik, retrieved.\n",
      "Something went wrong retrieving the weather data for city 378, cam pha, it has been removed from the list of cities.\n",
      "Weather data for city 379, mingshui, retrieved.\n",
      "Weather data for city 380, leningradskiy, retrieved.\n",
      "Weather data for city 381, aktau, retrieved.\n",
      "Weather data for city 382, isfana, retrieved.\n",
      "Weather data for city 383, anahuac, retrieved.\n",
      "Weather data for city 384, wajir, retrieved.\n",
      "Weather data for city 385, camacha, retrieved.\n",
      "Something went wrong retrieving the weather data for city 386, labutta, it has been removed from the list of cities.\n",
      "Weather data for city 387, alekseyevsk, retrieved.\n",
      "Something went wrong retrieving the weather data for city 388, santa eulalia del rio, it has been removed from the list of cities.\n",
      "Weather data for city 389, imbituba, retrieved.\n",
      "Something went wrong retrieving the weather data for city 390, rolim de moura, it has been removed from the list of cities.\n",
      "Something went wrong retrieving the weather data for city 391, kasra, it has been removed from the list of cities.\n",
      "Weather data for city 392, churapcha, retrieved.\n",
      "Weather data for city 393, henties bay, retrieved.\n",
      "Weather data for city 394, victor harbor, retrieved.\n",
      "Weather data for city 395, dir, retrieved.\n",
      "Weather data for city 396, santa luzia, retrieved.\n",
      "Weather data for city 397, santa cruz, retrieved.\n",
      "Weather data for city 398, zinder, retrieved.\n",
      "Weather data for city 399, nyanza, retrieved.\n",
      "Weather data for city 400, cabcaben, retrieved.\n",
      "Weather data for city 401, shimoda, retrieved.\n",
      "Weather data for city 402, bargi, retrieved.\n",
      "Weather data for city 403, pedro juan caballero, retrieved.\n",
      "Weather data for city 404, haines junction, retrieved.\n",
      "Weather data for city 405, manjeshwar, retrieved.\n",
      "Weather data for city 406, toamasina, retrieved.\n",
      "Weather data for city 407, gualeguay, retrieved.\n",
      "Something went wrong retrieving the weather data for city 408, azimur, it has been removed from the list of cities.\n",
      "Weather data for city 409, mmathubudukwane, retrieved.\n",
      "Weather data for city 410, nome, retrieved.\n",
      "Weather data for city 411, lubbock, retrieved.\n",
      "Weather data for city 412, khandyga, retrieved.\n",
      "Weather data for city 413, bac lieu, retrieved.\n",
      "Weather data for city 414, longyearbyen, retrieved.\n",
      "Weather data for city 415, miguel hidalgo, retrieved.\n",
      "Weather data for city 416, pisco, retrieved.\n",
      "Weather data for city 417, bayir, retrieved.\n",
      "Weather data for city 418, sainte-maxime, retrieved.\n",
      "Weather data for city 419, huancavelica, retrieved.\n",
      "Weather data for city 420, wanxian, retrieved.\n",
      "Weather data for city 421, gazipur, retrieved.\n",
      "Weather data for city 422, dalaba, retrieved.\n",
      "Weather data for city 423, sept-iles, retrieved.\n",
      "Weather data for city 424, egvekinot, retrieved.\n",
      "Weather data for city 425, maine-soroa, retrieved.\n",
      "Weather data for city 426, hovd, retrieved.\n",
      "Weather data for city 427, bethanien, retrieved.\n",
      "Weather data for city 428, kholmogory, retrieved.\n",
      "Weather data for city 429, lufilufi, retrieved.\n",
      "Weather data for city 430, bonthe, retrieved.\n",
      "Weather data for city 431, maragogi, retrieved.\n",
      "Weather data for city 432, ansalta, retrieved.\n",
      "Weather data for city 433, sinnamary, retrieved.\n",
      "Weather data for city 434, san ignacio, retrieved.\n",
      "Weather data for city 435, tura, retrieved.\n",
      "Weather data for city 436, lubliniec, retrieved.\n",
      "Weather data for city 437, carutapera, retrieved.\n",
      "Weather data for city 438, coquimbo, retrieved.\n",
      "Weather data for city 439, itaituba, retrieved.\n",
      "Weather data for city 440, rincon, retrieved.\n",
      "Weather data for city 441, leh, retrieved.\n",
      "Weather data for city 442, ronneby, retrieved.\n",
      "Weather data for city 443, katsuura, retrieved.\n",
      "Weather data for city 444, gueugnon, retrieved.\n",
      "Weather data for city 445, gamba, retrieved.\n",
      "Weather data for city 446, tecoanapa, retrieved.\n",
      "Weather data for city 447, eyl, retrieved.\n",
      "Weather data for city 448, dubrovka, retrieved.\n",
      "Weather data for city 449, krasnyy chikoy, retrieved.\n",
      "Weather data for city 450, ganta, retrieved.\n",
      "Something went wrong retrieving the weather data for city 451, fevralsk, it has been removed from the list of cities.\n",
      "Weather data for city 452, ilo, retrieved.\n",
      "Weather data for city 453, karratha, retrieved.\n",
      "Something went wrong retrieving the weather data for city 454, samusu, it has been removed from the list of cities.\n",
      "Weather data for city 455, ahuimanu, retrieved.\n",
      "Weather data for city 456, norheimsund, retrieved.\n"
     ]
    },
    {
     "name": "stdout",
     "output_type": "stream",
     "text": [
      "Weather data for city 457, ivankiv, retrieved.\n",
      "Weather data for city 458, teya, retrieved.\n",
      "Weather data for city 459, cockburn town, retrieved.\n",
      "Weather data for city 460, iwaki, retrieved.\n",
      "Weather data for city 461, auki, retrieved.\n",
      "Weather data for city 462, ouallam, retrieved.\n",
      "Weather data for city 463, tsiroanomandidy, retrieved.\n",
      "Something went wrong retrieving the weather data for city 464, jomalig, it has been removed from the list of cities.\n",
      "Weather data for city 465, arlit, retrieved.\n",
      "Weather data for city 466, kumta, retrieved.\n",
      "Weather data for city 467, constitucion, retrieved.\n",
      "Something went wrong retrieving the weather data for city 468, marcona, it has been removed from the list of cities.\n",
      "Weather data for city 469, srednekolymsk, retrieved.\n",
      "Weather data for city 470, nizhniy ingash, retrieved.\n",
      "Weather data for city 471, whitehorse, retrieved.\n",
      "Weather data for city 472, basco, retrieved.\n",
      "Weather data for city 473, northam, retrieved.\n",
      "Weather data for city 474, lebu, retrieved.\n",
      "Weather data for city 475, nioro, retrieved.\n",
      "Weather data for city 476, vredendal, retrieved.\n",
      "Weather data for city 477, tarko-sale, retrieved.\n",
      "Something went wrong retrieving the weather data for city 478, attawapiskat, it has been removed from the list of cities.\n",
      "Something went wrong retrieving the weather data for city 479, chagda, it has been removed from the list of cities.\n",
      "Weather data for city 480, los llanos de aridane, retrieved.\n",
      "Weather data for city 481, narsaq, retrieved.\n",
      "Weather data for city 482, melilla, retrieved.\n",
      "Something went wrong retrieving the weather data for city 483, tumannyy, it has been removed from the list of cities.\n",
      "Weather data for city 484, caravelas, retrieved.\n",
      "Weather data for city 485, mayumba, retrieved.\n",
      "Weather data for city 486, solnechnyy, retrieved.\n",
      "Weather data for city 487, saint-georges, retrieved.\n",
      "Weather data for city 488, buchanan, retrieved.\n",
      "Weather data for city 489, mold, retrieved.\n",
      "Weather data for city 490, yenagoa, retrieved.\n",
      "Weather data for city 491, great falls, retrieved.\n",
      "Weather data for city 492, jalgaon, retrieved.\n",
      "Weather data for city 493, saint george, retrieved.\n",
      "Weather data for city 494, buraydah, retrieved.\n",
      "Weather data for city 495, homer, retrieved.\n",
      "Weather data for city 496, xining, retrieved.\n",
      "Weather data for city 497, sioux lookout, retrieved.\n",
      "Weather data for city 498, launceston, retrieved.\n",
      "Something went wrong retrieving the weather data for city 499, karaul, it has been removed from the list of cities.\n",
      "Weather data for city 500, gold coast, retrieved.\n",
      "Weather data for city 501, inirida, retrieved.\n",
      "Weather data for city 502, estevan, retrieved.\n",
      "Weather data for city 503, rawson, retrieved.\n",
      "Weather data for city 504, vilyuysk, retrieved.\n",
      "Weather data for city 505, the valley, retrieved.\n",
      "Weather data for city 506, adrar, retrieved.\n",
      "Weather data for city 507, jinchang, retrieved.\n",
      "Something went wrong retrieving the weather data for city 508, stoyba, it has been removed from the list of cities.\n",
      "Weather data for city 509, rabo de peixe, retrieved.\n",
      "Weather data for city 510, marawi, retrieved.\n",
      "Weather data for city 511, ibra, retrieved.\n",
      "Weather data for city 512, gladstone, retrieved.\n",
      "Weather data for city 513, calama, retrieved.\n",
      "Weather data for city 514, marabba, retrieved.\n",
      "Weather data for city 515, romanovo, retrieved.\n",
      "Weather data for city 516, abeche, retrieved.\n",
      "Weather data for city 517, mogapinyana, retrieved.\n",
      "Weather data for city 518, kaeo, retrieved.\n",
      "Weather data for city 519, lasa, retrieved.\n",
      "Weather data for city 520, tokur, retrieved.\n",
      "Weather data for city 521, kaitangata, retrieved.\n",
      "Weather data for city 522, port-gentil, retrieved.\n",
      "Something went wrong retrieving the weather data for city 523, toftir, it has been removed from the list of cities.\n",
      "Weather data for city 524, plouzane, retrieved.\n",
      "Weather data for city 525, doha, retrieved.\n",
      "Weather data for city 526, salvador, retrieved.\n",
      "Weather data for city 527, burnie, retrieved.\n",
      "Weather data for city 528, busok, retrieved.\n",
      "Something went wrong retrieving the weather data for city 529, mys shmidta, it has been removed from the list of cities.\n",
      "Weather data for city 530, tiarei, retrieved.\n",
      "Weather data for city 531, inongo, retrieved.\n",
      "Weather data for city 532, nara, retrieved.\n",
      "Weather data for city 533, tomatlan, retrieved.\n",
      "Weather data for city 534, placido de castro, retrieved.\n",
      "Weather data for city 535, nikolayevka, retrieved.\n",
      "Weather data for city 536, magdagachi, retrieved.\n",
      "Weather data for city 537, inta, retrieved.\n",
      "Weather data for city 538, porto torres, retrieved.\n",
      "Weather data for city 539, padang, retrieved.\n",
      "Weather data for city 540, laguna, retrieved.\n",
      "Something went wrong retrieving the weather data for city 541, palabuhanratu, it has been removed from the list of cities.\n",
      "Weather data for city 542, lumeje, retrieved.\n",
      "Weather data for city 543, okato, retrieved.\n",
      "Weather data for city 544, oistins, retrieved.\n",
      "Weather data for city 545, sibenik, retrieved.\n",
      "Weather data for city 546, klyuchi, retrieved.\n",
      "Weather data for city 547, kireyevsk, retrieved.\n",
      "Weather data for city 548, fountain hills, retrieved.\n",
      "Weather data for city 549, te anau, retrieved.\n",
      "Weather data for city 550, nogliki, retrieved.\n",
      "Weather data for city 551, san jeronimo, retrieved.\n",
      "Weather data for city 552, ambovombe, retrieved.\n",
      "Weather data for city 553, howard springs, retrieved.\n",
      "Weather data for city 554, kupino, retrieved.\n",
      "Weather data for city 555, moanda, retrieved.\n",
      "Weather data for city 556, diego de almagro, retrieved.\n",
      "Weather data for city 557, salym, retrieved.\n",
      "Weather data for city 558, rajgarh, retrieved.\n",
      "Weather data for city 559, sanchor, retrieved.\n",
      "Weather data for city 560, canandaigua, retrieved.\n",
      "Something went wrong retrieving the weather data for city 561, zolnoye, it has been removed from the list of cities.\n",
      "Weather data for city 562, merauke, retrieved.\n",
      "Weather data for city 563, vernon, retrieved.\n",
      "Weather data for city 564, minbu, retrieved.\n",
      "Weather data for city 565, kalmunai, retrieved.\n",
      "Weather data for city 566, abu samrah, retrieved.\n",
      "Something went wrong retrieving the weather data for city 567, halalo, it has been removed from the list of cities.\n",
      "Weather data for city 568, russell, retrieved.\n",
      "Something went wrong retrieving the weather data for city 569, thano bula khan, it has been removed from the list of cities.\n",
      "Weather data for city 570, gizo, retrieved.\n",
      "Weather data for city 571, karimnagar, retrieved.\n",
      "Weather data for city 572, alice springs, retrieved.\n",
      "Something went wrong retrieving the weather data for city 573, umzimvubu, it has been removed from the list of cities.\n",
      "Weather data for city 574, sabang, retrieved.\n",
      "Weather data for city 575, maniitsoq, retrieved.\n",
      "Something went wrong retrieving the weather data for city 576, maykain, it has been removed from the list of cities.\n",
      "Something went wrong retrieving the weather data for city 577, toliary, it has been removed from the list of cities.\n",
      "Weather data for city 578, boyolangu, retrieved.\n",
      "Weather data for city 579, colwyn bay, retrieved.\n",
      "Weather data for city 580, faya, retrieved.\n",
      "Weather data for city 581, darnah, retrieved.\n",
      "Weather data for city 582, hobyo, retrieved.\n",
      "Weather data for city 583, balkanabat, retrieved.\n",
      "Weather data for city 584, saint anthony, retrieved.\n",
      "Weather data for city 585, roald, retrieved.\n",
      "Weather data for city 586, moerai, retrieved.\n",
      "Weather data for city 587, santa rosa, retrieved.\n",
      "Weather data for city 588, terrassa, retrieved.\n",
      "Weather data for city 589, naryan-mar, retrieved.\n",
      "Weather data for city 590, panama city, retrieved.\n",
      "Weather data for city 591, torbay, retrieved.\n",
      "Weather data for city 592, kunya, retrieved.\n",
      "Weather data for city 593, koungou, retrieved.\n",
      "Weather data for city 594, pontianak, retrieved.\n",
      "Weather data for city 595, bull savanna, retrieved.\n",
      "Weather data for city 596, roebourne, retrieved.\n",
      "Something went wrong retrieving the weather data for city 597, tharrawaddy, it has been removed from the list of cities.\n",
      "Weather data for city 598, yangjiang, retrieved.\n",
      "Weather data for city 599, gondanglegi, retrieved.\n",
      "Weather data for city 600, husavik, retrieved.\n",
      "Weather data for city 601, meulaboh, retrieved.\n",
      "Weather data for city 602, brae, retrieved.\n",
      "Weather data for city 603, dakar, retrieved.\n"
     ]
    },
    {
     "name": "stdout",
     "output_type": "stream",
     "text": [
      "Weather data for city 604, uige, retrieved.\n",
      "Weather data for city 605, keffi, retrieved.\n",
      "Weather data for city 606, miyako, retrieved.\n",
      "Weather data for city 607, barcelona, retrieved.\n",
      "Weather data for city 608, gua musang, retrieved.\n",
      "Weather data for city 609, tabasalu, retrieved.\n",
      "Weather data for city 610, oranjestad, retrieved.\n",
      "Weather data for city 611, koslan, retrieved.\n",
      "Weather data for city 612, datong, retrieved.\n",
      "Weather data for city 613, tilichiki, retrieved.\n",
      "Weather data for city 614, hay river, retrieved.\n",
      "Weather data for city 615, berekum, retrieved.\n",
      "Weather data for city 616, quincy, retrieved.\n",
      "Weather data for city 617, taraz, retrieved.\n",
      "Weather data for city 618, itapetinga, retrieved.\n",
      "Weather data for city 619, shu, retrieved.\n",
      "Weather data for city 620, mehamn, retrieved.\n",
      "Weather data for city 621, bandiagara, retrieved.\n",
      "Something went wrong retrieving the weather data for city 622, bolungarvik, it has been removed from the list of cities.\n",
      "Weather data for city 623, mecca, retrieved.\n",
      "Something went wrong retrieving the weather data for city 624, kamenskoye, it has been removed from the list of cities.\n",
      "Weather data for city 625, maniwaki, retrieved.\n"
     ]
    }
   ],
   "source": [
    "# Lists to hold relevant data\n",
    "cities_with_weather_data = []\n",
    "cities_with_weather_data_countries = []\n",
    "longitudes = []\n",
    "latitudes = []\n",
    "dates = []\n",
    "temperatures = []\n",
    "humidities = []\n",
    "cloudiness = []\n",
    "wind_speeds = []\n",
    "max_temperatures = []\n",
    "\n",
    "# City index\n",
    "city_index = -1\n",
    "\n",
    "# Count of cities removed from the cities list\n",
    "removed_city_count = 0\n",
    "\n",
    "# Build partial URL\n",
    "url = \"http://api.openweathermap.org/data/2.5/weather?\"\n",
    "units = \"imperial\"\n",
    "\n",
    "# Build query URL\n",
    "query_url = f\"{url}appid={weather_api_key}&units={units}&q=\"\n",
    "\n",
    "# Loop through list of cities\n",
    "for city in cities:\n",
    "    \n",
    "    # Call OpenWeather API for info on specific city\n",
    "    response = requests.get(query_url + city).json()\n",
    "    \n",
    "    city_index = city_index + 1\n",
    "    \n",
    "    # Try to retrieve the city's weather data\n",
    "    try:\n",
    "        \n",
    "        # Add city longitude to longitudes list\n",
    "        longitudes.append(response['coord']['lon'])\n",
    "        \n",
    "        # Add city latitude to latitudes list\n",
    "        latitudes.append(response['coord']['lat'])\n",
    "        \n",
    "        # Add time of weather data collection to date list\n",
    "        dates.append(response['dt'])\n",
    "        \n",
    "        # Add city temperature (F) to temperatures list\n",
    "        temperatures.append(response['main']['temp'])\n",
    "        \n",
    "        # Add city humidty (%) to humidities list\n",
    "        humidities.append(response['main']['humidity'])\n",
    "        \n",
    "        # Add city cloudiness (%) to cloudiness list\n",
    "        cloudiness.append(response['clouds']['all'])\n",
    "        \n",
    "        # Add city wind speed (mph) to wind_speeds list\n",
    "        wind_speeds.append(response['wind']['speed'])\n",
    "        \n",
    "        # Add city temperature (F) to temperatures list\n",
    "        max_temperatures.append(response['main']['temp_max'])\n",
    "        \n",
    "        # Add city whose weather data we retrieved to cities_with_weather_data list\n",
    "        cities_with_weather_data.append(city)\n",
    "        \n",
    "        #---------------------------------- For some reason this bit won't work?????------------------------------------------\n",
    "        \n",
    "        # Add city's country whose weather data we retrieved to cities_with_weather_data_country list\n",
    "        #cities_with_weather_data_country.append(response['sys']['country'])\n",
    "        \n",
    "        #---------------------------------------------------------------------------------------------------------------------\n",
    "        \n",
    "        # Print log of cities gathered\n",
    "        print(f\"Weather data for city {city_index}, {city}, retrieved.\")\n",
    "        \n",
    "    # Handle exceptions where the OpenWeatherMap API can't retrieve the city's weather data\n",
    "    except:\n",
    "        \n",
    "        # Print log saying something went wrong\n",
    "        print(f\"Something went wrong retrieving the weather data for city {city_index}, {city}, it has been removed from the list of cities.\")\n",
    "        \n",
    "        # Increase count of removed cities\n",
    "        removed_city_count = removed_city_count + 1\n",
    "        \n",
    "        # Pass and go to next city on cities list\n",
    "        pass"
   ]
  },
  {
   "cell_type": "code",
   "execution_count": 7,
   "metadata": {},
   "outputs": [
    {
     "data": {
      "text/plain": [
       "58"
      ]
     },
     "execution_count": 7,
     "metadata": {},
     "output_type": "execute_result"
    }
   ],
   "source": [
    "removed_city_count"
   ]
  },
  {
   "cell_type": "code",
   "execution_count": 8,
   "metadata": {},
   "outputs": [
    {
     "data": {
      "text/plain": [
       "568"
      ]
     },
     "execution_count": 8,
     "metadata": {},
     "output_type": "execute_result"
    }
   ],
   "source": [
    "len(cities_with_weather_data)"
   ]
  },
  {
   "cell_type": "code",
   "execution_count": 9,
   "metadata": {},
   "outputs": [
    {
     "data": {
      "text/plain": [
       "626"
      ]
     },
     "execution_count": 9,
     "metadata": {},
     "output_type": "execute_result"
    }
   ],
   "source": [
    "len(cities)"
   ]
  },
  {
   "cell_type": "code",
   "execution_count": 10,
   "metadata": {},
   "outputs": [
    {
     "data": {
      "text/plain": [
       "568"
      ]
     },
     "execution_count": 10,
     "metadata": {},
     "output_type": "execute_result"
    }
   ],
   "source": [
    "len(temperatures)"
   ]
  },
  {
   "cell_type": "code",
   "execution_count": 11,
   "metadata": {},
   "outputs": [
    {
     "data": {
      "text/plain": [
       "568"
      ]
     },
     "execution_count": 11,
     "metadata": {},
     "output_type": "execute_result"
    }
   ],
   "source": [
    "len(humidities)"
   ]
  },
  {
   "cell_type": "code",
   "execution_count": 12,
   "metadata": {},
   "outputs": [
    {
     "data": {
      "text/plain": [
       "568"
      ]
     },
     "execution_count": 12,
     "metadata": {},
     "output_type": "execute_result"
    }
   ],
   "source": [
    "len(cloudiness)"
   ]
  },
  {
   "cell_type": "code",
   "execution_count": 13,
   "metadata": {
    "scrolled": true
   },
   "outputs": [
    {
     "data": {
      "text/plain": [
       "568"
      ]
     },
     "execution_count": 13,
     "metadata": {},
     "output_type": "execute_result"
    }
   ],
   "source": [
    "len(wind_speeds)"
   ]
  },
  {
   "cell_type": "code",
   "execution_count": 14,
   "metadata": {},
   "outputs": [
    {
     "data": {
      "text/plain": [
       "568"
      ]
     },
     "execution_count": 14,
     "metadata": {},
     "output_type": "execute_result"
    }
   ],
   "source": [
    "len(latitudes)"
   ]
  },
  {
   "cell_type": "code",
   "execution_count": 15,
   "metadata": {
    "scrolled": true
   },
   "outputs": [
    {
     "data": {
      "text/plain": [
       "[24.71, 31.08, 42.8, 60.37, 35.26, 78.8, 77, 55.6, 76.14, 59.45]"
      ]
     },
     "execution_count": 15,
     "metadata": {},
     "output_type": "execute_result"
    }
   ],
   "source": [
    "temperatures[:10]"
   ]
  },
  {
   "cell_type": "code",
   "execution_count": 16,
   "metadata": {
    "scrolled": true
   },
   "outputs": [
    {
     "data": {
      "text/plain": [
       "[97, 97, 61, 55, 87, 36, 73, 70, 78, 75]"
      ]
     },
     "execution_count": 16,
     "metadata": {},
     "output_type": "execute_result"
    }
   ],
   "source": [
    "humidities[:10]"
   ]
  },
  {
   "cell_type": "code",
   "execution_count": 17,
   "metadata": {
    "scrolled": true
   },
   "outputs": [
    {
     "data": {
      "text/plain": [
       "[98, 100, 0, 20, 75, 71, 75, 91, 40, 95]"
      ]
     },
     "execution_count": 17,
     "metadata": {},
     "output_type": "execute_result"
    }
   ],
   "source": [
    "cloudiness[:10]"
   ]
  },
  {
   "cell_type": "code",
   "execution_count": 18,
   "metadata": {
    "scrolled": true
   },
   "outputs": [
    {
     "data": {
      "text/plain": [
       "[1.21, 15.01, 5.75, 17.27, 6.71, 25.32, 6.91, 6.93, 11.5, 3.53]"
      ]
     },
     "execution_count": 18,
     "metadata": {},
     "output_type": "execute_result"
    }
   ],
   "source": [
    "wind_speeds[:10]"
   ]
  },
  {
   "cell_type": "code",
   "execution_count": 19,
   "metadata": {},
   "outputs": [
    {
     "data": {
      "text/plain": [
       "[66.1451,\n",
       " 65.85,\n",
       " -54.8,\n",
       " 32.6667,\n",
       " 64.75,\n",
       " -28.7667,\n",
       " -21.2,\n",
       " -24.7911,\n",
       " -20.2078,\n",
       " 63.0734]"
      ]
     },
     "execution_count": 19,
     "metadata": {},
     "output_type": "execute_result"
    }
   ],
   "source": [
    "latitudes[:10]"
   ]
  },
  {
   "cell_type": "markdown",
   "metadata": {},
   "source": [
    "### Convert Raw Data to DataFrame\n",
    "* Export the city data into a .csv.\n",
    "* Display the DataFrame"
   ]
  },
  {
   "cell_type": "code",
   "execution_count": 20,
   "metadata": {},
   "outputs": [
    {
     "data": {
      "text/html": [
       "<div>\n",
       "<style scoped>\n",
       "    .dataframe tbody tr th:only-of-type {\n",
       "        vertical-align: middle;\n",
       "    }\n",
       "\n",
       "    .dataframe tbody tr th {\n",
       "        vertical-align: top;\n",
       "    }\n",
       "\n",
       "    .dataframe thead th {\n",
       "        text-align: right;\n",
       "    }\n",
       "</style>\n",
       "<table border=\"1\" class=\"dataframe\">\n",
       "  <thead>\n",
       "    <tr style=\"text-align: right;\">\n",
       "      <th></th>\n",
       "      <th>City</th>\n",
       "      <th>Longitude</th>\n",
       "      <th>Latitude</th>\n",
       "      <th>Date</th>\n",
       "      <th>Temperature (F)</th>\n",
       "      <th>Humidity (%)</th>\n",
       "      <th>Cloudiness (%)</th>\n",
       "      <th>Wind Speed (mph)</th>\n",
       "      <th>Max Temperature (F)</th>\n",
       "    </tr>\n",
       "  </thead>\n",
       "  <tbody>\n",
       "    <tr>\n",
       "      <th>0</th>\n",
       "      <td>pangnirtung</td>\n",
       "      <td>-65.7125</td>\n",
       "      <td>66.1451</td>\n",
       "      <td>1620956631</td>\n",
       "      <td>24.71</td>\n",
       "      <td>97</td>\n",
       "      <td>98</td>\n",
       "      <td>1.21</td>\n",
       "      <td>24.71</td>\n",
       "    </tr>\n",
       "    <tr>\n",
       "      <th>1</th>\n",
       "      <td>pangody</td>\n",
       "      <td>74.4859</td>\n",
       "      <td>65.8500</td>\n",
       "      <td>1620956632</td>\n",
       "      <td>31.08</td>\n",
       "      <td>97</td>\n",
       "      <td>100</td>\n",
       "      <td>15.01</td>\n",
       "      <td>31.08</td>\n",
       "    </tr>\n",
       "    <tr>\n",
       "      <th>2</th>\n",
       "      <td>ushuaia</td>\n",
       "      <td>-68.3000</td>\n",
       "      <td>-54.8000</td>\n",
       "      <td>1620956435</td>\n",
       "      <td>42.80</td>\n",
       "      <td>61</td>\n",
       "      <td>0</td>\n",
       "      <td>5.75</td>\n",
       "      <td>42.80</td>\n",
       "    </tr>\n",
       "    <tr>\n",
       "      <th>3</th>\n",
       "      <td>ponta do sol</td>\n",
       "      <td>-17.1000</td>\n",
       "      <td>32.6667</td>\n",
       "      <td>1620956632</td>\n",
       "      <td>60.37</td>\n",
       "      <td>55</td>\n",
       "      <td>20</td>\n",
       "      <td>17.27</td>\n",
       "      <td>66.20</td>\n",
       "    </tr>\n",
       "    <tr>\n",
       "      <th>4</th>\n",
       "      <td>anadyr</td>\n",
       "      <td>177.4833</td>\n",
       "      <td>64.7500</td>\n",
       "      <td>1620956633</td>\n",
       "      <td>35.26</td>\n",
       "      <td>87</td>\n",
       "      <td>75</td>\n",
       "      <td>6.71</td>\n",
       "      <td>35.60</td>\n",
       "    </tr>\n",
       "  </tbody>\n",
       "</table>\n",
       "</div>"
      ],
      "text/plain": [
       "           City  Longitude  Latitude        Date  Temperature (F)  \\\n",
       "0   pangnirtung   -65.7125   66.1451  1620956631            24.71   \n",
       "1       pangody    74.4859   65.8500  1620956632            31.08   \n",
       "2       ushuaia   -68.3000  -54.8000  1620956435            42.80   \n",
       "3  ponta do sol   -17.1000   32.6667  1620956632            60.37   \n",
       "4        anadyr   177.4833   64.7500  1620956633            35.26   \n",
       "\n",
       "   Humidity (%)  Cloudiness (%)  Wind Speed (mph)  Max Temperature (F)  \n",
       "0            97              98              1.21                24.71  \n",
       "1            97             100             15.01                31.08  \n",
       "2            61               0              5.75                42.80  \n",
       "3            55              20             17.27                66.20  \n",
       "4            87              75              6.71                35.60  "
      ]
     },
     "execution_count": 20,
     "metadata": {},
     "output_type": "execute_result"
    }
   ],
   "source": [
    "# Create dictionary of weather info in cities\n",
    "weather_dict = {\"City\": cities_with_weather_data,\n",
    "                \"Longitude\": longitudes,\n",
    "                \"Latitude\": latitudes,\n",
    "                \"Date\": dates,\n",
    "                \"Temperature (F)\": temperatures,\n",
    "                \"Humidity (%)\": humidities,\n",
    "                \"Cloudiness (%)\": cloudiness,\n",
    "                \"Wind Speed (mph)\": wind_speeds,\n",
    "                \"Max Temperature (F)\": max_temperatures}\n",
    "\n",
    "# Convert weather_dict into dataframe\n",
    "weather_data_df = pd.DataFrame(weather_dict)\n",
    "\n",
    "# Export dataframe to csv\n",
    "weather_data_df.to_csv(\"../output_data/weather_data.csv\", index=False, header=True)\n",
    "\n",
    "# Display dataframe\n",
    "weather_data_df.head()"
   ]
  },
  {
   "cell_type": "code",
   "execution_count": null,
   "metadata": {},
   "outputs": [],
   "source": []
  },
  {
   "cell_type": "markdown",
   "metadata": {},
   "source": [
    "## Inspect the data and remove the cities where the humidity > 100%.\n",
    "----\n",
    "Skip this step if there are no cities that have humidity > 100%. "
   ]
  },
  {
   "cell_type": "code",
   "execution_count": null,
   "metadata": {},
   "outputs": [],
   "source": []
  },
  {
   "cell_type": "code",
   "execution_count": 21,
   "metadata": {},
   "outputs": [
    {
     "data": {
      "text/plain": [
       "[]"
      ]
     },
     "execution_count": 21,
     "metadata": {},
     "output_type": "execute_result"
    }
   ],
   "source": [
    "#  Get the indices of cities that have humidity over 100%.\n",
    "\n",
    "humidity_over_100_indices = weather_data_df.index[weather_data_df[\"Humidity (%)\"] > 100]\n",
    "\n",
    "#humidity_over_100 = weather_data_df[\"Humidity (%)\"] > 100\n",
    "#humidity_over_100_indices = index[humidity_over_100]\n",
    "humidity_over_100_indices_list = humidity_over_100_indices.tolist()\n",
    "humidity_over_100_indices_list"
   ]
  },
  {
   "cell_type": "code",
   "execution_count": 22,
   "metadata": {},
   "outputs": [],
   "source": [
    "# Make a new DataFrame equal to the city data to drop all humidity outliers by index.\n",
    "# Passing \"inplace=False\" will make a copy of the city_data DataFrame, which we call \"clean_city_data\".\n",
    "clean_city_data = weather_data_df.drop(humidity_over_100_indices_list, inplace=False)\n",
    "clean_city_data.reset_index(drop=True, inplace=True)"
   ]
  },
  {
   "cell_type": "code",
   "execution_count": 23,
   "metadata": {},
   "outputs": [
    {
     "data": {
      "text/html": [
       "<div>\n",
       "<style scoped>\n",
       "    .dataframe tbody tr th:only-of-type {\n",
       "        vertical-align: middle;\n",
       "    }\n",
       "\n",
       "    .dataframe tbody tr th {\n",
       "        vertical-align: top;\n",
       "    }\n",
       "\n",
       "    .dataframe thead th {\n",
       "        text-align: right;\n",
       "    }\n",
       "</style>\n",
       "<table border=\"1\" class=\"dataframe\">\n",
       "  <thead>\n",
       "    <tr style=\"text-align: right;\">\n",
       "      <th></th>\n",
       "      <th>City</th>\n",
       "      <th>Longitude</th>\n",
       "      <th>Latitude</th>\n",
       "      <th>Date</th>\n",
       "      <th>Temperature (F)</th>\n",
       "      <th>Humidity (%)</th>\n",
       "      <th>Cloudiness (%)</th>\n",
       "      <th>Wind Speed (mph)</th>\n",
       "      <th>Max Temperature (F)</th>\n",
       "    </tr>\n",
       "  </thead>\n",
       "  <tbody>\n",
       "    <tr>\n",
       "      <th>0</th>\n",
       "      <td>pangnirtung</td>\n",
       "      <td>-65.7125</td>\n",
       "      <td>66.1451</td>\n",
       "      <td>1620956631</td>\n",
       "      <td>24.71</td>\n",
       "      <td>97</td>\n",
       "      <td>98</td>\n",
       "      <td>1.21</td>\n",
       "      <td>24.71</td>\n",
       "    </tr>\n",
       "    <tr>\n",
       "      <th>1</th>\n",
       "      <td>pangody</td>\n",
       "      <td>74.4859</td>\n",
       "      <td>65.8500</td>\n",
       "      <td>1620956632</td>\n",
       "      <td>31.08</td>\n",
       "      <td>97</td>\n",
       "      <td>100</td>\n",
       "      <td>15.01</td>\n",
       "      <td>31.08</td>\n",
       "    </tr>\n",
       "    <tr>\n",
       "      <th>2</th>\n",
       "      <td>ushuaia</td>\n",
       "      <td>-68.3000</td>\n",
       "      <td>-54.8000</td>\n",
       "      <td>1620956435</td>\n",
       "      <td>42.80</td>\n",
       "      <td>61</td>\n",
       "      <td>0</td>\n",
       "      <td>5.75</td>\n",
       "      <td>42.80</td>\n",
       "    </tr>\n",
       "    <tr>\n",
       "      <th>3</th>\n",
       "      <td>ponta do sol</td>\n",
       "      <td>-17.1000</td>\n",
       "      <td>32.6667</td>\n",
       "      <td>1620956632</td>\n",
       "      <td>60.37</td>\n",
       "      <td>55</td>\n",
       "      <td>20</td>\n",
       "      <td>17.27</td>\n",
       "      <td>66.20</td>\n",
       "    </tr>\n",
       "    <tr>\n",
       "      <th>4</th>\n",
       "      <td>anadyr</td>\n",
       "      <td>177.4833</td>\n",
       "      <td>64.7500</td>\n",
       "      <td>1620956633</td>\n",
       "      <td>35.26</td>\n",
       "      <td>87</td>\n",
       "      <td>75</td>\n",
       "      <td>6.71</td>\n",
       "      <td>35.60</td>\n",
       "    </tr>\n",
       "    <tr>\n",
       "      <th>...</th>\n",
       "      <td>...</td>\n",
       "      <td>...</td>\n",
       "      <td>...</td>\n",
       "      <td>...</td>\n",
       "      <td>...</td>\n",
       "      <td>...</td>\n",
       "      <td>...</td>\n",
       "      <td>...</td>\n",
       "      <td>...</td>\n",
       "    </tr>\n",
       "    <tr>\n",
       "      <th>563</th>\n",
       "      <td>shu</td>\n",
       "      <td>73.7614</td>\n",
       "      <td>43.5983</td>\n",
       "      <td>1620956839</td>\n",
       "      <td>58.71</td>\n",
       "      <td>44</td>\n",
       "      <td>55</td>\n",
       "      <td>1.97</td>\n",
       "      <td>58.71</td>\n",
       "    </tr>\n",
       "    <tr>\n",
       "      <th>564</th>\n",
       "      <td>mehamn</td>\n",
       "      <td>27.8492</td>\n",
       "      <td>71.0357</td>\n",
       "      <td>1620956840</td>\n",
       "      <td>33.84</td>\n",
       "      <td>66</td>\n",
       "      <td>97</td>\n",
       "      <td>11.97</td>\n",
       "      <td>33.84</td>\n",
       "    </tr>\n",
       "    <tr>\n",
       "      <th>565</th>\n",
       "      <td>bandiagara</td>\n",
       "      <td>-3.6104</td>\n",
       "      <td>14.3501</td>\n",
       "      <td>1620956840</td>\n",
       "      <td>88.81</td>\n",
       "      <td>11</td>\n",
       "      <td>71</td>\n",
       "      <td>4.21</td>\n",
       "      <td>88.81</td>\n",
       "    </tr>\n",
       "    <tr>\n",
       "      <th>566</th>\n",
       "      <td>mecca</td>\n",
       "      <td>39.8261</td>\n",
       "      <td>21.4267</td>\n",
       "      <td>1620956841</td>\n",
       "      <td>82.22</td>\n",
       "      <td>30</td>\n",
       "      <td>0</td>\n",
       "      <td>5.55</td>\n",
       "      <td>82.22</td>\n",
       "    </tr>\n",
       "    <tr>\n",
       "      <th>567</th>\n",
       "      <td>maniwaki</td>\n",
       "      <td>-75.9660</td>\n",
       "      <td>46.3834</td>\n",
       "      <td>1620956841</td>\n",
       "      <td>50.00</td>\n",
       "      <td>66</td>\n",
       "      <td>98</td>\n",
       "      <td>2.30</td>\n",
       "      <td>50.00</td>\n",
       "    </tr>\n",
       "  </tbody>\n",
       "</table>\n",
       "<p>568 rows × 9 columns</p>\n",
       "</div>"
      ],
      "text/plain": [
       "             City  Longitude  Latitude        Date  Temperature (F)  \\\n",
       "0     pangnirtung   -65.7125   66.1451  1620956631            24.71   \n",
       "1         pangody    74.4859   65.8500  1620956632            31.08   \n",
       "2         ushuaia   -68.3000  -54.8000  1620956435            42.80   \n",
       "3    ponta do sol   -17.1000   32.6667  1620956632            60.37   \n",
       "4          anadyr   177.4833   64.7500  1620956633            35.26   \n",
       "..            ...        ...       ...         ...              ...   \n",
       "563           shu    73.7614   43.5983  1620956839            58.71   \n",
       "564        mehamn    27.8492   71.0357  1620956840            33.84   \n",
       "565    bandiagara    -3.6104   14.3501  1620956840            88.81   \n",
       "566         mecca    39.8261   21.4267  1620956841            82.22   \n",
       "567      maniwaki   -75.9660   46.3834  1620956841            50.00   \n",
       "\n",
       "     Humidity (%)  Cloudiness (%)  Wind Speed (mph)  Max Temperature (F)  \n",
       "0              97              98              1.21                24.71  \n",
       "1              97             100             15.01                31.08  \n",
       "2              61               0              5.75                42.80  \n",
       "3              55              20             17.27                66.20  \n",
       "4              87              75              6.71                35.60  \n",
       "..            ...             ...               ...                  ...  \n",
       "563            44              55              1.97                58.71  \n",
       "564            66              97             11.97                33.84  \n",
       "565            11              71              4.21                88.81  \n",
       "566            30               0              5.55                82.22  \n",
       "567            66              98              2.30                50.00  \n",
       "\n",
       "[568 rows x 9 columns]"
      ]
     },
     "execution_count": 23,
     "metadata": {},
     "output_type": "execute_result"
    }
   ],
   "source": [
    "clean_city_data"
   ]
  },
  {
   "cell_type": "code",
   "execution_count": null,
   "metadata": {},
   "outputs": [],
   "source": [
    "\n"
   ]
  },
  {
   "cell_type": "markdown",
   "metadata": {},
   "source": [
    "## Plotting the Data\n",
    "* Use proper labeling of the plots using plot titles (including date of analysis) and axes labels.\n",
    "* Save the plotted figures as .pngs."
   ]
  },
  {
   "cell_type": "markdown",
   "metadata": {},
   "source": [
    "## Latitude vs. Temperature Plot"
   ]
  },
  {
   "cell_type": "code",
   "execution_count": 54,
   "metadata": {
    "scrolled": true
   },
   "outputs": [
    {
     "data": {
      "image/png": "[encoded data removed]",
      "text/plain": [
       "<Figure size 576x432 with 1 Axes>"
      ]
     },
     "metadata": {
      "needs_background": "light"
     },
     "output_type": "display_data"
    }
   ],
   "source": [
    "# Create and set figure size\n",
    "fig1, ax1 = plt.subplots(figsize=(8,6));\n",
    "\n",
    "# Create scatterplot\n",
    "ax1.scatter(latitudes, clean_city_data[\"Temperature (F)\"]);\n",
    "\n",
    "# Set chart title and labels\n",
    "ax1.set_title('Latitude vs. Temperature (F)');\n",
    "ax1.set_xlabel('Latitude');\n",
    "ax1.set_ylabel('Temperature (F)');\n",
    "\n",
    "# Save chart as .png\n",
    "plt.savefig(\"../output_data/latitude_vs_temperature_plot.png\")"
   ]
  },
  {
   "cell_type": "markdown",
   "metadata": {},
   "source": [
    "### Analysis:\n",
    "\n",
    "The code is creating a scatterplot of latitude vs temperature. We're taking every city's latitude and temperature and comparing it to the other cities. The general trend is that temperature increases as one approaches the equator, and temperature drops the further one gets from the equator."
   ]
  },
  {
   "cell_type": "markdown",
   "metadata": {},
   "source": [
    "## Latitude vs. Humidity Plot"
   ]
  },
  {
   "cell_type": "code",
   "execution_count": 55,
   "metadata": {},
   "outputs": [
    {
     "data": {
      "image/png": "[encoded data removed]",
      "text/plain": [
       "<Figure size 576x432 with 1 Axes>"
      ]
     },
     "metadata": {
      "needs_background": "light"
     },
     "output_type": "display_data"
    }
   ],
   "source": [
    "# Create and set figure size\n",
    "fig2, ax2 = plt.subplots(figsize=(8,6));\n",
    "\n",
    "# Create scatterplot\n",
    "ax2.scatter(latitudes, clean_city_data[\"Humidity (%)\"]);\n",
    "\n",
    "# Set chart title and labels\n",
    "ax2.set_title('Latitude vs. Humidity (%)');\n",
    "ax2.set_xlabel('Latitude');\n",
    "ax2.set_ylabel('Humidity (%)');\n",
    "\n",
    "# Save chart as .png\n",
    "plt.savefig(\"../output_data/latitude_vs_humidity_plot.png\")"
   ]
  },
  {
   "cell_type": "markdown",
   "metadata": {},
   "source": [
    "### Analysis:\n",
    "\n",
    "The code is creating a scatterplot of latitude vs humidity. We're taking every city's latitude and humidity and comparing it to the other cities. Around the equator, there seems to be almost no cities with low humidity."
   ]
  },
  {
   "cell_type": "markdown",
   "metadata": {},
   "source": [
    "## Latitude vs. Cloudiness Plot"
   ]
  },
  {
   "cell_type": "code",
   "execution_count": 56,
   "metadata": {},
   "outputs": [
    {
     "data": {
      "image/png": "[encoded data removed]",
      "text/plain": [
       "<Figure size 576x432 with 1 Axes>"
      ]
     },
     "metadata": {
      "needs_background": "light"
     },
     "output_type": "display_data"
    }
   ],
   "source": [
    "# Create and set figure size\n",
    "fig3, ax3 = plt.subplots(figsize=(8,6));\n",
    "\n",
    "# Create scatterplot\n",
    "ax3.scatter(latitudes, clean_city_data[\"Cloudiness (%)\"]);\n",
    "\n",
    "# Set chart title and labels\n",
    "ax3.set_title('Latitude vs. Cloudiness (%)');\n",
    "ax3.set_xlabel('Latitude');\n",
    "ax3.set_ylabel('Cloudiness (%)');\n",
    "\n",
    "# Save chart as .png\n",
    "plt.savefig(\"../output_data/latitude_vs_cloudiness_plot.png\")"
   ]
  },
  {
   "cell_type": "markdown",
   "metadata": {},
   "source": [
    "### Analysis:\n",
    "\n",
    "The code is creating a scatterplot of latitude vs cloudiness. We're taking every city's latitude and cloudiness and comparing it to the other cities. There does not seem to be any correlation between the two variables however there cities seem to hover around 0%, 20%, 40%, 75%, and 100% cloudiness."
   ]
  },
  {
   "cell_type": "markdown",
   "metadata": {},
   "source": [
    "## Latitude vs. Wind Speed Plot"
   ]
  },
  {
   "cell_type": "code",
   "execution_count": 57,
   "metadata": {},
   "outputs": [
    {
     "data": {
      "image/png": "[encoded data removed]",
      "text/plain": [
       "<Figure size 576x432 with 1 Axes>"
      ]
     },
     "metadata": {
      "needs_background": "light"
     },
     "output_type": "display_data"
    }
   ],
   "source": [
    "# Create and set figure size\n",
    "fig4, ax4 = plt.subplots(figsize=(8,6));\n",
    "\n",
    "# Create scatterplot\n",
    "ax4.scatter(latitudes, clean_city_data[\"Wind Speed (mph)\"]);\n",
    "\n",
    "# Set chart title and labels\n",
    "ax4.set_title('Latitude vs. Wind Speed (mph)');\n",
    "ax4.set_xlabel('Latitude');\n",
    "ax4.set_ylabel('Wind Speed (mph)');\n",
    "\n",
    "# Save chart as .png\n",
    "plt.savefig(\"../output_data/latitude_vs_wind_speed_plot.png\")"
   ]
  },
  {
   "cell_type": "markdown",
   "metadata": {},
   "source": [
    "### Analysis:\n",
    "\n",
    "The code is creating a scatterplot of latitude vs wind speed. We're taking every city's latitude and wind speed and comparing it to the other cities. There does not seem to be any correlation between the two variables."
   ]
  },
  {
   "cell_type": "markdown",
   "metadata": {},
   "source": [
    "## Linear Regression"
   ]
  },
  {
   "cell_type": "code",
   "execution_count": 33,
   "metadata": {
    "scrolled": true
   },
   "outputs": [
    {
     "data": {
      "text/html": [
       "<div>\n",
       "<style scoped>\n",
       "    .dataframe tbody tr th:only-of-type {\n",
       "        vertical-align: middle;\n",
       "    }\n",
       "\n",
       "    .dataframe tbody tr th {\n",
       "        vertical-align: top;\n",
       "    }\n",
       "\n",
       "    .dataframe thead th {\n",
       "        text-align: right;\n",
       "    }\n",
       "</style>\n",
       "<table border=\"1\" class=\"dataframe\">\n",
       "  <thead>\n",
       "    <tr style=\"text-align: right;\">\n",
       "      <th></th>\n",
       "      <th>index</th>\n",
       "      <th>City</th>\n",
       "      <th>Longitude</th>\n",
       "      <th>Latitude</th>\n",
       "      <th>Date</th>\n",
       "      <th>Temperature (F)</th>\n",
       "      <th>Humidity (%)</th>\n",
       "      <th>Cloudiness (%)</th>\n",
       "      <th>Wind Speed (mph)</th>\n",
       "      <th>Max Temperature (F)</th>\n",
       "    </tr>\n",
       "  </thead>\n",
       "  <tbody>\n",
       "    <tr>\n",
       "      <th>0</th>\n",
       "      <td>0</td>\n",
       "      <td>pangnirtung</td>\n",
       "      <td>-65.7125</td>\n",
       "      <td>66.1451</td>\n",
       "      <td>1620956631</td>\n",
       "      <td>24.71</td>\n",
       "      <td>97</td>\n",
       "      <td>98</td>\n",
       "      <td>1.21</td>\n",
       "      <td>24.71</td>\n",
       "    </tr>\n",
       "    <tr>\n",
       "      <th>1</th>\n",
       "      <td>1</td>\n",
       "      <td>pangody</td>\n",
       "      <td>74.4859</td>\n",
       "      <td>65.8500</td>\n",
       "      <td>1620956632</td>\n",
       "      <td>31.08</td>\n",
       "      <td>97</td>\n",
       "      <td>100</td>\n",
       "      <td>15.01</td>\n",
       "      <td>31.08</td>\n",
       "    </tr>\n",
       "    <tr>\n",
       "      <th>2</th>\n",
       "      <td>3</td>\n",
       "      <td>ponta do sol</td>\n",
       "      <td>-17.1000</td>\n",
       "      <td>32.6667</td>\n",
       "      <td>1620956632</td>\n",
       "      <td>60.37</td>\n",
       "      <td>55</td>\n",
       "      <td>20</td>\n",
       "      <td>17.27</td>\n",
       "      <td>66.20</td>\n",
       "    </tr>\n",
       "    <tr>\n",
       "      <th>3</th>\n",
       "      <td>4</td>\n",
       "      <td>anadyr</td>\n",
       "      <td>177.4833</td>\n",
       "      <td>64.7500</td>\n",
       "      <td>1620956633</td>\n",
       "      <td>35.26</td>\n",
       "      <td>87</td>\n",
       "      <td>75</td>\n",
       "      <td>6.71</td>\n",
       "      <td>35.60</td>\n",
       "    </tr>\n",
       "    <tr>\n",
       "      <th>4</th>\n",
       "      <td>9</td>\n",
       "      <td>yemtsa</td>\n",
       "      <td>40.3329</td>\n",
       "      <td>63.0734</td>\n",
       "      <td>1620956634</td>\n",
       "      <td>59.45</td>\n",
       "      <td>75</td>\n",
       "      <td>95</td>\n",
       "      <td>3.53</td>\n",
       "      <td>59.45</td>\n",
       "    </tr>\n",
       "    <tr>\n",
       "      <th>...</th>\n",
       "      <td>...</td>\n",
       "      <td>...</td>\n",
       "      <td>...</td>\n",
       "      <td>...</td>\n",
       "      <td>...</td>\n",
       "      <td>...</td>\n",
       "      <td>...</td>\n",
       "      <td>...</td>\n",
       "      <td>...</td>\n",
       "      <td>...</td>\n",
       "    </tr>\n",
       "    <tr>\n",
       "      <th>389</th>\n",
       "      <td>563</td>\n",
       "      <td>shu</td>\n",
       "      <td>73.7614</td>\n",
       "      <td>43.5983</td>\n",
       "      <td>1620956839</td>\n",
       "      <td>58.71</td>\n",
       "      <td>44</td>\n",
       "      <td>55</td>\n",
       "      <td>1.97</td>\n",
       "      <td>58.71</td>\n",
       "    </tr>\n",
       "    <tr>\n",
       "      <th>390</th>\n",
       "      <td>564</td>\n",
       "      <td>mehamn</td>\n",
       "      <td>27.8492</td>\n",
       "      <td>71.0357</td>\n",
       "      <td>1620956840</td>\n",
       "      <td>33.84</td>\n",
       "      <td>66</td>\n",
       "      <td>97</td>\n",
       "      <td>11.97</td>\n",
       "      <td>33.84</td>\n",
       "    </tr>\n",
       "    <tr>\n",
       "      <th>391</th>\n",
       "      <td>565</td>\n",
       "      <td>bandiagara</td>\n",
       "      <td>-3.6104</td>\n",
       "      <td>14.3501</td>\n",
       "      <td>1620956840</td>\n",
       "      <td>88.81</td>\n",
       "      <td>11</td>\n",
       "      <td>71</td>\n",
       "      <td>4.21</td>\n",
       "      <td>88.81</td>\n",
       "    </tr>\n",
       "    <tr>\n",
       "      <th>392</th>\n",
       "      <td>566</td>\n",
       "      <td>mecca</td>\n",
       "      <td>39.8261</td>\n",
       "      <td>21.4267</td>\n",
       "      <td>1620956841</td>\n",
       "      <td>82.22</td>\n",
       "      <td>30</td>\n",
       "      <td>0</td>\n",
       "      <td>5.55</td>\n",
       "      <td>82.22</td>\n",
       "    </tr>\n",
       "    <tr>\n",
       "      <th>393</th>\n",
       "      <td>567</td>\n",
       "      <td>maniwaki</td>\n",
       "      <td>-75.9660</td>\n",
       "      <td>46.3834</td>\n",
       "      <td>1620956841</td>\n",
       "      <td>50.00</td>\n",
       "      <td>66</td>\n",
       "      <td>98</td>\n",
       "      <td>2.30</td>\n",
       "      <td>50.00</td>\n",
       "    </tr>\n",
       "  </tbody>\n",
       "</table>\n",
       "<p>394 rows × 10 columns</p>\n",
       "</div>"
      ],
      "text/plain": [
       "     index          City  Longitude  Latitude        Date  Temperature (F)  \\\n",
       "0        0   pangnirtung   -65.7125   66.1451  1620956631            24.71   \n",
       "1        1       pangody    74.4859   65.8500  1620956632            31.08   \n",
       "2        3  ponta do sol   -17.1000   32.6667  1620956632            60.37   \n",
       "3        4        anadyr   177.4833   64.7500  1620956633            35.26   \n",
       "4        9        yemtsa    40.3329   63.0734  1620956634            59.45   \n",
       "..     ...           ...        ...       ...         ...              ...   \n",
       "389    563           shu    73.7614   43.5983  1620956839            58.71   \n",
       "390    564        mehamn    27.8492   71.0357  1620956840            33.84   \n",
       "391    565    bandiagara    -3.6104   14.3501  1620956840            88.81   \n",
       "392    566         mecca    39.8261   21.4267  1620956841            82.22   \n",
       "393    567      maniwaki   -75.9660   46.3834  1620956841            50.00   \n",
       "\n",
       "     Humidity (%)  Cloudiness (%)  Wind Speed (mph)  Max Temperature (F)  \n",
       "0              97              98              1.21                24.71  \n",
       "1              97             100             15.01                31.08  \n",
       "2              55              20             17.27                66.20  \n",
       "3              87              75              6.71                35.60  \n",
       "4              75              95              3.53                59.45  \n",
       "..            ...             ...               ...                  ...  \n",
       "389            44              55              1.97                58.71  \n",
       "390            66              97             11.97                33.84  \n",
       "391            11              71              4.21                88.81  \n",
       "392            30               0              5.55                82.22  \n",
       "393            66              98              2.30                50.00  \n",
       "\n",
       "[394 rows x 10 columns]"
      ]
     },
     "execution_count": 33,
     "metadata": {},
     "output_type": "execute_result"
    }
   ],
   "source": [
    "northern_hemisphere = clean_city_data[clean_city_data['Latitude'] >= 0]\n",
    "northern_hemisphere.reset_index(inplace=True)\n",
    "northern_hemisphere"
   ]
  },
  {
   "cell_type": "code",
   "execution_count": 34,
   "metadata": {},
   "outputs": [
    {
     "data": {
      "text/html": [
       "<div>\n",
       "<style scoped>\n",
       "    .dataframe tbody tr th:only-of-type {\n",
       "        vertical-align: middle;\n",
       "    }\n",
       "\n",
       "    .dataframe tbody tr th {\n",
       "        vertical-align: top;\n",
       "    }\n",
       "\n",
       "    .dataframe thead th {\n",
       "        text-align: right;\n",
       "    }\n",
       "</style>\n",
       "<table border=\"1\" class=\"dataframe\">\n",
       "  <thead>\n",
       "    <tr style=\"text-align: right;\">\n",
       "      <th></th>\n",
       "      <th>index</th>\n",
       "      <th>City</th>\n",
       "      <th>Longitude</th>\n",
       "      <th>Latitude</th>\n",
       "      <th>Date</th>\n",
       "      <th>Temperature (F)</th>\n",
       "      <th>Humidity (%)</th>\n",
       "      <th>Cloudiness (%)</th>\n",
       "      <th>Wind Speed (mph)</th>\n",
       "      <th>Max Temperature (F)</th>\n",
       "    </tr>\n",
       "  </thead>\n",
       "  <tbody>\n",
       "    <tr>\n",
       "      <th>0</th>\n",
       "      <td>2</td>\n",
       "      <td>ushuaia</td>\n",
       "      <td>-68.3000</td>\n",
       "      <td>-54.8000</td>\n",
       "      <td>1620956435</td>\n",
       "      <td>42.80</td>\n",
       "      <td>61</td>\n",
       "      <td>0</td>\n",
       "      <td>5.75</td>\n",
       "      <td>42.80</td>\n",
       "    </tr>\n",
       "    <tr>\n",
       "      <th>1</th>\n",
       "      <td>5</td>\n",
       "      <td>geraldton</td>\n",
       "      <td>114.6000</td>\n",
       "      <td>-28.7667</td>\n",
       "      <td>1620956633</td>\n",
       "      <td>78.80</td>\n",
       "      <td>36</td>\n",
       "      <td>71</td>\n",
       "      <td>25.32</td>\n",
       "      <td>78.80</td>\n",
       "    </tr>\n",
       "    <tr>\n",
       "      <th>2</th>\n",
       "      <td>6</td>\n",
       "      <td>vaini</td>\n",
       "      <td>-175.2000</td>\n",
       "      <td>-21.2000</td>\n",
       "      <td>1620956633</td>\n",
       "      <td>77.00</td>\n",
       "      <td>73</td>\n",
       "      <td>75</td>\n",
       "      <td>6.91</td>\n",
       "      <td>77.00</td>\n",
       "    </tr>\n",
       "    <tr>\n",
       "      <th>3</th>\n",
       "      <td>7</td>\n",
       "      <td>castro</td>\n",
       "      <td>-50.0119</td>\n",
       "      <td>-24.7911</td>\n",
       "      <td>1620956634</td>\n",
       "      <td>55.60</td>\n",
       "      <td>70</td>\n",
       "      <td>91</td>\n",
       "      <td>6.93</td>\n",
       "      <td>55.60</td>\n",
       "    </tr>\n",
       "    <tr>\n",
       "      <th>4</th>\n",
       "      <td>8</td>\n",
       "      <td>quatre cocos</td>\n",
       "      <td>57.7625</td>\n",
       "      <td>-20.2078</td>\n",
       "      <td>1620956634</td>\n",
       "      <td>76.14</td>\n",
       "      <td>78</td>\n",
       "      <td>40</td>\n",
       "      <td>11.50</td>\n",
       "      <td>77.00</td>\n",
       "    </tr>\n",
       "    <tr>\n",
       "      <th>...</th>\n",
       "      <td>...</td>\n",
       "      <td>...</td>\n",
       "      <td>...</td>\n",
       "      <td>...</td>\n",
       "      <td>...</td>\n",
       "      <td>...</td>\n",
       "      <td>...</td>\n",
       "      <td>...</td>\n",
       "      <td>...</td>\n",
       "      <td>...</td>\n",
       "    </tr>\n",
       "    <tr>\n",
       "      <th>169</th>\n",
       "      <td>539</td>\n",
       "      <td>pontianak</td>\n",
       "      <td>109.3333</td>\n",
       "      <td>-0.0333</td>\n",
       "      <td>1620956642</td>\n",
       "      <td>82.40</td>\n",
       "      <td>78</td>\n",
       "      <td>75</td>\n",
       "      <td>4.21</td>\n",
       "      <td>82.40</td>\n",
       "    </tr>\n",
       "    <tr>\n",
       "      <th>170</th>\n",
       "      <td>541</td>\n",
       "      <td>roebourne</td>\n",
       "      <td>117.1333</td>\n",
       "      <td>-20.7833</td>\n",
       "      <td>1620956831</td>\n",
       "      <td>81.88</td>\n",
       "      <td>26</td>\n",
       "      <td>3</td>\n",
       "      <td>20.22</td>\n",
       "      <td>81.88</td>\n",
       "    </tr>\n",
       "    <tr>\n",
       "      <th>171</th>\n",
       "      <td>543</td>\n",
       "      <td>gondanglegi</td>\n",
       "      <td>112.0132</td>\n",
       "      <td>-7.7479</td>\n",
       "      <td>1620956832</td>\n",
       "      <td>82.78</td>\n",
       "      <td>71</td>\n",
       "      <td>100</td>\n",
       "      <td>12.37</td>\n",
       "      <td>82.78</td>\n",
       "    </tr>\n",
       "    <tr>\n",
       "      <th>172</th>\n",
       "      <td>548</td>\n",
       "      <td>uige</td>\n",
       "      <td>15.0613</td>\n",
       "      <td>-7.6087</td>\n",
       "      <td>1620956834</td>\n",
       "      <td>66.24</td>\n",
       "      <td>77</td>\n",
       "      <td>99</td>\n",
       "      <td>3.42</td>\n",
       "      <td>66.24</td>\n",
       "    </tr>\n",
       "    <tr>\n",
       "      <th>173</th>\n",
       "      <td>562</td>\n",
       "      <td>itapetinga</td>\n",
       "      <td>-40.2478</td>\n",
       "      <td>-15.2489</td>\n",
       "      <td>1620956839</td>\n",
       "      <td>64.58</td>\n",
       "      <td>92</td>\n",
       "      <td>100</td>\n",
       "      <td>1.50</td>\n",
       "      <td>64.58</td>\n",
       "    </tr>\n",
       "  </tbody>\n",
       "</table>\n",
       "<p>174 rows × 10 columns</p>\n",
       "</div>"
      ],
      "text/plain": [
       "     index          City  Longitude  Latitude        Date  Temperature (F)  \\\n",
       "0        2       ushuaia   -68.3000  -54.8000  1620956435            42.80   \n",
       "1        5     geraldton   114.6000  -28.7667  1620956633            78.80   \n",
       "2        6         vaini  -175.2000  -21.2000  1620956633            77.00   \n",
       "3        7        castro   -50.0119  -24.7911  1620956634            55.60   \n",
       "4        8  quatre cocos    57.7625  -20.2078  1620956634            76.14   \n",
       "..     ...           ...        ...       ...         ...              ...   \n",
       "169    539     pontianak   109.3333   -0.0333  1620956642            82.40   \n",
       "170    541     roebourne   117.1333  -20.7833  1620956831            81.88   \n",
       "171    543   gondanglegi   112.0132   -7.7479  1620956832            82.78   \n",
       "172    548          uige    15.0613   -7.6087  1620956834            66.24   \n",
       "173    562    itapetinga   -40.2478  -15.2489  1620956839            64.58   \n",
       "\n",
       "     Humidity (%)  Cloudiness (%)  Wind Speed (mph)  Max Temperature (F)  \n",
       "0              61               0              5.75                42.80  \n",
       "1              36              71             25.32                78.80  \n",
       "2              73              75              6.91                77.00  \n",
       "3              70              91              6.93                55.60  \n",
       "4              78              40             11.50                77.00  \n",
       "..            ...             ...               ...                  ...  \n",
       "169            78              75              4.21                82.40  \n",
       "170            26               3             20.22                81.88  \n",
       "171            71             100             12.37                82.78  \n",
       "172            77              99              3.42                66.24  \n",
       "173            92             100              1.50                64.58  \n",
       "\n",
       "[174 rows x 10 columns]"
      ]
     },
     "execution_count": 34,
     "metadata": {},
     "output_type": "execute_result"
    }
   ],
   "source": [
    "southern_hemisphere = clean_city_data[clean_city_data['Latitude'] < 0]\n",
    "southern_hemisphere.reset_index(inplace=True)\n",
    "southern_hemisphere"
   ]
  },
  {
   "cell_type": "markdown",
   "metadata": {},
   "source": [
    "####  Northern Hemisphere - Max Temp vs. Latitude Linear Regression"
   ]
  },
  {
   "cell_type": "code",
   "execution_count": 46,
   "metadata": {},
   "outputs": [
    {
     "name": "stdout",
     "output_type": "stream",
     "text": [
      "The equation of the regression line is: y = -0.96x + 98.19\n"
     ]
    },
    {
     "data": {
      "image/png": "[encoded data removed]",
      "text/plain": [
       "<Figure size 432x288 with 1 Axes>"
      ]
     },
     "metadata": {
      "needs_background": "light"
     },
     "output_type": "display_data"
    }
   ],
   "source": [
    "# Plot of Max Temp vs Latitude in the northern hemisphere\n",
    "x_values = northern_hemisphere['Max Temperature (F)']\n",
    "y_values = northern_hemisphere['Latitude']\n",
    "(slope, intercept, rvalue, pvalue, stderr) = linregress(x_values, y_values)\n",
    "regress_values = x_values * slope + intercept\n",
    "line_eq = \"y = \" + str(round(slope,2)) + \"x + \" + str(round(intercept,2))\n",
    "plt.scatter(x_values,y_values)\n",
    "plt.plot(x_values,regress_values,\"r-\")\n",
    "plt.title('Max Temperature (F) vs. Latitude in Northern Hemisphere')\n",
    "plt.xlabel('Max Temperature (F)')\n",
    "plt.ylabel('Latitude')\n",
    "print(f\"The equation of the regression line is: {line_eq}\")\n",
    "plt.show()"
   ]
  },
  {
   "cell_type": "markdown",
   "metadata": {},
   "source": [
    "####  Southern Hemisphere - Max Temp vs. Latitude Linear Regression"
   ]
  },
  {
   "cell_type": "code",
   "execution_count": 47,
   "metadata": {},
   "outputs": [
    {
     "name": "stdout",
     "output_type": "stream",
     "text": [
      "The equation of the regression line is: y = 0.76x + -71.27\n"
     ]
    },
    {
     "data": {
      "image/png": "[encoded data removed]",
      "text/plain": [
       "<Figure size 432x288 with 1 Axes>"
      ]
     },
     "metadata": {
      "needs_background": "light"
     },
     "output_type": "display_data"
    }
   ],
   "source": [
    "# Plot of Max Temp vs Latitude in the southern hemisphere\n",
    "x_values = southern_hemisphere['Max Temperature (F)']\n",
    "y_values = southern_hemisphere['Latitude']\n",
    "(slope, intercept, rvalue, pvalue, stderr) = linregress(x_values, y_values)\n",
    "regress_values = x_values * slope + intercept\n",
    "line_eq = \"y = \" + str(round(slope,2)) + \"x + \" + str(round(intercept,2))\n",
    "plt.scatter(x_values,y_values)\n",
    "plt.plot(x_values,regress_values,\"r-\")\n",
    "plt.title('Max Temperature (F) vs. Latitude in Southern Hemisphere')\n",
    "plt.xlabel('Max Temperature (F)')\n",
    "plt.ylabel('Latitude')\n",
    "print(f\"The equation of the regression line is: {line_eq}\")\n",
    "plt.show()"
   ]
  },
  {
   "cell_type": "markdown",
   "metadata": {},
   "source": [
    "### Analysis:\n",
    "\n",
    "The code is creating a scatterplot of max temperature vs latitude in both the northern and southern hemispheres. The data shows a general trend that as one approaches the equator (0 degrees) the max temperature increases."
   ]
  },
  {
   "cell_type": "markdown",
   "metadata": {},
   "source": [
    "####  Northern Hemisphere - Humidity (%) vs. Latitude Linear Regression"
   ]
  },
  {
   "cell_type": "code",
   "execution_count": 53,
   "metadata": {},
   "outputs": [
    {
     "name": "stdout",
     "output_type": "stream",
     "text": [
      "The equation of the regression line is: y = 0.07x + 33.72\n"
     ]
    },
    {
     "data": {
      "image/png": "[encoded data removed]",
      "text/plain": [
       "<Figure size 432x288 with 1 Axes>"
      ]
     },
     "metadata": {
      "needs_background": "light"
     },
     "output_type": "display_data"
    }
   ],
   "source": [
    "# Plot of Humidity vs Latitude in the northern hemisphere\n",
    "x_values = northern_hemisphere['Humidity (%)']\n",
    "y_values = northern_hemisphere['Latitude']\n",
    "(slope, intercept, rvalue, pvalue, stderr) = linregress(x_values, y_values)\n",
    "regress_values = x_values * slope + intercept\n",
    "line_eq = \"y = \" + str(round(slope,2)) + \"x + \" + str(round(intercept,2))\n",
    "plt.scatter(x_values,y_values)\n",
    "plt.plot(x_values,regress_values,\"r-\")\n",
    "plt.title('Humidity (%) vs. Latitude in Northern Hemisphere')\n",
    "plt.xlabel('Humidity (%)')\n",
    "plt.ylabel('Latitude')\n",
    "print(f\"The equation of the regression line is: {line_eq}\")\n",
    "plt.show()"
   ]
  },
  {
   "cell_type": "markdown",
   "metadata": {},
   "source": [
    "####  Southern Hemisphere - Humidity (%) vs. Latitude Linear Regression"
   ]
  },
  {
   "cell_type": "code",
   "execution_count": 48,
   "metadata": {
    "scrolled": true
   },
   "outputs": [
    {
     "name": "stdout",
     "output_type": "stream",
     "text": [
      "The equation of the regression line is: y = 0.18x + -32.93\n"
     ]
    },
    {
     "data": {
      "image/png": "[encoded data removed]",
      "text/plain": [
       "<Figure size 432x288 with 1 Axes>"
      ]
     },
     "metadata": {
      "needs_background": "light"
     },
     "output_type": "display_data"
    }
   ],
   "source": [
    "# Plot of Humidity vs Latitude in the southern hemisphere\n",
    "x_values = southern_hemisphere['Humidity (%)']\n",
    "y_values = southern_hemisphere['Latitude']\n",
    "(slope, intercept, rvalue, pvalue, stderr) = linregress(x_values, y_values)\n",
    "regress_values = x_values * slope + intercept\n",
    "line_eq = \"y = \" + str(round(slope,2)) + \"x + \" + str(round(intercept,2))\n",
    "plt.scatter(x_values,y_values)\n",
    "plt.plot(x_values,regress_values,\"r-\")\n",
    "plt.title('Humidity (%) vs. Latitude in Southern Hemisphere')\n",
    "plt.xlabel('Humidity (%)')\n",
    "plt.ylabel('Latitude')\n",
    "print(f\"The equation of the regression line is: {line_eq}\")\n",
    "plt.show()"
   ]
  },
  {
   "cell_type": "markdown",
   "metadata": {},
   "source": [
    "### Analysis:\n",
    "\n",
    "The code is creating a scatterplot of humidity vs latitude in both the northern and southern hemispheres. The data appears to be pretty random with a slightly positive correlation in both the hemispheres implying the further north, the higher the humidity. Again however, there is only a very weak, almost non-existent correlation."
   ]
  },
  {
   "cell_type": "markdown",
   "metadata": {},
   "source": [
    "####  Northern Hemisphere - Cloudiness (%) vs. Latitude Linear Regression"
   ]
  },
  {
   "cell_type": "code",
   "execution_count": 52,
   "metadata": {},
   "outputs": [
    {
     "name": "stdout",
     "output_type": "stream",
     "text": [
      "The equation of the regression line is: y = 0.07x + 34.48\n"
     ]
    },
    {
     "data": {
      "image/png": "[encoded data removed]",
      "text/plain": [
       "<Figure size 432x288 with 1 Axes>"
      ]
     },
     "metadata": {
      "needs_background": "light"
     },
     "output_type": "display_data"
    }
   ],
   "source": [
    "# Plot of Cloudiness vs Latitude in the northern hemisphere\n",
    "x_values = northern_hemisphere['Cloudiness (%)']\n",
    "y_values = northern_hemisphere['Latitude']\n",
    "(slope, intercept, rvalue, pvalue, stderr) = linregress(x_values, y_values)\n",
    "regress_values = x_values * slope + intercept\n",
    "line_eq = \"y = \" + str(round(slope,2)) + \"x + \" + str(round(intercept,2))\n",
    "plt.scatter(x_values,y_values)\n",
    "plt.plot(x_values,regress_values,\"r-\")\n",
    "plt.title('Cloudiness (%) vs. Latitude in Northern Hemisphere')\n",
    "plt.xlabel('Cloudiness (%)')\n",
    "plt.ylabel('Latitude')\n",
    "print(f\"The equation of the regression line is: {line_eq}\")\n",
    "plt.show()"
   ]
  },
  {
   "cell_type": "markdown",
   "metadata": {},
   "source": [
    "####  Southern Hemisphere - Cloudiness (%) vs. Latitude Linear Regression"
   ]
  },
  {
   "cell_type": "code",
   "execution_count": 49,
   "metadata": {
    "scrolled": true
   },
   "outputs": [
    {
     "name": "stdout",
     "output_type": "stream",
     "text": [
      "The equation of the regression line is: y = 0.03x + -21.52\n"
     ]
    },
    {
     "data": {
      "image/png": "[encoded data removed]",
      "text/plain": [
       "<Figure size 432x288 with 1 Axes>"
      ]
     },
     "metadata": {
      "needs_background": "light"
     },
     "output_type": "display_data"
    }
   ],
   "source": [
    "# Plot of Cloudiness vs Latitude in the southern hemisphere\n",
    "x_values = southern_hemisphere['Cloudiness (%)']\n",
    "y_values = southern_hemisphere['Latitude']\n",
    "(slope, intercept, rvalue, pvalue, stderr) = linregress(x_values, y_values)\n",
    "regress_values = x_values * slope + intercept\n",
    "line_eq = \"y = \" + str(round(slope,2)) + \"x + \" + str(round(intercept,2))\n",
    "plt.scatter(x_values,y_values)\n",
    "plt.plot(x_values,regress_values,\"r-\")\n",
    "plt.title('Cloudiness (%) vs. Latitude in Southern Hemisphere')\n",
    "plt.xlabel('Cloudiness (%)')\n",
    "plt.ylabel('Latitude')\n",
    "print(f\"The equation of the regression line is: {line_eq}\")\n",
    "plt.show()"
   ]
  },
  {
   "cell_type": "markdown",
   "metadata": {},
   "source": [
    "### Analysis:\n",
    "\n",
    "The code is creating a scatterplot of cloudiness vs latitude in both the northern and southern hemispheres. The data suggests lack of a pattern in both hemispheres and suggests that there is no relationship between cloudiness and how far it is from the hemisphere."
   ]
  },
  {
   "cell_type": "markdown",
   "metadata": {},
   "source": [
    "####  Northern Hemisphere - Wind Speed (mph) vs. Latitude Linear Regression"
   ]
  },
  {
   "cell_type": "code",
   "execution_count": 51,
   "metadata": {},
   "outputs": [
    {
     "name": "stdout",
     "output_type": "stream",
     "text": [
      "The equation of the regression line is: y = -0.16x + 39.84\n"
     ]
    },
    {
     "data": {
      "image/png": "[encoded data removed]",
      "text/plain": [
       "<Figure size 432x288 with 1 Axes>"
      ]
     },
     "metadata": {
      "needs_background": "light"
     },
     "output_type": "display_data"
    }
   ],
   "source": [
    "# Plot of Wind Speed vs Latitude in the northern hemisphere\n",
    "x_values = northern_hemisphere['Wind Speed (mph)']\n",
    "y_values = northern_hemisphere['Latitude']\n",
    "(slope, intercept, rvalue, pvalue, stderr) = linregress(x_values, y_values)\n",
    "regress_values = x_values * slope + intercept\n",
    "line_eq = \"y = \" + str(round(slope,2)) + \"x + \" + str(round(intercept,2))\n",
    "plt.scatter(x_values,y_values)\n",
    "plt.plot(x_values,regress_values,\"r-\")\n",
    "plt.title('Wind Speed (mph) vs. Latitude in Northern Hemisphere')\n",
    "plt.xlabel('Wind Speed (mph)')\n",
    "plt.ylabel('Latitude')\n",
    "print(f\"The equation of the regression line is: {line_eq}\")\n",
    "plt.show()"
   ]
  },
  {
   "cell_type": "markdown",
   "metadata": {},
   "source": [
    "####  Southern Hemisphere - Wind Speed (mph) vs. Latitude Linear Regression"
   ]
  },
  {
   "cell_type": "code",
   "execution_count": 50,
   "metadata": {},
   "outputs": [
    {
     "name": "stdout",
     "output_type": "stream",
     "text": [
      "The equation of the regression line is: y = -0.37x + -17.29\n"
     ]
    },
    {
     "data": {
      "image/png": "[encoded data removed]",
      "text/plain": [
       "<Figure size 432x288 with 1 Axes>"
      ]
     },
     "metadata": {
      "needs_background": "light"
     },
     "output_type": "display_data"
    }
   ],
   "source": [
    "# Plot of Wind Speed vs Latitude in the southern hemisphere\n",
    "x_values = southern_hemisphere['Wind Speed (mph)']\n",
    "y_values = southern_hemisphere['Latitude']\n",
    "(slope, intercept, rvalue, pvalue, stderr) = linregress(x_values, y_values)\n",
    "regress_values = x_values * slope + intercept\n",
    "line_eq = \"y = \" + str(round(slope,2)) + \"x + \" + str(round(intercept,2))\n",
    "plt.scatter(x_values,y_values)\n",
    "plt.plot(x_values,regress_values,\"r-\")\n",
    "plt.title('Wind Speed (mph) vs. Latitude in Southern Hemisphere')\n",
    "plt.xlabel('Wind Speed (mph)')\n",
    "plt.ylabel('Latitude')\n",
    "print(f\"The equation of the regression line is: {line_eq}\")\n",
    "plt.show()"
   ]
  },
  {
   "cell_type": "markdown",
   "metadata": {},
   "source": [
    "### Analysis:\n",
    "\n",
    "The code is creating a scatterplot of wind speed vs latitude in both the northern and southern hemispheres. Again, the data does not appear to have much of a pattern or linear relationship. Although the southern hemisphere has a stronger negative correlation than the northern hemisphere."
   ]
  }
 ],
 "metadata": {
  "anaconda-cloud": {},
  "kernel_info": {
   "name": "python3"
  },
  "kernelspec": {
   "display_name": "Python 3",
   "language": "python",
   "name": "python3"
  },
  "language_info": {
   "codemirror_mode": {
    "name": "ipython",
    "version": 3
   },
   "file_extension": ".py",
   "mimetype": "text/x-python",
   "name": "python",
   "nbconvert_exporter": "python",
   "pygments_lexer": "ipython3",
   "version": "3.8.5"
  },
  "latex_envs": {
   "LaTeX_envs_menu_present": true,
   "autoclose": false,
   "autocomplete": true,
   "bibliofile": "biblio.bib",
   "cite_by": "apalike",
   "current_citInitial": 1,
   "eqLabelWithNumbers": true,
   "eqNumInitial": 1,
   "hotkeys": {
    "equation": "Ctrl-E",
    "itemize": "Ctrl-I"
   },
   "labels_anchors": false,
   "latex_user_defs": false,
   "report_style_numbering": false,
   "user_envs_cfg": false
  },
  "nteract": {
   "version": "0.12.3"
  }
 },
 "nbformat": 4,
 "nbformat_minor": 2
}
